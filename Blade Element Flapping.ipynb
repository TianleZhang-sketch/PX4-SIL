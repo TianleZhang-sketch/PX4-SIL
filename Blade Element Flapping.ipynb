{
 "metadata": {
  "name": "",
  "signature": "sha256:31a171223b85227124df7d0a1dacfa906f7d3fa2c79c9cf71d29de56cc6f5dce"
 },
 "nbformat": 3,
 "nbformat_minor": 0,
 "worksheets": [
  {
   "cells": [
    {
     "cell_type": "code",
     "collapsed": false,
     "input": [
      "import sympy\n",
      "import sympy.physics.mechanics as mech\n",
      "import scipy.integrate\n",
      "import numpy as np\n",
      "import matplotlib.pyplot as plt\n",
      "sympy.init_printing()\n",
      "sympy.physics.vector.init_vprinting()\n",
      "%matplotlib inline"
     ],
     "language": "python",
     "metadata": {},
     "outputs": [],
     "prompt_number": 1
    },
    {
     "cell_type": "code",
     "collapsed": false,
     "input": [
      "phi, theta, psi, gamma, alpha_l, alpha, beta_l, beta, s, v_x, v_y, v_z, t = \\\n",
      "    sympy.symbols('phi, theta, psi, \\gamma, alpha_l, alpha, beta_l, beta, s, v_x, v_y, v_z, t')\n",
      "frame_i = mech.ReferenceFrame('i')\n",
      "frame_b = frame_i.orientnew('b', 'Body', (psi(t), theta(t), phi(t)), '321')\n",
      "frame_w = frame_b.orientnew('w', 'Body', (beta(t), alpha(t), 0), '321')\n",
      "frame_f = frame_b.orientnew('f', 'Axis', (gamma(t), frame_b.x))\n",
      "frame_l = frame_f.orientnew('l', 'Body', (-beta_l(t), -alpha_l(t), 0), '321')"
     ],
     "language": "python",
     "metadata": {},
     "outputs": [],
     "prompt_number": 2
    },
    {
     "cell_type": "code",
     "collapsed": false,
     "input": [
      "point_cm = mech.Point('cm')\n",
      "point_cm.set_vel(frame_b, frame_b.x*v_x + frame_b.y*v_y + frame_b.z*v_z)\n",
      "point_p = point_cm.locatenew('p', -frame_f.y*s)\n",
      "point_p.set_vel(frame_f, 0)"
     ],
     "language": "python",
     "metadata": {},
     "outputs": [],
     "prompt_number": 3
    },
    {
     "cell_type": "code",
     "collapsed": false,
     "input": [
      "vel_p = point_p.v1pt_theory(point_cm, frame_b, frame_f)\n",
      "vel_p"
     ],
     "language": "python",
     "metadata": {},
     "outputs": [
      {
       "latex": [
        "$$v_{x}\\mathbf{\\hat{b}_x} + v_{y}\\mathbf{\\hat{b}_y} + v_{z}\\mathbf{\\hat{b}_z} -  s \\dot{\\gamma}\\mathbf{\\hat{f}_z}$$"
       ],
       "metadata": {},
       "output_type": "pyout",
       "png": "[encoded data removed]",
       "prompt_number": 4,
       "text": [
        "v\u2093 \u001b[94m\u001b[1mb_x\u001b[0;0m\u001b[0;0m + v_y \u001b[94m\u001b[1mb_y\u001b[0;0m\u001b[0;0m + v_z \u001b[94m\u001b[1mb_z\u001b[0;0m\u001b[0;0m - s\u22c5\\gam\u0307ma \u001b[94m\u001b[1mf_z\u001b[0;0m\u001b[0;0m"
       ]
      }
     ],
     "prompt_number": 4
    },
    {
     "cell_type": "code",
     "collapsed": false,
     "input": [
      "alpha_l_expr = sympy.atan(vel_p.dot(frame_f.z)/ vel_p.dot(frame_f.x))\n",
      "alpha_l_expr"
     ],
     "language": "python",
     "metadata": {},
     "outputs": [
      {
       "latex": [
        "$$\\operatorname{atan}\\left(\\frac{1}{v_{x}} \\left(- s \\dot{\\gamma} - v_{y} \\operatorname{sin}\\left(\\gamma\\right) + v_{z} \\operatorname{cos}\\left(\\gamma\\right)\\right)\\right)$$"
       ],
       "metadata": {},
       "output_type": "pyout",
       "png": "[encoded data removed]",
       "prompt_number": 5,
       "text": [
        "    \u239b-s\u22c5\\gam\u0307ma - v_y\u22c5sin(\\gamma) + v_z\u22c5cos(\\gamma)\u239e\n",
        "atan\u239c\u2500\u2500\u2500\u2500\u2500\u2500\u2500\u2500\u2500\u2500\u2500\u2500\u2500\u2500\u2500\u2500\u2500\u2500\u2500\u2500\u2500\u2500\u2500\u2500\u2500\u2500\u2500\u2500\u2500\u2500\u2500\u2500\u2500\u2500\u2500\u2500\u2500\u2500\u2500\u2500\u2500\u2500\u2500\u2500\u2500\u2500\u239f\n",
        "    \u239d                      v\u2093                      \u23a0"
       ]
      }
     ],
     "prompt_number": 5
    },
    {
     "cell_type": "code",
     "collapsed": false,
     "input": [
      "beta_l_expr = sympy.atan(vel_p.dot(frame_f.y)/ vel_p.dot(frame_f.x))\n",
      "beta_l_expr"
     ],
     "language": "python",
     "metadata": {},
     "outputs": [
      {
       "latex": [
        "$$\\operatorname{atan}\\left(\\frac{1}{v_{x}} \\left(v_{y} \\operatorname{cos}\\left(\\gamma\\right) + v_{z} \\operatorname{sin}\\left(\\gamma\\right)\\right)\\right)$$"
       ],
       "metadata": {},
       "output_type": "pyout",
       "png": "[encoded data removed]",
       "prompt_number": 6,
       "text": [
        "    \u239bv_y\u22c5cos(\\gamma) + v_z\u22c5sin(\\gamma)\u239e\n",
        "atan\u239c\u2500\u2500\u2500\u2500\u2500\u2500\u2500\u2500\u2500\u2500\u2500\u2500\u2500\u2500\u2500\u2500\u2500\u2500\u2500\u2500\u2500\u2500\u2500\u2500\u2500\u2500\u2500\u2500\u2500\u2500\u2500\u2500\u2500\u239f\n",
        "    \u239d                v\u2093               \u23a0"
       ]
      }
     ],
     "prompt_number": 6
    },
    {
     "cell_type": "code",
     "collapsed": false,
     "input": [
      "vel_p.express(frame_b)"
     ],
     "language": "python",
     "metadata": {},
     "outputs": [
      {
       "latex": [
        "$$v_{x}\\mathbf{\\hat{b}_x} + (s \\operatorname{sin}\\left(\\gamma\\right) \\dot{\\gamma} + v_{y})\\mathbf{\\hat{b}_y} + (- s \\operatorname{cos}\\left(\\gamma\\right) \\dot{\\gamma} + v_{z})\\mathbf{\\hat{b}_z}$$"
       ],
       "metadata": {},
       "output_type": "pyout",
       "png": "[encoded data removed]",
       "prompt_number": 7,
       "text": [
        "v\u2093 \u001b[94m\u001b[1mb_x\u001b[0;0m\u001b[0;0m + (s\u22c5sin(\\gamma)\u22c5\\gam\u0307ma + v_y) \u001b[94m\u001b[1mb_y\u001b[0;0m\u001b[0;0m + (-s\u22c5cos(\\gamma)\u22c5\\gam\u0307ma + v_z) \u001b[94m\u001b[1mb_z\u001b[0;0m\u001b[0;0m"
       ]
      }
     ],
     "prompt_number": 7
    },
    {
     "cell_type": "code",
     "collapsed": false,
     "input": [
      "CL_alpha = sympy.Symbol('C_L_alpha')\n",
      "CD_0 = sympy.Symbol('C_D_0')\n",
      "CL_0 = sympy.Symbol('C_L_0')\n",
      "c_bar = sympy.Symbol('c_bar')\n",
      "CL_alpha, c_bar"
     ],
     "language": "python",
     "metadata": {},
     "outputs": [
      {
       "latex": [
        "$$\\begin{pmatrix}C_{L \\alpha}, & c_{bar}\\end{pmatrix}$$"
       ],
       "metadata": {},
       "output_type": "pyout",
       "png": "[encoded data removed]",
       "prompt_number": 8,
       "text": [
        "(C_L_\u03b1, c_bar)"
       ]
      }
     ],
     "prompt_number": 8
    },
    {
     "cell_type": "code",
     "collapsed": false,
     "input": [
      "CL = CL_alpha*alpha_l(t) + CL_0\n",
      "CL"
     ],
     "language": "python",
     "metadata": {},
     "outputs": [
      {
       "latex": [
        "$$C_{L 0} + C_{L \\alpha} \\alpha_{l}$$"
       ],
       "metadata": {},
       "output_type": "pyout",
       "png": "[encoded data removed]",
       "prompt_number": 9,
       "text": [
        "C_L_0 + C_L_\u03b1\u22c5\u03b1_l"
       ]
      }
     ],
     "prompt_number": 9
    },
    {
     "cell_type": "code",
     "collapsed": false,
     "input": [
      "k, rho, S = sympy.symbols('k, rho, S')\n",
      "CD = k*CL**2 + CD_0\n",
      "CD"
     ],
     "language": "python",
     "metadata": {},
     "outputs": [
      {
       "latex": [
        "$$C_{D 0} + k \\left(C_{L 0} + C_{L \\alpha} \\alpha_{l}\\right)^{2}$$"
       ],
       "metadata": {},
       "output_type": "pyout",
       "png": "[encoded data removed]",
       "prompt_number": 10,
       "text": [
        "                             2\n",
        "C_D_0 + k\u22c5(C_L_0 + C_L_\u03b1\u22c5\u03b1_l) "
       ]
      }
     ],
     "prompt_number": 10
    },
    {
     "cell_type": "code",
     "collapsed": false,
     "input": [
      "q = rho*vel_p.dot(vel_p)/2\n",
      "q"
     ],
     "language": "python",
     "metadata": {},
     "outputs": [
      {
       "latex": [
        "$$\\frac{\\rho}{2} \\left(s^{2} \\left(\\dot{\\gamma}\\right)^{2} + s v_{y} \\operatorname{sin}\\left(\\gamma\\right) \\dot{\\gamma} - s v_{z} \\operatorname{cos}\\left(\\gamma\\right) \\dot{\\gamma} - s \\left(- v_{y} \\operatorname{sin}\\left(\\gamma\\right) + v_{z} \\operatorname{cos}\\left(\\gamma\\right)\\right) \\dot{\\gamma} + v_{x}^{2} + v_{y}^{2} + v_{z}^{2}\\right)$$"
       ],
       "metadata": {},
       "output_type": "pyout",
       "png": "[encoded data removed]",
       "prompt_number": 11,
       "text": [
        "  \u239b 2        2                                                                \n",
        "\u03c1\u22c5\u239ds \u22c5\\gam\u0307ma  + s\u22c5v_y\u22c5sin(\\gamma)\u22c5\\gam\u0307ma - s\u22c5v_z\u22c5cos(\\gamma)\u22c5\\gam\u0307ma - s\u22c5(-v\n",
        "\u2500\u2500\u2500\u2500\u2500\u2500\u2500\u2500\u2500\u2500\u2500\u2500\u2500\u2500\u2500\u2500\u2500\u2500\u2500\u2500\u2500\u2500\u2500\u2500\u2500\u2500\u2500\u2500\u2500\u2500\u2500\u2500\u2500\u2500\u2500\u2500\u2500\u2500\u2500\u2500\u2500\u2500\u2500\u2500\u2500\u2500\u2500\u2500\u2500\u2500\u2500\u2500\u2500\u2500\u2500\u2500\u2500\u2500\u2500\u2500\u2500\u2500\u2500\u2500\u2500\u2500\u2500\u2500\u2500\u2500\u2500\u2500\u2500\u2500\u2500\u2500\u2500\u2500\n",
        "                                                                     2        \n",
        "\n",
        "                                              2      2      2\u239e\n",
        "_y\u22c5sin(\\gamma) + v_z\u22c5cos(\\gamma))\u22c5\\gam\u0307ma + v\u2093  + v_y  + v_z \u23a0\n",
        "\u2500\u2500\u2500\u2500\u2500\u2500\u2500\u2500\u2500\u2500\u2500\u2500\u2500\u2500\u2500\u2500\u2500\u2500\u2500\u2500\u2500\u2500\u2500\u2500\u2500\u2500\u2500\u2500\u2500\u2500\u2500\u2500\u2500\u2500\u2500\u2500\u2500\u2500\u2500\u2500\u2500\u2500\u2500\u2500\u2500\u2500\u2500\u2500\u2500\u2500\u2500\u2500\u2500\u2500\u2500\u2500\u2500\u2500\u2500\u2500\u2500\u2500\n",
        "                                                              "
       ]
      }
     ],
     "prompt_number": 11
    },
    {
     "cell_type": "code",
     "collapsed": false,
     "input": [
      "L = -CL*q*c_bar*frame_l.z\n",
      "L"
     ],
     "language": "python",
     "metadata": {},
     "outputs": [
      {
       "latex": [
        "$$\\frac{c_{bar} \\rho}{2} \\left(- C_{L 0} - C_{L \\alpha} \\alpha_{l}\\right) \\left(s^{2} \\left(\\dot{\\gamma}\\right)^{2} + s v_{y} \\operatorname{sin}\\left(\\gamma\\right) \\dot{\\gamma} - s v_{z} \\operatorname{cos}\\left(\\gamma\\right) \\dot{\\gamma} - s \\left(- v_{y} \\operatorname{sin}\\left(\\gamma\\right) + v_{z} \\operatorname{cos}\\left(\\gamma\\right)\\right) \\dot{\\gamma} + v_{x}^{2} + v_{y}^{2} + v_{z}^{2}\\right)\\mathbf{\\hat{l}_z}$$"
       ],
       "metadata": {},
       "output_type": "pyout",
       "png": "[encoded data removed]",
       "prompt_number": 12,
       "text": [
        "                             \u239b 2        2                                     \n",
        "c_bar\u22c5\u03c1\u22c5(-C_L_0 - C_L_\u03b1\u22c5\u03b1_l)\u22c5\u239ds \u22c5\\gam\u0307ma  + s\u22c5v_y\u22c5sin(\\gamma)\u22c5\\gam\u0307ma - s\u22c5v_z\u22c5\n",
        "\u2500\u2500\u2500\u2500\u2500\u2500\u2500\u2500\u2500\u2500\u2500\u2500\u2500\u2500\u2500\u2500\u2500\u2500\u2500\u2500\u2500\u2500\u2500\u2500\u2500\u2500\u2500\u2500\u2500\u2500\u2500\u2500\u2500\u2500\u2500\u2500\u2500\u2500\u2500\u2500\u2500\u2500\u2500\u2500\u2500\u2500\u2500\u2500\u2500\u2500\u2500\u2500\u2500\u2500\u2500\u2500\u2500\u2500\u2500\u2500\u2500\u2500\u2500\u2500\u2500\u2500\u2500\u2500\u2500\u2500\u2500\u2500\u2500\u2500\u2500\u2500\u2500\u2500\n",
        "                                                                              \n",
        "\n",
        "                                                                         2    \n",
        "cos(\\gamma)\u22c5\\gam\u0307ma - s\u22c5(-v_y\u22c5sin(\\gamma) + v_z\u22c5cos(\\gamma))\u22c5\\gam\u0307ma + v\u2093  + v\n",
        "\u2500\u2500\u2500\u2500\u2500\u2500\u2500\u2500\u2500\u2500\u2500\u2500\u2500\u2500\u2500\u2500\u2500\u2500\u2500\u2500\u2500\u2500\u2500\u2500\u2500\u2500\u2500\u2500\u2500\u2500\u2500\u2500\u2500\u2500\u2500\u2500\u2500\u2500\u2500\u2500\u2500\u2500\u2500\u2500\u2500\u2500\u2500\u2500\u2500\u2500\u2500\u2500\u2500\u2500\u2500\u2500\u2500\u2500\u2500\u2500\u2500\u2500\u2500\u2500\u2500\u2500\u2500\u2500\u2500\u2500\u2500\u2500\u2500\u2500\u2500\u2500\u2500\u2500\n",
        "     2                                                                        \n",
        "\n",
        "  2      2\u239e\n",
        "_y  + v_z \u23a0\n",
        "\u2500\u2500\u2500\u2500\u2500\u2500\u2500\u2500\u2500\u2500\u2500\n",
        "            \u001b[94m\u001b[1ml_z\u001b[0;0m\u001b[0;0m"
       ]
      }
     ],
     "prompt_number": 12
    },
    {
     "cell_type": "code",
     "collapsed": false,
     "input": [
      "D = -CD*q*c_bar*frame_l.x\n",
      "D"
     ],
     "language": "python",
     "metadata": {},
     "outputs": [
      {
       "latex": [
        "$$\\frac{c_{bar} \\rho}{2} \\left(- C_{D 0} - k \\left(C_{L 0} + C_{L \\alpha} \\alpha_{l}\\right)^{2}\\right) \\left(s^{2} \\left(\\dot{\\gamma}\\right)^{2} + s v_{y} \\operatorname{sin}\\left(\\gamma\\right) \\dot{\\gamma} - s v_{z} \\operatorname{cos}\\left(\\gamma\\right) \\dot{\\gamma} - s \\left(- v_{y} \\operatorname{sin}\\left(\\gamma\\right) + v_{z} \\operatorname{cos}\\left(\\gamma\\right)\\right) \\dot{\\gamma} + v_{x}^{2} + v_{y}^{2} + v_{z}^{2}\\right)\\mathbf{\\hat{l}_x}$$"
       ],
       "metadata": {},
       "output_type": "pyout",
       "png": "[encoded data removed]",
       "prompt_number": 13,
       "text": [
        "        \u239b                              2\u239e \u239b 2        2                        \n",
        "c_bar\u22c5\u03c1\u22c5\u239d-C_D_0 - k\u22c5(C_L_0 + C_L_\u03b1\u22c5\u03b1_l) \u23a0\u22c5\u239ds \u22c5\\gam\u0307ma  + s\u22c5v_y\u22c5sin(\\gamma)\u22c5\\ga\n",
        "\u2500\u2500\u2500\u2500\u2500\u2500\u2500\u2500\u2500\u2500\u2500\u2500\u2500\u2500\u2500\u2500\u2500\u2500\u2500\u2500\u2500\u2500\u2500\u2500\u2500\u2500\u2500\u2500\u2500\u2500\u2500\u2500\u2500\u2500\u2500\u2500\u2500\u2500\u2500\u2500\u2500\u2500\u2500\u2500\u2500\u2500\u2500\u2500\u2500\u2500\u2500\u2500\u2500\u2500\u2500\u2500\u2500\u2500\u2500\u2500\u2500\u2500\u2500\u2500\u2500\u2500\u2500\u2500\u2500\u2500\u2500\u2500\u2500\u2500\u2500\u2500\u2500\u2500\n",
        "                                                                              \n",
        "\n",
        "                                                                              \n",
        "m\u0307ma - s\u22c5v_z\u22c5cos(\\gamma)\u22c5\\gam\u0307ma - s\u22c5(-v_y\u22c5sin(\\gamma) + v_z\u22c5cos(\\gamma))\u22c5\\gam\n",
        "\u2500\u2500\u2500\u2500\u2500\u2500\u2500\u2500\u2500\u2500\u2500\u2500\u2500\u2500\u2500\u2500\u2500\u2500\u2500\u2500\u2500\u2500\u2500\u2500\u2500\u2500\u2500\u2500\u2500\u2500\u2500\u2500\u2500\u2500\u2500\u2500\u2500\u2500\u2500\u2500\u2500\u2500\u2500\u2500\u2500\u2500\u2500\u2500\u2500\u2500\u2500\u2500\u2500\u2500\u2500\u2500\u2500\u2500\u2500\u2500\u2500\u2500\u2500\u2500\u2500\u2500\u2500\u2500\u2500\u2500\u2500\u2500\u2500\u2500\u2500\u2500\u2500\u2500\n",
        "           2                                                                  \n",
        "\n",
        "        2      2      2\u239e\n",
        "\u0307ma + v\u2093  + v_y  + v_z \u23a0\n",
        "\u2500\u2500\u2500\u2500\u2500\u2500\u2500\u2500\u2500\u2500\u2500\u2500\u2500\u2500\u2500\u2500\u2500\u2500\u2500\u2500\u2500\u2500\u2500\u2500\n",
        "                         \u001b[94m\u001b[1ml_x\u001b[0;0m\u001b[0;0m"
       ]
      }
     ],
     "prompt_number": 13
    },
    {
     "cell_type": "code",
     "collapsed": false,
     "input": [
      "F_A = L + D\n",
      "F_A_b = sympy.Matrix([\n",
      "    F_A.dot(frame_b.x),\n",
      "    F_A.dot(frame_b.y),\n",
      "    F_A.dot(frame_b.z)]).subs({alpha_l(t):alpha_l_expr, beta_l(t): beta_l_expr})"
     ],
     "language": "python",
     "metadata": {},
     "outputs": [],
     "prompt_number": 14
    },
    {
     "cell_type": "code",
     "collapsed": false,
     "input": [
      "x_ac = sympy.Symbol('x_ac')\n",
      "M_A = (-x_ac*frame_b.x + s*frame_f.y).cross(F_A)\n",
      "M_A_b = sympy.Matrix([M_A.dot(frame_b.x),\n",
      "         M_A.dot(frame_b.y),\n",
      "         M_A.dot(frame_b.z)]).subs({alpha_l(t):alpha_l_expr, beta_l(t): beta_l_expr})"
     ],
     "language": "python",
     "metadata": {},
     "outputs": [],
     "prompt_number": 15
    },
    {
     "cell_type": "code",
     "collapsed": false,
     "input": [
      "def compute_aero(f_F_A_b, f_M_A_b, gamma_val, gamma_dot_val, const):\n",
      "    \"\"\"\n",
      "    Given state of aircraft, computes instantaenous aerodynamic force.\n",
      "    \"\"\"\n",
      "    span = const['span']\n",
      "        \n",
      "    ode_f_left = scipy.integrate.ode(lambda s: f_F_A_b(s, gamma_val, gamma_dot_val))\n",
      "    ode_f_left.set_initial_value([0,0,0], 0)\n",
      "    ode_f_left.integrate(span)\n",
      "    F_left = ode_f_left.y\n",
      "    \n",
      "    F_right = np.array([F_left[0], -F_left[1], F_left[2]])\n",
      "    \n",
      "    ode_m_left = scipy.integrate.ode(lambda s: f_M_A_b(s, gamma_val, gamma_dot_val))\n",
      "    ode_m_left.set_initial_value([0,0,0], 0)\n",
      "    ode_m_left.integrate(span)\n",
      "    M_left = ode_m_left.y\n",
      "    \n",
      "    M_right = np.array([-M_left[0], M_left[1], M_left[2]])\n",
      "\n",
      "    F_b = F_left + F_right\n",
      "    M_b = M_left + M_right\n",
      "    return F_b, M_b"
     ],
     "language": "python",
     "metadata": {},
     "outputs": [],
     "prompt_number": 16
    },
    {
     "cell_type": "code",
     "collapsed": false,
     "input": [
      "def gen_aero_force_moment_funcs(F_A_b, M_A_b, const):\n",
      "    # generate a fast function to find the aero force\n",
      "    gam, gam_dot = sympy.symbols('gam, gam_dot')\n",
      "    state_sub = {gamma(t).diff(t):gam_dot, gamma(t):gam}\n",
      "    f_F_A_b = sympy.lambdify((s, gam, gam_dot), F_A_b.subs(const).subs(state_sub))\n",
      "    f_M_A_b = sympy.lambdify((s, gam, gam_dot), M_A_b.subs(const).subs(state_sub))\n",
      "    return f_F_A_b, f_M_A_b"
     ],
     "language": "python",
     "metadata": {},
     "outputs": [],
     "prompt_number": 17
    },
    {
     "cell_type": "code",
     "collapsed": false,
     "input": [
      "def calc_aero_forces(freq, F_A_b, M_A_b, const):\n",
      "    \"\"\"\n",
      "    Computes force history due to flapping motion of wing.\n",
      "    \"\"\"\n",
      "    # generate a fast function to find the aero force\n",
      "    f_F_A_b, f_M_A_b = gen_aero_force_moment_funcs(F_A_b, M_A_b, const)\n",
      "    \n",
      "    # figure out a period to plot over\n",
      "    if freq == 0:\n",
      "        t_vect = np.linspace(0,1,200)\n",
      "    else:\n",
      "        t_vect = np.linspace(0,1.0/freq,200)\n",
      "    gamma_vect = np.sin(2*np.pi*freq*t_vect)\n",
      "    gamma_dvect = 2*np.pi*freq*np.cos(2*np.pi*freq*t_vect)\n",
      "    \n",
      "    # do simulation\n",
      "    n = len(gamma_vect)\n",
      "    F_b_vect = np.zeros((n,3))\n",
      "    M_b_vect = np.zeros((n,3))\n",
      "    for i in range(len(gamma_vect)):\n",
      "        gamma_val = gamma_vect[i]\n",
      "        gamma_dot_val  = gamma_dvect[i]\n",
      "        F_b, M_b = compute_aero(f_F_A_b, f_M_A_b, gamma_val, gamma_dot_val, const)\n",
      "        F_b_vect[i,:] = F_b\n",
      "        M_b_vect[i,:] = M_b\n",
      "    \n",
      "    return t_vect, gamma_vect, F_b_vect, M_b_vect"
     ],
     "language": "python",
     "metadata": {},
     "outputs": [],
     "prompt_number": 18
    },
    {
     "cell_type": "code",
     "collapsed": false,
     "input": [
      "def plot_aero_forces(t, gamma, F_b, M_b):\n",
      "    \"\"\"\n",
      "    Plots aerodynamic force history.\n",
      "    \"\"\"\n",
      "    plt.figure(figsize=(10,10))\n",
      "    plt.subplot(311)\n",
      "    plt.plot(t, gamma)\n",
      "    #plt.xlabel('t, sec')\n",
      "    plt.ylabel(r'$\\gamma$')\n",
      "    plt.title('wing movement')\n",
      "    \n",
      "    lift = -F_b[:,2]\n",
      "    side = -F_b[:,1]\n",
      "    thrust = F_b[:,0]\n",
      "    \n",
      "    plt.subplot(312)\n",
      "    newton_to_grams = 1.0e3/9.8\n",
      "    plt.plot(t_vect, lift*newton_to_grams)\n",
      "    plt.plot(t_vect, thrust*newton_to_grams)\n",
      "    plt.plot(t_vect, side*newton_to_grams)\n",
      "    plt.legend(['lift', 'thrust', 'side'])\n",
      "    #plt.xlabel('t, sec')\n",
      "    plt.ylabel('grams')\n",
      "    plt.title('aerodynamic forces')\n",
      "    \n",
      "    plt.subplot(313)\n",
      "    newton_m_to_gram_cm = 1.0e4/9.8\n",
      "    plt.plot(t_vect, M_b*newton_m_to_gram_cm)\n",
      "    plt.legend(['lift', 'thrust', 'side'])\n",
      "    plt.xlabel('t, sec')\n",
      "    plt.ylabel('gram-cm')\n",
      "    plt.title('aerodynamic moments')"
     ],
     "language": "python",
     "metadata": {},
     "outputs": [],
     "prompt_number": 19
    },
    {
     "cell_type": "code",
     "collapsed": false,
     "input": [
      "v = 6 # velocity of vehicle, m/s\n",
      "alpha = 20*np.pi/180 # angle of attack of vehcile\n",
      "freq = 5 # frequency of wing flap, Hz\n",
      "const = {CL_alpha:1, rho:1.225, v_x:v*np.cos(alpha), v_y:0, v_z:v*np.sin(alpha),\n",
      "         c_bar:0.1, k:0.5, CD_0:1, CL_0:0, 'span':0.58, 'x_ac': 0.1}\n",
      "t_vect, gamma_vect, F_b, M_b = calc_aero_forces(freq, F_A_b, M_A_b, const)"
     ],
     "language": "python",
     "metadata": {},
     "outputs": [],
     "prompt_number": 20
    },
    {
     "cell_type": "code",
     "collapsed": false,
     "input": [
      "plot_aero_forces(t_vect, gamma_vect, F_b, M_b)"
     ],
     "language": "python",
     "metadata": {},
     "outputs": [
      {
       "metadata": {},
       "output_type": "display_data",
       "png": "[encoded data removed]",
       "text": [
        "<matplotlib.figure.Figure at 0x2dd5310>"
       ]
      }
     ],
     "prompt_number": 21
    },
    {
     "cell_type": "markdown",
     "metadata": {},
     "source": [
      "By adjusting the velocity, we see that when flapping at 5 Hz, the top velocit of the vehicle is 6 m/s since the thrust approaches zero."
     ]
    },
    {
     "cell_type": "code",
     "collapsed": false,
     "input": [
      "newtons_to_g = 1000/9.8\n",
      "newton_m_to_gram_cm = 1.0e4/9.8\n",
      "F_b_mean = F_b.mean(0)*newtons_to_g\n",
      "M_b_avg_gm_cm = M_b.mean(0)*newton_m_to_gram_cm\n",
      "lift_avg_gm = -F_b_mean[2]\n",
      "side_avg_gm = F_b_mean[1]\n",
      "thrust_avg_gm = F_b_mean[0]\n",
      "print 'lift:\\t{:10.2f} gm\\nside:\\t{:10.2f} gm\\nthrust:\\t{:10.2f} gm'.format(lift_avg_gm, side_avg_gm, thrust_avg_gm)\n",
      "print 'roll:\\t{:10.2f} gm-cm\\npitch:\\t{:10.2f} gm-cm\\nyaw:\\t{:10.2f} gm-cm'.format(\n",
      "    M_b_avg_gm_cm[0], M_b_avg_gm_cm[1], M_b_avg_gm_cm[2])"
     ],
     "language": "python",
     "metadata": {},
     "outputs": [
      {
       "output_type": "stream",
       "stream": "stdout",
       "text": [
        "lift:\t    278.64 gm\n",
        "side:\t      0.00 gm\n",
        "thrust:\t     14.48 gm\n",
        "roll:\t      0.00 gm-cm\n",
        "pitch:\t   -278.64 gm-cm\n",
        "yaw:\t   -505.08 gm-cm\n"
       ]
      }
     ],
     "prompt_number": 22
    },
    {
     "cell_type": "code",
     "collapsed": false,
     "input": [
      "f_F_A_b, f_M_A_b = gen_aero_force_moment_funcs(F_A_b, M_A_b, const)"
     ],
     "language": "python",
     "metadata": {},
     "outputs": [],
     "prompt_number": 23
    },
    {
     "cell_type": "code",
     "collapsed": false,
     "input": [
      "%%timeit\n",
      "compute_aero(f_F_A_b, f_M_A_b, 1, 1, const)"
     ],
     "language": "python",
     "metadata": {},
     "outputs": [
      {
       "output_type": "stream",
       "stream": "stdout",
       "text": [
        "100 loops, best of 3: 2.53 ms per loop\n"
       ]
      }
     ],
     "prompt_number": 24
    }
   ],
   "metadata": {}
  }
 ]
}