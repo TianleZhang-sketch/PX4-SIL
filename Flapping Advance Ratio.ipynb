{
 "metadata": {
  "name": "",
  "signature": "sha256:07c20f135f88ecb519809b055d1f0a6bc83c75bdd26a831bc0888a79c9a42104"
 },
 "nbformat": 3,
 "nbformat_minor": 0,
 "worksheets": [
  {
   "cells": [
    {
     "cell_type": "code",
     "collapsed": false,
     "input": [
      "import sympy\n",
      "import sympy.physics.mechanics as mech\n",
      "import scipy.optimize\n",
      "\n",
      "sympy.init_printing()\n",
      "sympy.physics.vector.init_vprinting()\n",
      "%matplotlib inline"
     ],
     "language": "python",
     "metadata": {},
     "outputs": [],
     "prompt_number": 1
    },
    {
     "cell_type": "code",
     "collapsed": false,
     "input": [
      "alpha, beta, eta, P, Q, R, r, alpha_l, beta_l, mu = \\\n",
      "    sympy.symbols('alpha, beta, eta, P, Q, R, r, alpha_l, beta_l, mu', real=True, imaginary=False)\n",
      "V_T, s, rho, c, c_0 = sympy.symbols('V_T, s, rho, c, c_0', postive=True, real=True, imaginary=False)\n",
      "C_L_bar = sympy.Symbol(r'\\bar{C_L}', real=True, imaginary=False)\n",
      "C_D_bar = sympy.Symbol(r'\\bar{C_D}', real=True, imaginary=False)\n",
      "t = sympy.Symbol('t')\n",
      "\n",
      "sub_adv = {V_T(t) : mu*s*eta(t).diff(t)}\n",
      "mu_sub = {mu:V_T(t)/(s*eta(t).diff(t))}\n",
      "\n",
      "#inertial frame\n",
      "frame_i = mech.ReferenceFrame('i')\n",
      "\n",
      "# body frame\n",
      "frame_b = mech.ReferenceFrame('b')\n",
      "frame_b.set_ang_vel(frame_i, \n",
      "    P(t)*frame_b.x + Q(t)*frame_b.y + R(t)*frame_b.z)\n",
      "\n",
      "# wind frame\n",
      "frame_w = frame_b.orientnew(\n",
      "    'w', 'Body', (-alpha(t), beta(t), 0), '231')\n",
      "\n",
      "# wing frame\n",
      "frame_l = frame_b.orientnew(\n",
      "    'l', 'Axis', (eta(t), frame_b.x))\n",
      "\n",
      "# local wind frame\n",
      "frame_m = frame_l.orientnew(\n",
      "    'm', 'Body', (-alpha_l(t), beta_l(t), 0), '231')\n",
      "\n",
      "# center of mass\n",
      "point_cm = mech.Point('cm')\n",
      "point_cm.set_vel(frame_b, 0)\n",
      "point_cm.set_vel(frame_i, V_T(t)*frame_w.x)\n",
      "\n",
      "# point on wing\n",
      "point_p = point_cm.locatenew('p', r*s*frame_l.y)\n",
      "point_p.set_vel(frame_l, 0)\n",
      "point_p.v2pt_theory(point_cm, frame_i, frame_l)"
     ],
     "language": "python",
     "metadata": {},
     "outputs": [
      {
       "latex": [
        "$$V_{T}\\mathbf{\\hat{w}_x} -  r s \\left(- Q \\operatorname{sin}\\left(\\eta\\right) + R \\operatorname{cos}\\left(\\eta\\right)\\right)\\mathbf{\\hat{l}_x} + r s \\left(P + \\dot{\\eta}\\right)\\mathbf{\\hat{l}_z}$$"
       ],
       "metadata": {},
       "output_type": "pyout",
       "png": "[encoded data removed]",
       "prompt_number": 2,
       "text": [
        "V_T w_x - r\u22c5s\u22c5(-Q\u22c5sin(\u03b7) + R\u22c5cos(\u03b7)) l_x + r\u22c5s\u22c5(P + \u03b7\u0307) l_z"
       ]
      }
     ],
     "prompt_number": 2
    },
    {
     "cell_type": "markdown",
     "metadata": {},
     "source": [
      "Local angle of attack w.r.t. wing."
     ]
    },
    {
     "cell_type": "code",
     "collapsed": false,
     "input": [
      "alpha_l_expr = sympy.atan(point_p.vel(frame_i).dot(frame_l.z)/\n",
      "    point_p.vel(frame_i).dot(frame_l.x)).simplify()\n",
      "alpha_l_expr"
     ],
     "language": "python",
     "metadata": {},
     "outputs": [
      {
       "latex": [
        "$$\\operatorname{atan}\\left(\\frac{r s \\left(P + \\dot{\\eta}\\right) + \\left(\\operatorname{sin}\\left(\\alpha\\right) \\operatorname{cos}\\left(\\beta\\right) \\operatorname{cos}\\left(\\eta\\right) - \\operatorname{sin}\\left(\\beta\\right) \\operatorname{sin}\\left(\\eta\\right)\\right) V_{T}}{r s \\left(Q \\operatorname{sin}\\left(\\eta\\right) - R \\operatorname{cos}\\left(\\eta\\right)\\right) + V_{T} \\operatorname{cos}\\left(\\alpha\\right) \\operatorname{cos}\\left(\\beta\\right)}\\right)$$"
       ],
       "metadata": {},
       "output_type": "pyout",
       "png": "[encoded data removed]",
       "prompt_number": 3,
       "text": [
        "    \u239br\u22c5s\u22c5(P + \u03b7\u0307) + (sin(\u03b1)\u22c5cos(\u03b2)\u22c5cos(\u03b7) - sin(\u03b2)\u22c5sin(\u03b7))\u22c5V_T\u239e\n",
        "atan\u239c\u2500\u2500\u2500\u2500\u2500\u2500\u2500\u2500\u2500\u2500\u2500\u2500\u2500\u2500\u2500\u2500\u2500\u2500\u2500\u2500\u2500\u2500\u2500\u2500\u2500\u2500\u2500\u2500\u2500\u2500\u2500\u2500\u2500\u2500\u2500\u2500\u2500\u2500\u2500\u2500\u2500\u2500\u2500\u2500\u2500\u2500\u2500\u2500\u2500\u2500\u2500\u2500\u2500\u2500\u2500\u2500\u2500\u239f\n",
        "    \u239d      r\u22c5s\u22c5(Q\u22c5sin(\u03b7) - R\u22c5cos(\u03b7)) + V_T\u22c5cos(\u03b1)\u22c5cos(\u03b2)      \u23a0"
       ]
      }
     ],
     "prompt_number": 3
    },
    {
     "cell_type": "markdown",
     "metadata": {},
     "source": [
      "Local side-slip angle w.r.t. wing."
     ]
    },
    {
     "cell_type": "code",
     "collapsed": false,
     "input": [
      "beta_l_expr = sympy.asin(point_p.vel(frame_i).dot(frame_l.y)/\n",
      "    point_p.vel(frame_i).magnitude())"
     ],
     "language": "python",
     "metadata": {},
     "outputs": [],
     "prompt_number": 4
    },
    {
     "cell_type": "code",
     "collapsed": false,
     "input": [
      "#beta_l_expr"
     ],
     "language": "python",
     "metadata": {},
     "outputs": [],
     "prompt_number": 5
    },
    {
     "cell_type": "code",
     "collapsed": false,
     "input": [
      "q_expr = (rho*point_p.vel(frame_i).magnitude()**2/2).collect(r).simplify()\n",
      "q_expr"
     ],
     "language": "python",
     "metadata": {},
     "outputs": [
      {
       "latex": [
        "$$\\frac{\\rho}{2} \\left(r^{2} s^{2} \\left(\\left(Q \\operatorname{sin}\\left(\\eta\\right) - R \\operatorname{cos}\\left(\\eta\\right)\\right)^{2} + \\left(P + \\dot{\\eta}\\right)^{2}\\right) + 2 r s \\left(\\left(Q \\operatorname{sin}\\left(\\eta\\right) - R \\operatorname{cos}\\left(\\eta\\right)\\right) \\operatorname{cos}\\left(\\alpha\\right) \\operatorname{cos}\\left(\\beta\\right) + \\left(\\operatorname{sin}\\left(\\alpha\\right) \\operatorname{cos}\\left(\\beta\\right) \\operatorname{cos}\\left(\\eta\\right) - \\operatorname{sin}\\left(\\beta\\right) \\operatorname{sin}\\left(\\eta\\right)\\right) \\left(P + \\dot{\\eta}\\right)\\right) V_{T} + V^{2}_{T}\\right)$$"
       ],
       "metadata": {},
       "output_type": "pyout",
       "png": "[encoded data removed]",
       "prompt_number": 6,
       "text": [
        "  \u239b 2  2 \u239b                     2           2\u239e                                 \n",
        "\u03c1\u22c5\u239dr \u22c5s \u22c5\u239d(Q\u22c5sin(\u03b7) - R\u22c5cos(\u03b7))  + (P + \u03b7\u0307) \u23a0 + 2\u22c5r\u22c5s\u22c5((Q\u22c5sin(\u03b7) - R\u22c5cos(\u03b7))\u22c5c\n",
        "\u2500\u2500\u2500\u2500\u2500\u2500\u2500\u2500\u2500\u2500\u2500\u2500\u2500\u2500\u2500\u2500\u2500\u2500\u2500\u2500\u2500\u2500\u2500\u2500\u2500\u2500\u2500\u2500\u2500\u2500\u2500\u2500\u2500\u2500\u2500\u2500\u2500\u2500\u2500\u2500\u2500\u2500\u2500\u2500\u2500\u2500\u2500\u2500\u2500\u2500\u2500\u2500\u2500\u2500\u2500\u2500\u2500\u2500\u2500\u2500\u2500\u2500\u2500\u2500\u2500\u2500\u2500\u2500\u2500\u2500\u2500\u2500\u2500\u2500\u2500\u2500\u2500\u2500\n",
        "                                                                            2 \n",
        "\n",
        "                                                                         2\u239e\n",
        "os(\u03b1)\u22c5cos(\u03b2) + (sin(\u03b1)\u22c5cos(\u03b2)\u22c5cos(\u03b7) - sin(\u03b2)\u22c5sin(\u03b7))\u22c5(P + \u03b7\u0307))\u22c5V_T + V_T \u23a0\n",
        "\u2500\u2500\u2500\u2500\u2500\u2500\u2500\u2500\u2500\u2500\u2500\u2500\u2500\u2500\u2500\u2500\u2500\u2500\u2500\u2500\u2500\u2500\u2500\u2500\u2500\u2500\u2500\u2500\u2500\u2500\u2500\u2500\u2500\u2500\u2500\u2500\u2500\u2500\u2500\u2500\u2500\u2500\u2500\u2500\u2500\u2500\u2500\u2500\u2500\u2500\u2500\u2500\u2500\u2500\u2500\u2500\u2500\u2500\u2500\u2500\u2500\u2500\u2500\u2500\u2500\u2500\u2500\u2500\u2500\u2500\u2500\u2500\u2500\u2500\u2500\n",
        "                                                                           "
       ]
      }
     ],
     "prompt_number": 6
    },
    {
     "cell_type": "code",
     "collapsed": false,
     "input": [
      "Lp_expr = -C_L_bar*rho*q_expr*c(r)/2*frame_m.z\n",
      "Lp_expr"
     ],
     "language": "python",
     "metadata": {},
     "outputs": [
      {
       "latex": [
        "$$-  \\frac{\\bar{C_{L}} \\rho^{2}}{4} \\left(r^{2} s^{2} \\left(\\left(Q \\operatorname{sin}\\left(\\eta\\right) - R \\operatorname{cos}\\left(\\eta\\right)\\right)^{2} + \\left(P + \\dot{\\eta}\\right)^{2}\\right) + 2 r s \\left(\\left(Q \\operatorname{sin}\\left(\\eta\\right) - R \\operatorname{cos}\\left(\\eta\\right)\\right) \\operatorname{cos}\\left(\\alpha\\right) \\operatorname{cos}\\left(\\beta\\right) + \\left(\\operatorname{sin}\\left(\\alpha\\right) \\operatorname{cos}\\left(\\beta\\right) \\operatorname{cos}\\left(\\eta\\right) - \\operatorname{sin}\\left(\\beta\\right) \\operatorname{sin}\\left(\\eta\\right)\\right) \\left(P + \\dot{\\eta}\\right)\\right) V_{T} + V^{2}_{T}\\right) \\operatorname{c}\\left(r\\right)\\mathbf{\\hat{m}_z}$$"
       ],
       "metadata": {},
       "output_type": "pyout",
       "png": "[encoded data removed]",
       "prompt_number": 7,
       "text": [
        "            2 \u239b 2  2 \u239b                     2           2\u239e                     \n",
        "-\\bar{C_L}\u22c5\u03c1 \u22c5\u239dr \u22c5s \u22c5\u239d(Q\u22c5sin(\u03b7) - R\u22c5cos(\u03b7))  + (P + \u03b7\u0307) \u23a0 + 2\u22c5r\u22c5s\u22c5((Q\u22c5sin(\u03b7) -\n",
        "\u2500\u2500\u2500\u2500\u2500\u2500\u2500\u2500\u2500\u2500\u2500\u2500\u2500\u2500\u2500\u2500\u2500\u2500\u2500\u2500\u2500\u2500\u2500\u2500\u2500\u2500\u2500\u2500\u2500\u2500\u2500\u2500\u2500\u2500\u2500\u2500\u2500\u2500\u2500\u2500\u2500\u2500\u2500\u2500\u2500\u2500\u2500\u2500\u2500\u2500\u2500\u2500\u2500\u2500\u2500\u2500\u2500\u2500\u2500\u2500\u2500\u2500\u2500\u2500\u2500\u2500\u2500\u2500\u2500\u2500\u2500\u2500\u2500\u2500\u2500\u2500\u2500\u2500\n",
        "                                                                              \n",
        "\n",
        "                                                                              \n",
        " R\u22c5cos(\u03b7))\u22c5cos(\u03b1)\u22c5cos(\u03b2) + (sin(\u03b1)\u22c5cos(\u03b2)\u22c5cos(\u03b7) - sin(\u03b2)\u22c5sin(\u03b7))\u22c5(P + \u03b7\u0307))\u22c5V_\n",
        "\u2500\u2500\u2500\u2500\u2500\u2500\u2500\u2500\u2500\u2500\u2500\u2500\u2500\u2500\u2500\u2500\u2500\u2500\u2500\u2500\u2500\u2500\u2500\u2500\u2500\u2500\u2500\u2500\u2500\u2500\u2500\u2500\u2500\u2500\u2500\u2500\u2500\u2500\u2500\u2500\u2500\u2500\u2500\u2500\u2500\u2500\u2500\u2500\u2500\u2500\u2500\u2500\u2500\u2500\u2500\u2500\u2500\u2500\u2500\u2500\u2500\u2500\u2500\u2500\u2500\u2500\u2500\u2500\u2500\u2500\u2500\u2500\u2500\u2500\u2500\u2500\u2500\u2500\n",
        "       4                                                                      \n",
        "\n",
        "       2\u239e      \n",
        "T + V_T \u23a0\u22c5c(r) \n",
        "\u2500\u2500\u2500\u2500\u2500\u2500\u2500\u2500\u2500\u2500\u2500\u2500\u2500\u2500\u2500\n",
        "                m_z"
       ]
      }
     ],
     "prompt_number": 7
    },
    {
     "cell_type": "code",
     "collapsed": false,
     "input": [
      "Dp_expr = -C_D_bar*rho*q_expr*c(r)/2*frame_m.x\n",
      "Dp_expr"
     ],
     "language": "python",
     "metadata": {},
     "outputs": [
      {
       "latex": [
        "$$-  \\frac{\\bar{C_{D}} \\rho^{2}}{4} \\left(r^{2} s^{2} \\left(\\left(Q \\operatorname{sin}\\left(\\eta\\right) - R \\operatorname{cos}\\left(\\eta\\right)\\right)^{2} + \\left(P + \\dot{\\eta}\\right)^{2}\\right) + 2 r s \\left(\\left(Q \\operatorname{sin}\\left(\\eta\\right) - R \\operatorname{cos}\\left(\\eta\\right)\\right) \\operatorname{cos}\\left(\\alpha\\right) \\operatorname{cos}\\left(\\beta\\right) + \\left(\\operatorname{sin}\\left(\\alpha\\right) \\operatorname{cos}\\left(\\beta\\right) \\operatorname{cos}\\left(\\eta\\right) - \\operatorname{sin}\\left(\\beta\\right) \\operatorname{sin}\\left(\\eta\\right)\\right) \\left(P + \\dot{\\eta}\\right)\\right) V_{T} + V^{2}_{T}\\right) \\operatorname{c}\\left(r\\right)\\mathbf{\\hat{m}_x}$$"
       ],
       "metadata": {},
       "output_type": "pyout",
       "png": "[encoded data removed]",
       "prompt_number": 8,
       "text": [
        "            2 \u239b 2  2 \u239b                     2           2\u239e                     \n",
        "-\\bar{C_D}\u22c5\u03c1 \u22c5\u239dr \u22c5s \u22c5\u239d(Q\u22c5sin(\u03b7) - R\u22c5cos(\u03b7))  + (P + \u03b7\u0307) \u23a0 + 2\u22c5r\u22c5s\u22c5((Q\u22c5sin(\u03b7) -\n",
        "\u2500\u2500\u2500\u2500\u2500\u2500\u2500\u2500\u2500\u2500\u2500\u2500\u2500\u2500\u2500\u2500\u2500\u2500\u2500\u2500\u2500\u2500\u2500\u2500\u2500\u2500\u2500\u2500\u2500\u2500\u2500\u2500\u2500\u2500\u2500\u2500\u2500\u2500\u2500\u2500\u2500\u2500\u2500\u2500\u2500\u2500\u2500\u2500\u2500\u2500\u2500\u2500\u2500\u2500\u2500\u2500\u2500\u2500\u2500\u2500\u2500\u2500\u2500\u2500\u2500\u2500\u2500\u2500\u2500\u2500\u2500\u2500\u2500\u2500\u2500\u2500\u2500\u2500\n",
        "                                                                              \n",
        "\n",
        "                                                                              \n",
        " R\u22c5cos(\u03b7))\u22c5cos(\u03b1)\u22c5cos(\u03b2) + (sin(\u03b1)\u22c5cos(\u03b2)\u22c5cos(\u03b7) - sin(\u03b2)\u22c5sin(\u03b7))\u22c5(P + \u03b7\u0307))\u22c5V_\n",
        "\u2500\u2500\u2500\u2500\u2500\u2500\u2500\u2500\u2500\u2500\u2500\u2500\u2500\u2500\u2500\u2500\u2500\u2500\u2500\u2500\u2500\u2500\u2500\u2500\u2500\u2500\u2500\u2500\u2500\u2500\u2500\u2500\u2500\u2500\u2500\u2500\u2500\u2500\u2500\u2500\u2500\u2500\u2500\u2500\u2500\u2500\u2500\u2500\u2500\u2500\u2500\u2500\u2500\u2500\u2500\u2500\u2500\u2500\u2500\u2500\u2500\u2500\u2500\u2500\u2500\u2500\u2500\u2500\u2500\u2500\u2500\u2500\u2500\u2500\u2500\u2500\u2500\u2500\n",
        "       4                                                                      \n",
        "\n",
        "       2\u239e      \n",
        "T + V_T \u23a0\u22c5c(r) \n",
        "\u2500\u2500\u2500\u2500\u2500\u2500\u2500\u2500\u2500\u2500\u2500\u2500\u2500\u2500\u2500\n",
        "                m_x"
       ]
      }
     ],
     "prompt_number": 8
    },
    {
     "cell_type": "code",
     "collapsed": false,
     "input": [
      "assump_subs = {P(t):0, Q(t):0, R(t):0, alpha(t):0, beta(t):0, c(r):c_0}\n",
      "assump_subs.update({\n",
      "    beta_l(t): beta_l_expr.subs(assump_subs),\n",
      "    alpha_l(t): alpha_l_expr.subs(assump_subs)})"
     ],
     "language": "python",
     "metadata": {},
     "outputs": [],
     "prompt_number": 9
    },
    {
     "cell_type": "code",
     "collapsed": false,
     "input": [
      "assump_subs"
     ],
     "language": "python",
     "metadata": {},
     "outputs": [
      {
       "latex": [
        "$$\\left \\{ P : 0, \\quad Q : 0, \\quad R : 0, \\quad \\alpha : 0, \\quad \\alpha_{l} : \\operatorname{atan}\\left(\\frac{r s}{V_{T}} \\dot{\\eta}\\right), \\quad \\beta : 0, \\quad \\beta_{l} : 0, \\quad \\operatorname{c}\\left(r\\right) : c_{0}\\right \\}$$"
       ],
       "metadata": {},
       "output_type": "pyout",
       "png": "[encoded data removed]",
       "prompt_number": 10,
       "text": [
        "\u23a7                                 \u239br\u22c5s\u22c5\u03b7\u0307\u239e                        \u23ab\n",
        "\u23a8P: 0, Q: 0, R: 0, \u03b1: 0, \u03b1_l: atan\u239c\u2500\u2500\u2500\u2500\u2500\u2500\u239f, \u03b2: 0, \u03b2_l: 0, c(r): c\u2080\u23ac\n",
        "\u23a9                                 \u239d V_T  \u23a0                        \u23ad"
       ]
      }
     ],
     "prompt_number": 10
    },
    {
     "cell_type": "code",
     "collapsed": false,
     "input": [
      "Lp_assump = Lp_expr.subs(assump_subs).to_matrix(frame_l).subs(assump_subs).subs(sub_adv).simplify()\n",
      "Lp_assump"
     ],
     "language": "python",
     "metadata": {},
     "outputs": [
      {
       "latex": [
        "$$\\left[\\begin{matrix}\\frac{\\bar{C_{L}} c_{0} r \\rho^{2}}{4 \\mu} s^{2} \\sqrt{\\mu^{2} + r^{2}} \\left\\lvert{\\mu}\\right\\rvert \\left(\\dot{\\eta}\\right)^{2}\\\\0\\\\- \\frac{\\bar{C_{L}} c_{0}}{4} \\rho^{2} s^{2} \\sqrt{\\mu^{2} + r^{2}} \\left\\lvert{\\mu}\\right\\rvert \\left(\\dot{\\eta}\\right)^{2}\\end{matrix}\\right]$$"
       ],
       "metadata": {},
       "output_type": "pyout",
       "png": "[encoded data removed]",
       "prompt_number": 11,
       "text": [
        "\u23a1                        _________        \u23a4\n",
        "\u23a2                2  2   \u2571  2    2        2\u23a5\n",
        "\u23a2\\bar{C_L}\u22c5c\u2080\u22c5r\u22c5\u03c1 \u22c5s \u22c5\u2572\u2571  \u03bc  + r  \u22c5\u2502\u03bc\u2502\u22c5\u03b7\u0307 \u23a5\n",
        "\u23a2\u2500\u2500\u2500\u2500\u2500\u2500\u2500\u2500\u2500\u2500\u2500\u2500\u2500\u2500\u2500\u2500\u2500\u2500\u2500\u2500\u2500\u2500\u2500\u2500\u2500\u2500\u2500\u2500\u2500\u2500\u2500\u2500\u2500\u2500\u2500\u2500\u2500\u2500\u2500\u2500\u2500\u23a5\n",
        "\u23a2                   4\u22c5\u03bc                   \u23a5\n",
        "\u23a2                                         \u23a5\n",
        "\u23a2                    0                    \u23a5\n",
        "\u23a2                                         \u23a5\n",
        "\u23a2                       _________         \u23a5\n",
        "\u23a2               2  2   \u2571  2    2        2 \u23a5\n",
        "\u23a2-\\bar{C_L}\u22c5c\u2080\u22c5\u03c1 \u22c5s \u22c5\u2572\u2571  \u03bc  + r  \u22c5\u2502\u03bc\u2502\u22c5\u03b7\u0307  \u23a5\n",
        "\u23a2\u2500\u2500\u2500\u2500\u2500\u2500\u2500\u2500\u2500\u2500\u2500\u2500\u2500\u2500\u2500\u2500\u2500\u2500\u2500\u2500\u2500\u2500\u2500\u2500\u2500\u2500\u2500\u2500\u2500\u2500\u2500\u2500\u2500\u2500\u2500\u2500\u2500\u2500\u2500\u2500\u2500\u23a5\n",
        "\u23a3                    4                    \u23a6"
       ]
      }
     ],
     "prompt_number": 11
    },
    {
     "cell_type": "code",
     "collapsed": false,
     "input": [
      "Dp_assump = Dp_expr.subs(assump_subs).to_matrix(frame_l).subs(assump_subs).subs(sub_adv).simplify()\n",
      "Dp_assump"
     ],
     "language": "python",
     "metadata": {},
     "outputs": [
      {
       "latex": [
        "$$\\left[\\begin{matrix}- \\frac{\\bar{C_{D}} c_{0}}{4} \\rho^{2} s^{2} \\sqrt{\\mu^{2} + r^{2}} \\left\\lvert{\\mu}\\right\\rvert \\left(\\dot{\\eta}\\right)^{2}\\\\0\\\\- \\frac{\\bar{C_{D}} c_{0} r \\rho^{2}}{4 \\mu} s^{2} \\sqrt{\\mu^{2} + r^{2}} \\left\\lvert{\\mu}\\right\\rvert \\left(\\dot{\\eta}\\right)^{2}\\end{matrix}\\right]$$"
       ],
       "metadata": {},
       "output_type": "pyout",
       "png": "[encoded data removed]",
       "prompt_number": 12,
       "text": [
        "\u23a1                        _________          \u23a4\n",
        "\u23a2                2  2   \u2571  2    2        2  \u23a5\n",
        "\u23a2 -\\bar{C_D}\u22c5c\u2080\u22c5\u03c1 \u22c5s \u22c5\u2572\u2571  \u03bc  + r  \u22c5\u2502\u03bc\u2502\u22c5\u03b7\u0307   \u23a5\n",
        "\u23a2 \u2500\u2500\u2500\u2500\u2500\u2500\u2500\u2500\u2500\u2500\u2500\u2500\u2500\u2500\u2500\u2500\u2500\u2500\u2500\u2500\u2500\u2500\u2500\u2500\u2500\u2500\u2500\u2500\u2500\u2500\u2500\u2500\u2500\u2500\u2500\u2500\u2500\u2500\u2500\u2500\u2500 \u23a5\n",
        "\u23a2                     4                     \u23a5\n",
        "\u23a2                                           \u23a5\n",
        "\u23a2                     0                     \u23a5\n",
        "\u23a2                                           \u23a5\n",
        "\u23a2                         _________         \u23a5\n",
        "\u23a2                 2  2   \u2571  2    2        2 \u23a5\n",
        "\u23a2-\\bar{C_D}\u22c5c\u2080\u22c5r\u22c5\u03c1 \u22c5s \u22c5\u2572\u2571  \u03bc  + r  \u22c5\u2502\u03bc\u2502\u22c5\u03b7\u0307  \u23a5\n",
        "\u23a2\u2500\u2500\u2500\u2500\u2500\u2500\u2500\u2500\u2500\u2500\u2500\u2500\u2500\u2500\u2500\u2500\u2500\u2500\u2500\u2500\u2500\u2500\u2500\u2500\u2500\u2500\u2500\u2500\u2500\u2500\u2500\u2500\u2500\u2500\u2500\u2500\u2500\u2500\u2500\u2500\u2500\u2500\u2500\u23a5\n",
        "\u23a3                    4\u22c5\u03bc                    \u23a6"
       ]
      }
     ],
     "prompt_number": 12
    },
    {
     "cell_type": "code",
     "collapsed": false,
     "input": [
      "L_l_x = sympy.integrate(Lp_assump[0], (r, 0, 1)).simplify()\n",
      "L_l_x"
     ],
     "language": "python",
     "metadata": {},
     "outputs": [
      {
       "latex": [
        "$$\\frac{\\bar{C_{L}} c_{0} \\rho^{2} s^{2}}{12 \\mu} \\left(- \\mu^{4} + \\left(\\mu^{2} + 1\\right)^{\\frac{3}{2}} \\left\\lvert{\\mu}\\right\\rvert\\right) \\left(\\dot{\\eta}\\right)^{2}$$"
       ],
       "metadata": {},
       "output_type": "pyout",
       "png": "[encoded data removed]",
       "prompt_number": 13,
       "text": [
        "                   \u239b               3/2    \u239e    \n",
        "              2  2 \u239c   4   \u239b 2    \u239e       \u239f   2\n",
        "\\bar{C_L}\u22c5c\u2080\u22c5\u03c1 \u22c5s \u22c5\u239d- \u03bc  + \u239d\u03bc  + 1\u23a0   \u22c5\u2502\u03bc\u2502\u23a0\u22c5\u03b7\u0307 \n",
        "\u2500\u2500\u2500\u2500\u2500\u2500\u2500\u2500\u2500\u2500\u2500\u2500\u2500\u2500\u2500\u2500\u2500\u2500\u2500\u2500\u2500\u2500\u2500\u2500\u2500\u2500\u2500\u2500\u2500\u2500\u2500\u2500\u2500\u2500\u2500\u2500\u2500\u2500\u2500\u2500\u2500\u2500\u2500\u2500\u2500\u2500\u2500\n",
        "                      12\u22c5\u03bc                     "
       ]
      }
     ],
     "prompt_number": 13
    },
    {
     "cell_type": "code",
     "collapsed": false,
     "input": [
      "L_l_z = sympy.integrate(Lp_assump[2], (r, 0, 1))\n",
      "L_l_z"
     ],
     "language": "python",
     "metadata": {},
     "outputs": [
      {
       "latex": [
        "$$- \\frac{\\bar{C_{L}} c_{0}}{4} \\rho^{2} s^{2} \\left(\\frac{\\mu}{2} \\sqrt{1 + \\frac{1}{\\mu^{2}}} + \\frac{\\mu \\left\\lvert{\\mu}\\right\\rvert}{2} \\operatorname{asinh}\\left(\\frac{1}{\\left\\lvert{\\mu}\\right\\rvert}\\right)\\right) \\left\\lvert{\\mu}\\right\\rvert \\left(\\dot{\\eta}\\right)^{2}$$"
       ],
       "metadata": {},
       "output_type": "pyout",
       "png": "[encoded data removed]",
       "prompt_number": 14,
       "text": [
        "                    \u239b       ________                   \u239e         \n",
        "                    \u239c      \u2571     1                     \u239f         \n",
        "                    \u239c\u03bc\u22c5   \u2571  1 + \u2500\u2500               \u239b 1 \u239e\u239f         \n",
        "                    \u239c    \u2571        2    \u03bc\u22c5\u2502\u03bc\u2502\u22c5asinh\u239c\u2500\u2500\u2500\u239f\u239f         \n",
        "               2  2 \u239c  \u2572\u2571        \u03bc                \u239d\u2502\u03bc\u2502\u23a0\u239f       2 \n",
        "-\\bar{C_L}\u22c5c\u2080\u22c5\u03c1 \u22c5s \u22c5\u239c\u2500\u2500\u2500\u2500\u2500\u2500\u2500\u2500\u2500\u2500\u2500\u2500\u2500\u2500\u2500 + \u2500\u2500\u2500\u2500\u2500\u2500\u2500\u2500\u2500\u2500\u2500\u2500\u2500\u2500\u2500\u2500\u239f\u22c5\u2502\u03bc\u2502\u22c5\u03b7\u0307  \n",
        "                    \u239d       2                 2        \u23a0         \n",
        "\u2500\u2500\u2500\u2500\u2500\u2500\u2500\u2500\u2500\u2500\u2500\u2500\u2500\u2500\u2500\u2500\u2500\u2500\u2500\u2500\u2500\u2500\u2500\u2500\u2500\u2500\u2500\u2500\u2500\u2500\u2500\u2500\u2500\u2500\u2500\u2500\u2500\u2500\u2500\u2500\u2500\u2500\u2500\u2500\u2500\u2500\u2500\u2500\u2500\u2500\u2500\u2500\u2500\u2500\u2500\u2500\u2500\u2500\u2500\u2500\u2500\u2500\u2500\u2500\u2500\n",
        "                                4                                "
       ]
      }
     ],
     "prompt_number": 14
    },
    {
     "cell_type": "code",
     "collapsed": false,
     "input": [
      "D_l_x = sympy.integrate(Dp_assump[0], (r, 0, 1)).simplify()\n",
      "D_l_x"
     ],
     "language": "python",
     "metadata": {},
     "outputs": [
      {
       "latex": [
        "$$- \\frac{\\bar{C_{D}} \\mu}{8} c_{0} \\rho^{2} s^{2} \\left(\\mu^{2} \\operatorname{asinh}\\left(\\frac{1}{\\left\\lvert{\\mu}\\right\\rvert}\\right) + \\sqrt{\\mu^{2} + 1}\\right) \\left(\\dot{\\eta}\\right)^{2}$$"
       ],
       "metadata": {},
       "output_type": "pyout",
       "png": "[encoded data removed]",
       "prompt_number": 15,
       "text": [
        "                      \u239b                   ________\u239e     \n",
        "                 2  2 \u239c 2      \u239b 1 \u239e     \u2571  2     \u239f   2 \n",
        "-\\bar{C_D}\u22c5c\u2080\u22c5\u03bc\u22c5\u03c1 \u22c5s \u22c5\u239c\u03bc \u22c5asinh\u239c\u2500\u2500\u2500\u239f + \u2572\u2571  \u03bc  + 1 \u239f\u22c5\u03b7\u0307  \n",
        "                      \u239d        \u239d\u2502\u03bc\u2502\u23a0              \u23a0     \n",
        "\u2500\u2500\u2500\u2500\u2500\u2500\u2500\u2500\u2500\u2500\u2500\u2500\u2500\u2500\u2500\u2500\u2500\u2500\u2500\u2500\u2500\u2500\u2500\u2500\u2500\u2500\u2500\u2500\u2500\u2500\u2500\u2500\u2500\u2500\u2500\u2500\u2500\u2500\u2500\u2500\u2500\u2500\u2500\u2500\u2500\u2500\u2500\u2500\u2500\u2500\u2500\u2500\u2500\u2500\u2500\u2500\n",
        "                           8                            "
       ]
      }
     ],
     "prompt_number": 15
    },
    {
     "cell_type": "code",
     "collapsed": false,
     "input": [
      "D_l_z = sympy.integrate(Dp_assump[2], (r, 0, 1)).simplify()\n",
      "D_l_z"
     ],
     "language": "python",
     "metadata": {},
     "outputs": [
      {
       "latex": [
        "$$\\frac{\\bar{C_{D}} c_{0} \\rho^{2} s^{2}}{12 \\mu} \\left(\\mu^{4} - \\left(\\mu^{2} + 1\\right)^{\\frac{3}{2}} \\left\\lvert{\\mu}\\right\\rvert\\right) \\left(\\dot{\\eta}\\right)^{2}$$"
       ],
       "metadata": {},
       "output_type": "pyout",
       "png": "[encoded data removed]",
       "prompt_number": 16,
       "text": [
        "                   \u239b             3/2    \u239e    \n",
        "              2  2 \u239c 4   \u239b 2    \u239e       \u239f   2\n",
        "\\bar{C_D}\u22c5c\u2080\u22c5\u03c1 \u22c5s \u22c5\u239d\u03bc  - \u239d\u03bc  + 1\u23a0   \u22c5\u2502\u03bc\u2502\u23a0\u22c5\u03b7\u0307 \n",
        "\u2500\u2500\u2500\u2500\u2500\u2500\u2500\u2500\u2500\u2500\u2500\u2500\u2500\u2500\u2500\u2500\u2500\u2500\u2500\u2500\u2500\u2500\u2500\u2500\u2500\u2500\u2500\u2500\u2500\u2500\u2500\u2500\u2500\u2500\u2500\u2500\u2500\u2500\u2500\u2500\u2500\u2500\u2500\u2500\u2500\n",
        "                     12\u22c5\u03bc                    "
       ]
      }
     ],
     "prompt_number": 16
    },
    {
     "cell_type": "code",
     "collapsed": false,
     "input": [
      "F_A_l = sympy.Matrix([(L_l_x + D_l_x).simplify(), 0, (L_l_z + D_l_z).simplify()])\n",
      "F_A_l"
     ],
     "language": "python",
     "metadata": {},
     "outputs": [
      {
       "latex": [
        "$$\\left[\\begin{matrix}- \\frac{c_{0} \\rho^{2} s^{2} \\left(\\dot{\\eta}\\right)^{2}}{24 \\mu} \\left(3 \\bar{C_{D}} \\mu^{2} \\left(\\mu^{2} \\operatorname{asinh}\\left(\\frac{1}{\\left\\lvert{\\mu}\\right\\rvert}\\right) + \\sqrt{\\mu^{2} + 1}\\right) + 2 \\bar{C_{L}} \\left(\\mu^{4} - \\left(\\mu^{2} + 1\\right)^{\\frac{3}{2}} \\left\\lvert{\\mu}\\right\\rvert\\right)\\right)\\\\0\\\\\\frac{c_{0} \\rho^{2} s^{2} \\left(\\dot{\\eta}\\right)^{2}}{24 \\mu} \\left(2 \\bar{C_{D}} \\left(\\mu^{4} - \\left(\\mu^{2} + 1\\right)^{\\frac{3}{2}} \\left\\lvert{\\mu}\\right\\rvert\\right) - 3 \\bar{C_{L}} \\mu^{2} \\left(\\mu^{2} \\operatorname{asinh}\\left(\\frac{1}{\\left\\lvert{\\mu}\\right\\rvert}\\right) + \\sqrt{\\mu^{2} + 1}\\right)\\right)\\end{matrix}\\right]$$"
       ],
       "metadata": {},
       "output_type": "pyout",
       "png": "[encoded data removed]",
       "prompt_number": 17,
       "text": [
        "\u23a1          \u239b               \u239b                   ________\u239e               \u239b      \n",
        "\u23a2     2  2 \u239c             2 \u239c 2      \u239b 1 \u239e     \u2571  2     \u239f               \u239c 4   \u239b\n",
        "\u23a2-c\u2080\u22c5\u03c1 \u22c5s \u22c5\u239c3\u22c5\\bar{C_D}\u22c5\u03bc \u22c5\u239c\u03bc \u22c5asinh\u239c\u2500\u2500\u2500\u239f + \u2572\u2571  \u03bc  + 1 \u239f + 2\u22c5\\bar{C_L}\u22c5\u239d\u03bc  - \u239d\n",
        "\u23a2          \u239d               \u239d        \u239d\u2502\u03bc\u2502\u23a0              \u23a0                      \n",
        "\u23a2\u2500\u2500\u2500\u2500\u2500\u2500\u2500\u2500\u2500\u2500\u2500\u2500\u2500\u2500\u2500\u2500\u2500\u2500\u2500\u2500\u2500\u2500\u2500\u2500\u2500\u2500\u2500\u2500\u2500\u2500\u2500\u2500\u2500\u2500\u2500\u2500\u2500\u2500\u2500\u2500\u2500\u2500\u2500\u2500\u2500\u2500\u2500\u2500\u2500\u2500\u2500\u2500\u2500\u2500\u2500\u2500\u2500\u2500\u2500\u2500\u2500\u2500\u2500\u2500\u2500\u2500\u2500\u2500\u2500\u2500\u2500\u2500\u2500\u2500\u2500\u2500\u2500\n",
        "\u23a2                                               24\u22c5\u03bc                          \n",
        "\u23a2                                                                             \n",
        "\u23a2                                                0                            \n",
        "\u23a2                                                                             \n",
        "\u23a2          \u239b            \u239b             3/2    \u239e                  \u239b             \n",
        "\u23a2     2  2 \u239c            \u239c 4   \u239b 2    \u239e       \u239f                2 \u239c 2      \u239b 1 \u239e\n",
        "\u23a2 c\u2080\u22c5\u03c1 \u22c5s \u22c5\u239c2\u22c5\\bar{C_D}\u22c5\u239d\u03bc  - \u239d\u03bc  + 1\u23a0   \u22c5\u2502\u03bc\u2502\u23a0 - 3\u22c5\\bar{C_L}\u22c5\u03bc \u22c5\u239c\u03bc \u22c5asinh\u239c\u2500\u2500\u2500\u239f\n",
        "\u23a2          \u239d                                                    \u239d        \u239d\u2502\u03bc\u2502\u23a0\n",
        "\u23a2 \u2500\u2500\u2500\u2500\u2500\u2500\u2500\u2500\u2500\u2500\u2500\u2500\u2500\u2500\u2500\u2500\u2500\u2500\u2500\u2500\u2500\u2500\u2500\u2500\u2500\u2500\u2500\u2500\u2500\u2500\u2500\u2500\u2500\u2500\u2500\u2500\u2500\u2500\u2500\u2500\u2500\u2500\u2500\u2500\u2500\u2500\u2500\u2500\u2500\u2500\u2500\u2500\u2500\u2500\u2500\u2500\u2500\u2500\u2500\u2500\u2500\u2500\u2500\u2500\u2500\u2500\u2500\u2500\u2500\u2500\u2500\u2500\u2500\u2500\u2500\u2500\n",
        "\u23a3                                               24\u22c5\u03bc                          \n",
        "\n",
        "       3/2    \u239e\u239e     \u23a4\n",
        " 2    \u239e       \u239f\u239f   2 \u23a5\n",
        "\u03bc  + 1\u23a0   \u22c5\u2502\u03bc\u2502\u23a0\u239f\u22c5\u03b7\u0307  \u23a5\n",
        "               \u23a0     \u23a5\n",
        "\u2500\u2500\u2500\u2500\u2500\u2500\u2500\u2500\u2500\u2500\u2500\u2500\u2500\u2500\u2500\u2500\u2500\u2500\u2500\u2500\u2500\u23a5\n",
        "                     \u23a5\n",
        "                     \u23a5\n",
        "                     \u23a5\n",
        "                     \u23a5\n",
        "      ________\u239e\u239e     \u23a5\n",
        "     \u2571  2     \u239f\u239f   2 \u23a5\n",
        " + \u2572\u2571  \u03bc  + 1 \u239f\u239f\u22c5\u03b7\u0307  \u23a5\n",
        "              \u23a0\u23a0     \u23a5\n",
        "\u2500\u2500\u2500\u2500\u2500\u2500\u2500\u2500\u2500\u2500\u2500\u2500\u2500\u2500\u2500\u2500\u2500\u2500\u2500\u2500 \u23a5\n",
        "                     \u23a6"
       ]
      }
     ],
     "prompt_number": 17
    },
    {
     "cell_type": "code",
     "collapsed": false,
     "input": [
      "const = {C_L_bar: 1.2, C_D_bar:0.5, rho:1.225, s:0.6, eta(t).diff(t):5, c_0:0.3}"
     ],
     "language": "python",
     "metadata": {},
     "outputs": [],
     "prompt_number": 18
    },
    {
     "cell_type": "code",
     "collapsed": false,
     "input": [
      "N_to_g = 1000/9.8\n",
      "two_wings = 2\n",
      "sympy.plot(two_wings*N_to_g*(F_A_l[0]).subs(const),\n",
      "           (mu,0,2), title='Thrust vs. $\\mu$', xlabel='$\\mu$', ylabel='Thrust, gm');"
     ],
     "language": "python",
     "metadata": {},
     "outputs": [
      {
       "metadata": {},
       "output_type": "display_data",
       "png": "[encoded data removed]",
       "text": [
        "<matplotlib.figure.Figure at 0x44be390>"
       ]
      }
     ],
     "prompt_number": 19
    },
    {
     "cell_type": "code",
     "collapsed": false,
     "input": [
      "sympy.plot(-two_wings*N_to_g*(F_A_l[2]).subs(const),\n",
      "           (mu,0,2), title='Lift vs. $\\mu$', xlabel='$\\mu$', ylabel='Lift, gm');"
     ],
     "language": "python",
     "metadata": {},
     "outputs": [
      {
       "metadata": {},
       "output_type": "display_data",
       "png": "[encoded data removed]",
       "text": [
        "<matplotlib.figure.Figure at 0x4232bd0>"
       ]
      }
     ],
     "prompt_number": 20
    },
    {
     "cell_type": "code",
     "collapsed": false,
     "input": [
      "F_A_l.subs(const)[0]"
     ],
     "language": "python",
     "metadata": {},
     "outputs": [
      {
       "latex": [
        "$$- \\frac{1}{\\mu} \\left(0.40516875 \\mu^{4} + 0.25323046875 \\mu^{2} \\left(\\mu^{2} \\operatorname{asinh}\\left(\\frac{1}{\\left\\lvert{\\mu}\\right\\rvert}\\right) + \\sqrt{\\mu^{2} + 1}\\right) - 0.40516875 \\left(\\mu^{2} + 1\\right)^{\\frac{3}{2}} \\left\\lvert{\\mu}\\right\\rvert\\right)$$"
       ],
       "metadata": {},
       "output_type": "pyout",
       "png": "[encoded data removed]",
       "prompt_number": 21,
       "text": [
        "              \u239b                \u239b                   ________\u239e               3/2\n",
        "              \u239c     4        2 \u239c 2      \u239b 1 \u239e     \u2571  2     \u239f       \u239b 2    \u239e   \n",
        "-0.1688203125\u22c5\u239c2.4\u22c5\u03bc  + 1.5\u22c5\u03bc \u22c5\u239c\u03bc \u22c5asinh\u239c\u2500\u2500\u2500\u239f + \u2572\u2571  \u03bc  + 1 \u239f - 2.4\u22c5\u239d\u03bc  + 1\u23a0   \n",
        "              \u239d                \u239d        \u239d\u2502\u03bc\u2502\u23a0              \u23a0                  \n",
        "\u2500\u2500\u2500\u2500\u2500\u2500\u2500\u2500\u2500\u2500\u2500\u2500\u2500\u2500\u2500\u2500\u2500\u2500\u2500\u2500\u2500\u2500\u2500\u2500\u2500\u2500\u2500\u2500\u2500\u2500\u2500\u2500\u2500\u2500\u2500\u2500\u2500\u2500\u2500\u2500\u2500\u2500\u2500\u2500\u2500\u2500\u2500\u2500\u2500\u2500\u2500\u2500\u2500\u2500\u2500\u2500\u2500\u2500\u2500\u2500\u2500\u2500\u2500\u2500\u2500\u2500\u2500\u2500\u2500\u2500\u2500\u2500\u2500\u2500\u2500\u2500\u2500\u2500\n",
        "                                         \u03bc                                    \n",
        "\n",
        "    \u239e \n",
        "    \u239f \n",
        "\u22c5\u2502\u03bc\u2502\u239f \n",
        "    \u23a0 \n",
        "\u2500\u2500\u2500\u2500\u2500\u2500\n",
        "      "
       ]
      }
     ],
     "prompt_number": 21
    },
    {
     "cell_type": "code",
     "collapsed": false,
     "input": [
      "f_thrust_mu = sympy.lambdify(mu, F_A_l.subs(const)[0], default_array=True)\n",
      "f_lift_mu = sympy.lambdify(mu, -two_wings*N_to_g*F_A_l.subs(const)[2], default_array=True)\n",
      "mu_max = scipy.optimize.newton(f_thrust_mu, 0.7)\n",
      "lift_max = f_lift_mu(mu_max)\n",
      "print('max lift: {:0.2f} gm @ mu = {:0.2f} -> V_T = {:0.2f} m/s'.format(\n",
      "    lift_max, mu_max, mu_max*const[s]*const[eta(t).diff(t)]))"
     ],
     "language": "python",
     "metadata": {},
     "outputs": [
      {
       "output_type": "stream",
       "stream": "stdout",
       "text": [
        "max lift: 501.13 gm @ mu = 1.25 -> V_T = 3.76 m/s\n"
       ]
      }
     ],
     "prompt_number": 22
    }
   ],
   "metadata": {}
  }
 ]
}