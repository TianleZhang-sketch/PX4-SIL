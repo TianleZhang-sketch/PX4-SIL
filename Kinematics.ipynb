{
 "metadata": {
  "name": "",
  "signature": "sha256:446bed56e98f63afe6287b9050f148a7b7e5efcf1fc1b8d572afaf8d4af731f4"
 },
 "nbformat": 3,
 "nbformat_minor": 0,
 "worksheets": [
  {
   "cells": [
    {
     "cell_type": "code",
     "collapsed": false,
     "input": [
      "import sympy\n",
      "import sympy.physics.mechanics as mech\n",
      "import copy\n",
      "import os\n",
      "import scipy.integrate\n",
      "import collections\n",
      "import matplotlib.pyplot as plt\n",
      "import sympy_utils\n",
      "import numpy as np\n",
      "%matplotlib inline\n",
      "sympy.init_printing()\n",
      "sympy.physics.vector.init_vprinting()"
     ],
     "language": "python",
     "metadata": {},
     "outputs": [],
     "prompt_number": 18
    },
    {
     "cell_type": "code",
     "collapsed": false,
     "input": [
      "x, y, z, phi, theta, psi, t, J_x, J_y, J_z, Jxz, L, D, Y, M, \\\n",
      "    alpha, beta, V, h, g, P, Q, R, l, m, n = \\\n",
      "    sympy.symbols('x, y, z, phi, theta, psi, t, J_x, J_y, J_z, Jxz, L, D, Y, M, alpha, beta, V, h, g, P, Q, R, l, m, n')\n",
      "frame_i = mech.ReferenceFrame('i')\n",
      "frame_b = frame_i.orientnew('b', 'Body', (phi(t), theta(t), psi(t)), '321')\n",
      "frame_b2 = copy.copy(frame_b)\n",
      "frame_b.set_ang_vel(frame_i, P(t)*frame_b.x + Q(t)*frame_b.y + R(t)*frame_b.z)\n",
      "frame_w = frame_b.orientnew('w', 'Body', (beta(t), -alpha(t), 0), '321')\n",
      "point_cm = mech.Point('cm')\n",
      "point_cm.set_vel(frame_b, 0)\n",
      "point_cm.set_vel(frame_i, V(t)*frame_w.x)"
     ],
     "language": "python",
     "metadata": {},
     "outputs": [],
     "prompt_number": 19
    },
    {
     "cell_type": "code",
     "collapsed": false,
     "input": [
      "w_ib = frame_i.orientnew('b', 'Body', (phi(t), theta(t), psi(t)), '321').ang_vel_in(frame_i)\n",
      "w_ib"
     ],
     "language": "python",
     "metadata": {},
     "outputs": [
      {
       "latex": [
        "$$(- \\operatorname{sin}\\left(\\theta\\right) \\dot{\\phi} + \\dot{\\psi})\\mathbf{\\hat{b}_x} + (\\operatorname{sin}\\left(\\psi\\right) \\operatorname{cos}\\left(\\theta\\right) \\dot{\\phi} + \\operatorname{cos}\\left(\\psi\\right) \\dot{\\theta})\\mathbf{\\hat{b}_y} + (- \\operatorname{sin}\\left(\\psi\\right) \\dot{\\theta} + \\operatorname{cos}\\left(\\psi\\right) \\operatorname{cos}\\left(\\theta\\right) \\dot{\\phi})\\mathbf{\\hat{b}_z}$$"
       ],
       "metadata": {},
       "output_type": "pyout",
       "png": "[encoded data removed]",
       "prompt_number": 20,
       "text": [
        "(-sin(\u03b8)\u22c5\u03c6\u0307 + \u03c8\u0307) \u001b[94m\u001b[1mb_x\u001b[0;0m\u001b[0;0m + (sin(\u03c8)\u22c5cos(\u03b8)\u22c5\u03c6\u0307 + cos(\u03c8)\u22c5\u03b8\u0307) \u001b[94m\u001b[1mb_y\u001b[0;0m\u001b[0;0m + (-sin(\u03c8)\u22c5\u03b8\u0307 + cos(\u03c8)\u22c5cos(\u03b8)\u22c5\u03c6\u0307) \u001b[94m\u001b[1mb_z\u001b[0;0m\u001b[0;0m"
       ]
      }
     ],
     "prompt_number": 20
    },
    {
     "cell_type": "code",
     "collapsed": false,
     "input": [
      "P_eq = w_ib.dot(frame_b.x).simplify()\n",
      "Q_eq = w_ib.dot(frame_b.y).simplify()\n",
      "R_eq = w_ib.dot(frame_b.z).simplify()"
     ],
     "language": "python",
     "metadata": {},
     "outputs": [],
     "prompt_number": 21
    },
    {
     "cell_type": "code",
     "collapsed": false,
     "input": [
      "euler_sol = sympy.solve([P(t) - P_eq, Q(t) - Q_eq, R(t) - R_eq],\n",
      "                        [phi(t).diff(t), theta(t).diff(t), psi(t).diff(t)])\n",
      "euler_sol"
     ],
     "language": "python",
     "metadata": {},
     "outputs": [
      {
       "latex": [
        "$$\\begin{Bmatrix}\\dot{\\phi} : \\frac{1}{\\operatorname{cos}\\left(\\theta\\right)} \\left(Q \\operatorname{sin}\\left(\\psi\\right) + R \\operatorname{cos}\\left(\\psi\\right)\\right), & \\dot{\\psi} : P + Q \\operatorname{sin}\\left(\\psi\\right) \\operatorname{tan}\\left(\\theta\\right) + R \\operatorname{cos}\\left(\\psi\\right) \\operatorname{tan}\\left(\\theta\\right), & \\dot{\\theta} : Q \\operatorname{cos}\\left(\\psi\\right) - R \\operatorname{sin}\\left(\\psi\\right)\\end{Bmatrix}$$"
       ],
       "metadata": {},
       "output_type": "pyout",
       "png": "[encoded data removed]",
       "prompt_number": 22,
       "text": [
        "\u23a7    Q\u22c5sin(\u03c8) + R\u22c5cos(\u03c8)                                                      \n",
        "\u23a8\u03c6\u0307: \u2500\u2500\u2500\u2500\u2500\u2500\u2500\u2500\u2500\u2500\u2500\u2500\u2500\u2500\u2500\u2500\u2500\u2500\u2500, \u03c8\u0307: P + Q\u22c5sin(\u03c8)\u22c5tan(\u03b8) + R\u22c5cos(\u03c8)\u22c5tan(\u03b8), \u03b8\u0307: Q\u22c5cos\n",
        "\u23a9           cos(\u03b8)                                                            \n",
        "\n",
        "              \u23ab\n",
        "(\u03c8) - R\u22c5sin(\u03c8)\u23ac\n",
        "              \u23ad"
       ]
      }
     ],
     "prompt_number": 22
    },
    {
     "cell_type": "code",
     "collapsed": false,
     "input": [
      "aircraft = mech.RigidBody('aircraft', point_cm, frame_b, M, (mech.inertia(frame_b, J_x, J_y, J_z, 0, 0, Jxz), point_cm))\n",
      "aircraft.set_potential_energy(m*g*h(t))"
     ],
     "language": "python",
     "metadata": {},
     "outputs": [],
     "prompt_number": 23
    },
    {
     "cell_type": "code",
     "collapsed": false,
     "input": [
      "F_A = -D(t)*frame_b.x -Y(t)*frame_b.y -L(t)*frame_b.z\n",
      "M_A = l(t)*frame_b.x + m(t)*frame_b.y + n(t)*frame_b.z"
     ],
     "language": "python",
     "metadata": {},
     "outputs": [],
     "prompt_number": 24
    },
    {
     "cell_type": "code",
     "collapsed": false,
     "input": [
      "F_T = F_A + M*g*frame_i.z\n",
      "M_T = M_A"
     ],
     "language": "python",
     "metadata": {},
     "outputs": [],
     "prompt_number": 25
    },
    {
     "cell_type": "code",
     "collapsed": false,
     "input": [
      "H_cm_i = aircraft.angular_momentum(point_cm, frame_i)\n",
      "di_H_cm_i = H_cm_i.diff(t, frame_b) + frame_b.ang_vel_in(frame_i).cross(H_cm_i)\n",
      "eom_rot = di_H_cm_i - M_T\n",
      "eom_rot"
     ],
     "language": "python",
     "metadata": {},
     "outputs": [
      {
       "latex": [
        "$$(J_{x} \\dot{P} - J_{y} Q R + Jxz \\dot{R} + \\left(J_{z} R + Jxz P\\right) Q - l)\\mathbf{\\hat{b}_x} + (J_{y} \\dot{Q} + \\left(J_{x} P + Jxz R\\right) R - \\left(J_{z} R + Jxz P\\right) P - m)\\mathbf{\\hat{b}_y} + (J_{y} P Q + J_{z} \\dot{R} + Jxz \\dot{P} - \\left(J_{x} P + Jxz R\\right) Q - n)\\mathbf{\\hat{b}_z}$$"
       ],
       "metadata": {},
       "output_type": "pyout",
       "png": "[encoded data removed]",
       "prompt_number": 26,
       "text": [
        "(J\u2093\u22c5P\u0307 - J_y\u22c5Q\u22c5R + Jxz\u22c5R\u0307 + (J_z\u22c5R + Jxz\u22c5P)\u22c5Q - l) \u001b[94m\u001b[1mb_x\u001b[0;0m\u001b[0;0m + (J_y\u22c5Q\u0307 + (J\u2093\u22c5P + Jxz\u22c5R)\u22c5R - (J_z\u22c5R + Jxz\u22c5P)\u22c5P - m) \u001b[94m\u001b[1mb_y\u001b[0;0m\u001b[0;0m + (J_y\u22c5P\u22c5Q + J_z\u22c5R\u0307 + Jxz\u22c5P\u0307 - (J\u2093\u22c5P + Jxz\u22c5R)\u22c5Q - n) \u001b[94m\u001b[1mb_z\u001b[0;0m\u001b[0;0m"
       ]
      }
     ],
     "prompt_number": 26
    },
    {
     "cell_type": "code",
     "collapsed": false,
     "input": [
      "rot_sol = sympy.solve([eom_rot.dot(frame_b.x) - P(t).diff(t),\n",
      "             eom_rot.dot(frame_b.y) - Q(t).diff(t),\n",
      "             eom_rot.dot(frame_b.z) - R(t).diff(t)], [P(t).diff(t), Q(t).diff(t), R(t).diff(t)])\n",
      "rot_sol"
     ],
     "language": "python",
     "metadata": {},
     "outputs": [
      {
       "latex": [
        "$$\\begin{Bmatrix}\\dot{P} : \\frac{1}{Jxz^{2} - \\left(J_{x} - 1\\right) \\left(J_{z} - 1\\right)} \\left(Jxz \\left(J_{x} P Q - J_{y} P Q + Jxz Q R + n\\right) - \\left(J_{z} - 1\\right) \\left(J_{y} Q R - J_{z} Q R - Jxz P Q + l\\right)\\right), & \\dot{Q} : \\frac{1}{J_{y} - 1} \\left(- J_{x} P R + J_{z} P R + Jxz P^{2} - Jxz R^{2} + m\\right), & \\dot{R} : \\frac{1}{Jxz^{2} - \\left(J_{x} - 1\\right) \\left(J_{z} - 1\\right)} \\left(Jxz \\left(J_{y} Q R - J_{z} Q R - Jxz P Q + l\\right) - \\left(J_{x} - 1\\right) \\left(J_{x} P Q - J_{y} P Q + Jxz Q R + n\\right)\\right)\\end{Bmatrix}$$"
       ],
       "metadata": {},
       "output_type": "pyout",
       "png": "[encoded data removed]",
       "prompt_number": 27,
       "text": [
        "\u23a7                                                                             \n",
        "\u23aa    Jxz\u22c5(J\u2093\u22c5P\u22c5Q - J_y\u22c5P\u22c5Q + Jxz\u22c5Q\u22c5R + n) - (J_z - 1)\u22c5(J_y\u22c5Q\u22c5R - J_z\u22c5Q\u22c5R - Jxz\n",
        "\u23a8P\u0307: \u2500\u2500\u2500\u2500\u2500\u2500\u2500\u2500\u2500\u2500\u2500\u2500\u2500\u2500\u2500\u2500\u2500\u2500\u2500\u2500\u2500\u2500\u2500\u2500\u2500\u2500\u2500\u2500\u2500\u2500\u2500\u2500\u2500\u2500\u2500\u2500\u2500\u2500\u2500\u2500\u2500\u2500\u2500\u2500\u2500\u2500\u2500\u2500\u2500\u2500\u2500\u2500\u2500\u2500\u2500\u2500\u2500\u2500\u2500\u2500\u2500\u2500\u2500\u2500\u2500\u2500\u2500\u2500\u2500\u2500\u2500\u2500\u2500\n",
        "\u23aa                                   2                                         \n",
        "\u23a9                                Jxz  - (J\u2093 - 1)\u22c5(J_z - 1)                    \n",
        "\n",
        "                                        2        2                            \n",
        "\u22c5P\u22c5Q + l)      -J\u2093\u22c5P\u22c5R + J_z\u22c5P\u22c5R + Jxz\u22c5P  - Jxz\u22c5R  + m      Jxz\u22c5(J_y\u22c5Q\u22c5R - J_z\n",
        "\u2500\u2500\u2500\u2500\u2500\u2500\u2500\u2500\u2500, Q\u0307: \u2500\u2500\u2500\u2500\u2500\u2500\u2500\u2500\u2500\u2500\u2500\u2500\u2500\u2500\u2500\u2500\u2500\u2500\u2500\u2500\u2500\u2500\u2500\u2500\u2500\u2500\u2500\u2500\u2500\u2500\u2500\u2500\u2500\u2500\u2500\u2500\u2500\u2500\u2500, R\u0307: \u2500\u2500\u2500\u2500\u2500\u2500\u2500\u2500\u2500\u2500\u2500\u2500\u2500\u2500\u2500\u2500\u2500\u2500\n",
        "                               J_y - 1                                        \n",
        "                                                                              \n",
        "\n",
        "                                                               \u23ab\n",
        "\u22c5Q\u22c5R - Jxz\u22c5P\u22c5Q + l) - (J\u2093 - 1)\u22c5(J\u2093\u22c5P\u22c5Q - J_y\u22c5P\u22c5Q + Jxz\u22c5Q\u22c5R + n)\u23aa\n",
        "\u2500\u2500\u2500\u2500\u2500\u2500\u2500\u2500\u2500\u2500\u2500\u2500\u2500\u2500\u2500\u2500\u2500\u2500\u2500\u2500\u2500\u2500\u2500\u2500\u2500\u2500\u2500\u2500\u2500\u2500\u2500\u2500\u2500\u2500\u2500\u2500\u2500\u2500\u2500\u2500\u2500\u2500\u2500\u2500\u2500\u2500\u2500\u2500\u2500\u2500\u2500\u2500\u2500\u2500\u2500\u2500\u2500\u2500\u2500\u2500\u2500\u2500\u2500\u23ac\n",
        "             2                                                 \u23aa\n",
        "          Jxz  - (J\u2093 - 1)\u22c5(J_z - 1)                            \u23ad"
       ]
      }
     ],
     "prompt_number": 27
    },
    {
     "cell_type": "code",
     "collapsed": false,
     "input": [
      "L_i = aircraft.linear_momentum(frame_i)\n",
      "di_L_i = L_i.diff(t, frame_w) + frame_w.ang_vel_in(frame_i).cross(L_i)\n",
      "eom_trans = di_L_i - F_T\n",
      "eom_trans"
     ],
     "language": "python",
     "metadata": {},
     "outputs": [
      {
       "latex": [
        "$$M \\dot{V}\\mathbf{\\hat{w}_x} + M \\left(- P \\operatorname{sin}\\left(\\alpha\\right) \\operatorname{cos}\\left(\\beta\\right) - Q \\operatorname{sin}\\left(\\alpha\\right) \\operatorname{sin}\\left(\\beta\\right) + R \\operatorname{cos}\\left(\\alpha\\right) + \\operatorname{cos}\\left(\\alpha\\right) \\dot{\\beta}\\right) V\\mathbf{\\hat{w}_y} -  M \\left(- P \\operatorname{sin}\\left(\\beta\\right) + Q \\operatorname{cos}\\left(\\beta\\right) - \\dot{\\alpha}\\right) V\\mathbf{\\hat{w}_z} + D\\mathbf{\\hat{b}_x} + Y\\mathbf{\\hat{b}_y} + L\\mathbf{\\hat{b}_z} -  M g\\mathbf{\\hat{i}_z}$$"
       ],
       "metadata": {},
       "output_type": "pyout",
       "png": "[encoded data removed]",
       "prompt_number": 28,
       "text": [
        "M\u22c5V\u0307 \u001b[94m\u001b[1mw_x\u001b[0;0m\u001b[0;0m + M\u22c5(-P\u22c5sin(\u03b1)\u22c5cos(\u03b2) - Q\u22c5sin(\u03b1)\u22c5sin(\u03b2) + R\u22c5cos(\u03b1) + cos(\u03b1)\u22c5\u03b2\u0307)\u22c5V \u001b[94m\u001b[1mw_y\u001b[0;0m\u001b[0;0m - M\u22c5(-P\u22c5sin(\u03b2) + Q\u22c5cos(\u03b2) - \u03b1\u0307)\u22c5V \u001b[94m\u001b[1mw_z\u001b[0;0m\u001b[0;0m + D \u001b[94m\u001b[1mb_x\u001b[0;0m\u001b[0;0m + Y \u001b[94m\u001b[1mb_y\u001b[0;0m\u001b[0;0m + L \u001b[94m\u001b[1mb_z\u001b[0;0m\u001b[0;0m - M\u22c5g \u001b[94m\u001b[1mi_z\u001b[0;0m\u001b[0;0m"
       ]
      }
     ],
     "prompt_number": 28
    },
    {
     "cell_type": "code",
     "collapsed": false,
     "input": [
      "Lagrangian = mech.Lagrangian(frame_i, aircraft)\n",
      "Lagrangian"
     ],
     "language": "python",
     "metadata": {},
     "outputs": [
      {
       "latex": [
        "$$\\frac{J_{y} Q^{2}}{2} + \\frac{M V^{2}}{2} - g m h + \\left(\\frac{J_{x} P}{2} + \\frac{Jxz R}{2}\\right) P + \\left(\\frac{J_{z} R}{2} + \\frac{Jxz P}{2}\\right) R$$"
       ],
       "metadata": {},
       "output_type": "pyout",
       "png": "[encoded data removed]",
       "prompt_number": 29,
       "text": [
        "     2      2                                               \n",
        "J_y\u22c5Q    M\u22c5V            \u239bJ\u2093\u22c5P   Jxz\u22c5R\u239e     \u239bJ_z\u22c5R   Jxz\u22c5P\u239e  \n",
        "\u2500\u2500\u2500\u2500\u2500\u2500 + \u2500\u2500\u2500\u2500 - g\u22c5m\u22c5h + \u239c\u2500\u2500\u2500\u2500 + \u2500\u2500\u2500\u2500\u2500\u239f\u22c5P + \u239c\u2500\u2500\u2500\u2500\u2500 + \u2500\u2500\u2500\u2500\u2500\u239f\u22c5R\n",
        "  2       2             \u239d 2       2  \u23a0     \u239d  2       2  \u23a0  "
       ]
      }
     ],
     "prompt_number": 29
    },
    {
     "cell_type": "code",
     "collapsed": false,
     "input": [
      "v_cm_i = point_cm.vel(frame_i).express(frame_i)\n",
      "v_cm_i.dot(frame_i.x)"
     ],
     "language": "python",
     "metadata": {},
     "outputs": [
      {
       "latex": [
        "$$\\left(\\left(\\operatorname{sin}\\left(\\phi\\right) \\operatorname{sin}\\left(\\psi\\right) + \\operatorname{sin}\\left(\\theta\\right) \\operatorname{cos}\\left(\\phi\\right) \\operatorname{cos}\\left(\\psi\\right)\\right) \\operatorname{sin}\\left(\\alpha\\right) + \\left(- \\operatorname{sin}\\left(\\phi\\right) \\operatorname{cos}\\left(\\psi\\right) + \\operatorname{sin}\\left(\\psi\\right) \\operatorname{sin}\\left(\\theta\\right) \\operatorname{cos}\\left(\\phi\\right)\\right) \\operatorname{sin}\\left(\\beta\\right) \\operatorname{cos}\\left(\\alpha\\right) + \\operatorname{cos}\\left(\\alpha\\right) \\operatorname{cos}\\left(\\beta\\right) \\operatorname{cos}\\left(\\phi\\right) \\operatorname{cos}\\left(\\theta\\right)\\right) V$$"
       ],
       "metadata": {},
       "output_type": "pyout",
       "png": "[encoded data removed]",
       "prompt_number": 30,
       "text": [
        "((sin(\u03c6)\u22c5sin(\u03c8) + sin(\u03b8)\u22c5cos(\u03c6)\u22c5cos(\u03c8))\u22c5sin(\u03b1) + (-sin(\u03c6)\u22c5cos(\u03c8) + sin(\u03c8)\u22c5sin(\n",
        "\u03b8)\u22c5cos(\u03c6))\u22c5sin(\u03b2)\u22c5cos(\u03b1) + cos(\u03b1)\u22c5cos(\u03b2)\u22c5cos(\u03c6)\u22c5cos(\u03b8))\u22c5V"
       ]
      }
     ],
     "prompt_number": 30
    },
    {
     "cell_type": "code",
     "collapsed": false,
     "input": [
      "x_vect = sympy.Matrix([P, Q, R, phi, theta, psi, V, alpha, beta, x, y, z])\n",
      "u_vect = sympy.Matrix([L, D, Y, l, m, n])\n",
      "\n",
      "State = collections.namedtuple('State', ['phi', 'theta', 'psi', 'P', 'Q', 'R', 'V', 'alpha', 'beta', 'x', 'y', 'z'])\n",
      "Input = collections.namedtuple('Input', ['L', 'D', 'Y', 'l', 'm', 'n'])\n",
      "\n",
      "remove_t_sub = {var[0](t):var[0] for var in x_vect.tolist() + u_vect.tolist()}\n",
      "\n",
      "rhs = sympy.Matrix([\n",
      "    rot_sol[P(t).diff(t)],\n",
      "    rot_sol[Q(t).diff(t)],\n",
      "    rot_sol[R(t).diff(t)],\n",
      "    euler_sol[phi(t).diff(t)],\n",
      "    euler_sol[theta(t).diff(t)],\n",
      "    euler_sol[psi(t).diff(t)],\n",
      "    sympy.solve(eom_trans.dot(frame_w.x), V(t).diff(t))[0],\n",
      "    sympy.solve(eom_trans.dot(frame_w.z), alpha(t).diff(t))[0],\n",
      "    sympy.solve(eom_trans.dot(frame_w.y), beta(t).diff(t))[0],\n",
      "    v_cm_i.dot(frame_i.x),\n",
      "    v_cm_i.dot(frame_i.y),\n",
      "    v_cm_i.dot(frame_i.z),\n",
      "    ]).subs(remove_t_sub)"
     ],
     "language": "python",
     "metadata": {},
     "outputs": [],
     "prompt_number": 31
    },
    {
     "cell_type": "code",
     "collapsed": false,
     "input": [
      "print rhs"
     ],
     "language": "python",
     "metadata": {},
     "outputs": [
      {
       "output_type": "stream",
       "stream": "stdout",
       "text": [
        "Matrix([[(Jxz*(J_x*P*Q - J_y*P*Q + Jxz*Q*R + n) - (J_z - 1)*(J_y*Q*R - J_z*Q*R - Jxz*P*Q + l))/(Jxz**2 - (J_x - 1)*(J_z - 1))], [(-J_x*P*R + J_z*P*R + Jxz*P**2 - Jxz*R**2 + m)/(J_y - 1)], [(Jxz*(J_y*Q*R - J_z*Q*R - Jxz*P*Q + l) - (J_x - 1)*(J_x*P*Q - J_y*P*Q + Jxz*Q*R + n))/(Jxz**2 - (J_x - 1)*(J_z - 1))], [(Q*sin(psi) + R*cos(psi))/cos(theta)], [Q*cos(psi) - R*sin(psi)], [P + Q*sin(psi)*tan(theta) + R*cos(psi)*tan(theta)], [(-D*cos(alpha)*cos(beta) - L*sin(alpha) + M*g*(sin(alpha)*cos(psi)*cos(theta) + sin(beta)*sin(psi)*cos(alpha)*cos(theta) - sin(theta)*cos(alpha)*cos(beta)) - Y*sin(beta)*cos(alpha))/M], [(D*sin(alpha)*cos(beta) - L*cos(alpha) + M*V*(-P*sin(beta) + Q*cos(beta)) + M*g*(-sin(alpha)*sin(beta)*sin(psi)*cos(theta) + sin(alpha)*sin(theta)*cos(beta) + cos(alpha)*cos(psi)*cos(theta)) + Y*sin(alpha)*sin(beta))/(M*V)], [(D*sin(beta) - M*R*V*cos(alpha) + M*V*(P*cos(beta) + Q*sin(beta))*sin(alpha) + M*g*(sin(beta)*sin(theta) + sin(psi)*cos(beta)*cos(theta)) - Y*cos(beta))/(M*V*cos(alpha))], [V*((sin(phi)*sin(psi) + sin(theta)*cos(phi)*cos(psi))*sin(alpha) + (-sin(phi)*cos(psi) + sin(psi)*sin(theta)*cos(phi))*sin(beta)*cos(alpha) + cos(alpha)*cos(beta)*cos(phi)*cos(theta))], [V*((sin(phi)*sin(psi)*sin(theta) + cos(phi)*cos(psi))*sin(beta)*cos(alpha) + (sin(phi)*sin(theta)*cos(psi) - sin(psi)*cos(phi))*sin(alpha) + sin(phi)*cos(alpha)*cos(beta)*cos(theta))], [V*(sin(alpha)*cos(psi)*cos(theta) + sin(beta)*sin(psi)*cos(alpha)*cos(theta) - sin(theta)*cos(alpha)*cos(beta))]])\n"
       ]
      }
     ],
     "prompt_number": 45
    },
    {
     "cell_type": "code",
     "collapsed": false,
     "input": [
      "const = {J_x:0.1, J_y:0.1, J_z:0.1, Jxz:0.1, M:1, g:9.8}\n",
      "x0 = [0,0,0,0,0,0,10,0,0,0,0,0]\n",
      "u0 = [0,0,0,0,0,0]"
     ],
     "language": "python",
     "metadata": {},
     "outputs": [],
     "prompt_number": 56
    },
    {
     "cell_type": "code",
     "collapsed": false,
     "input": [
      "sympy_utils.save_sympy_expr(\n",
      "    {'rhs': rhs, 't': t, 'x_vect': x_vect, 'u_vect': u_vect,\n",
      "     'constants': const},\n",
      "    os.path.join('save', 'wind_kinematics.sympy'))"
     ],
     "language": "python",
     "metadata": {},
     "outputs": [],
     "prompt_number": 92
    },
    {
     "cell_type": "code",
     "collapsed": false,
     "input": [
      "wind_kinematics = sympy_utils.load_sympy_expr(\n",
      "    os.path.join('save', 'wind_kinematics.sympy'))"
     ],
     "language": "python",
     "metadata": {},
     "outputs": [],
     "prompt_number": 93
    },
    {
     "cell_type": "code",
     "collapsed": false,
     "input": [
      "f_sim, f_jac = sympy_utils.rhs_to_scipy_ode(**wind_kinematics)"
     ],
     "language": "python",
     "metadata": {},
     "outputs": [],
     "prompt_number": 94
    },
    {
     "cell_type": "code",
     "collapsed": false,
     "input": [
      "%%timeit\n",
      "f_sim(1, x0, u0)"
     ],
     "language": "python",
     "metadata": {},
     "outputs": [
      {
       "output_type": "stream",
       "stream": "stdout",
       "text": [
        "10000 loops, best of 3: 21.4 \u00b5s per loop\n"
       ]
      }
     ],
     "prompt_number": 95
    },
    {
     "cell_type": "code",
     "collapsed": false,
     "input": [
      "ode = scipy.integrate.ode(f_sim, f_jac)\n",
      "ode.set_initial_value(x0)\n",
      "\n",
      "dt = 0.01\n",
      "Data = collections.namedtuple('Data', ['t', 'x'])\n",
      "\n",
      "data = Data([], [])\n",
      "u = u0\n",
      "\n",
      "while ode.t < 10:\n",
      "    data.x.append(ode.y)\n",
      "    data.t.append(ode.t)\n",
      "    state = State(*ode.y)\n",
      "    state.P\n",
      "    u = [9.7,1,1,1,1,10]\n",
      "    ode.set_f_params(u)\n",
      "    ode.set_jac_params(u)\n",
      "    ode.integrate(ode.t + dt)\n",
      "\n",
      "hist = State(*np.array(data.x).T)"
     ],
     "language": "python",
     "metadata": {},
     "outputs": [],
     "prompt_number": 96
    },
    {
     "cell_type": "code",
     "collapsed": false,
     "input": [
      "plt.plot(data.t, np.array([hist.x, hist.y, hist.z]).T);"
     ],
     "language": "python",
     "metadata": {},
     "outputs": [
      {
       "metadata": {},
       "output_type": "display_data",
       "png": "[encoded data removed]",
       "text": [
        "<matplotlib.figure.Figure at 0x6b59b10>"
       ]
      }
     ],
     "prompt_number": 97
    }
   ],
   "metadata": {}
  }
 ]
}