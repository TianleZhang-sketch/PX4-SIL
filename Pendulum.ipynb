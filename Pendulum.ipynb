{
 "metadata": {
  "name": "",
  "signature": "sha256:12f918500a7b12655280055c9570434578d7d0be32962af7886c343bfa9b7ac1"
 },
 "nbformat": 3,
 "nbformat_minor": 0,
 "worksheets": [
  {
   "cells": [
    {
     "cell_type": "code",
     "collapsed": false,
     "input": [
      "import sympy\n",
      "\n",
      "import sympy.physics.mechanics as mech\n",
      "import os\n",
      "import matplotlib.pyplot as plt\n",
      "\n",
      "from sympy.printing.theanocode import theano_function\n",
      "from sympy_utils import rhs_to_scipy_ode, \\\n",
      "    save_sympy_expr, load_sympy_expr, gen_fortran_module\n",
      "from numpy import f2py\n",
      "import numpy as np\n",
      "from sympy.utilities import codegen\n",
      "\n",
      "%matplotlib inline\n",
      "%load_ext autoreload\n",
      "%autoreload 2\n",
      "sympy.init_printing()\n",
      "mech.init_vprinting()"
     ],
     "language": "python",
     "metadata": {},
     "outputs": [],
     "prompt_number": 1
    },
    {
     "cell_type": "heading",
     "level": 1,
     "metadata": {},
     "source": [
      "Dynamics"
     ]
    },
    {
     "cell_type": "code",
     "collapsed": false,
     "input": [
      "tau, theta = mech.dynamicsymbols('tau theta')\n",
      "\n",
      "m, g, l, t = sympy.symbols('m, g, l, t')\n",
      "\n",
      "x = (theta, theta.diff(t))\n",
      "u = (tau,)\n",
      "x_ = sympy.MatrixSymbol('x', 2,1)\n",
      "u_ = sympy.Symbol('u')\n",
      "ss_sub = {\n",
      "    theta: x_[0,0],\n",
      "    theta.diff(t): x_[1,0],\n",
      "    tau: u_}\n",
      "    \n",
      "frame_i = mech.ReferenceFrame('i')\n",
      "frame_b = frame_i.orientnew(\n",
      "    newname='b', rot_type='Axis',\n",
      "    amounts=(theta, frame_i.y))\n",
      "point_o = mech.Point('o')\n",
      "point_o.set_vel(frame_i, 0)\n",
      "point_cm = point_o.locatenew('cm', -l*frame_b.z)\n",
      "point_cm.set_vel(frame_b, 0)\n",
      "point_cm.v1pt_theory(otherpoint=point_o,\n",
      "                     outframe=frame_i, interframe=frame_b)\n",
      "ball = mech.Particle(name='ball', point=point_cm, mass=m)\n",
      "ball.set_potential_energy(m*g*l*sympy.cos(theta))\n",
      "L = mech.Lagrangian(frame_i, ball)\n",
      "lm = mech.LagrangesMethod(Lagrangian=L, qs=[theta], coneqs=None,\n",
      "                     forcelist=[(frame_b, tau*frame_b.y)], frame=frame_i)\n",
      "lm.form_lagranges_equations();"
     ],
     "language": "python",
     "metadata": {},
     "outputs": [],
     "prompt_number": 2
    },
    {
     "cell_type": "code",
     "collapsed": false,
     "input": [
      "sympy.Eq(sympy.Symbol('L'), L)"
     ],
     "language": "python",
     "metadata": {},
     "outputs": [
      {
       "latex": [
        "$$L = - g l m \\operatorname{cos}\\left(\\theta\\right) + \\frac{l^{2} m}{2} \\left(\\dot{\\theta}\\right)^{2}$$"
       ],
       "metadata": {},
       "output_type": "pyout",
       "png": "[encoded data removed]",
       "prompt_number": 3,
       "text": [
        "                     2     2\n",
        "                    l \u22c5m\u22c5\u03b8\u0307 \n",
        "L = -g\u22c5l\u22c5m\u22c5cos(\u03b8) + \u2500\u2500\u2500\u2500\u2500\u2500\u2500\u2500\n",
        "                       2    "
       ]
      }
     ],
     "prompt_number": 3
    },
    {
     "cell_type": "code",
     "collapsed": false,
     "input": [
      "lm.eom[0]"
     ],
     "language": "python",
     "metadata": {},
     "outputs": [
      {
       "latex": [
        "$$- g l m \\operatorname{sin}\\left(\\theta\\right) + l^{2} m \\ddot{\\theta} - \\tau$$"
       ],
       "metadata": {},
       "output_type": "pyout",
       "png": "[encoded data removed]",
       "prompt_number": 4,
       "text": [
        "                 2         \n",
        "-g\u22c5l\u22c5m\u22c5sin(\u03b8) + l \u22c5m\u22c5\u03b8\u0308 - \u03c4"
       ]
      }
     ],
     "prompt_number": 4
    },
    {
     "cell_type": "code",
     "collapsed": false,
     "input": [
      "sympy.Eq(lm.eom[0], 0)"
     ],
     "language": "python",
     "metadata": {},
     "outputs": [
      {
       "latex": [
        "$$- g l m \\operatorname{sin}\\left(\\theta\\right) + l^{2} m \\ddot{\\theta} - \\tau = 0$$"
       ],
       "metadata": {},
       "output_type": "pyout",
       "png": "[encoded data removed]",
       "prompt_number": 5,
       "text": [
        "                 2             \n",
        "-g\u22c5l\u22c5m\u22c5sin(\u03b8) + l \u22c5m\u22c5\u03b8\u0308 - \u03c4 = 0"
       ]
      }
     ],
     "prompt_number": 5
    },
    {
     "cell_type": "code",
     "collapsed": false,
     "input": [
      "rhs = lm.rhs()\n",
      "rhs"
     ],
     "language": "python",
     "metadata": {},
     "outputs": [
      {
       "latex": [
        "$$\\left[\\begin{matrix}\\dot{\\theta}\\\\\\frac{1}{l^{2} m} \\left(g l m \\operatorname{sin}\\left(\\theta\\right) + \\tau\\right)\\end{matrix}\\right]$$"
       ],
       "metadata": {},
       "output_type": "pyout",
       "png": "[encoded data removed]",
       "prompt_number": 6,
       "text": [
        "\u23a1       \u03b8\u0307       \u23a4\n",
        "\u23a2                \u23a5\n",
        "\u23a2g\u22c5l\u22c5m\u22c5sin(\u03b8) + \u03c4\u23a5\n",
        "\u23a2\u2500\u2500\u2500\u2500\u2500\u2500\u2500\u2500\u2500\u2500\u2500\u2500\u2500\u2500\u2500\u2500\u23a5\n",
        "\u23a2       2        \u23a5\n",
        "\u23a3      l \u22c5m      \u23a6"
       ]
      }
     ],
     "prompt_number": 6
    },
    {
     "cell_type": "code",
     "collapsed": false,
     "input": [
      "rhs.jacobian(x)"
     ],
     "language": "python",
     "metadata": {},
     "outputs": [
      {
       "latex": [
        "$$\\left[\\begin{matrix}0 & 1\\\\\\frac{g \\operatorname{cos}\\left(\\theta\\right)}{l} & 0\\end{matrix}\\right]$$"
       ],
       "metadata": {},
       "output_type": "pyout",
       "png": "[encoded data removed]",
       "prompt_number": 7,
       "text": [
        "\u23a1   0      1\u23a4\n",
        "\u23a2           \u23a5\n",
        "\u23a2g\u22c5cos(\u03b8)   \u23a5\n",
        "\u23a2\u2500\u2500\u2500\u2500\u2500\u2500\u2500\u2500  0\u23a5\n",
        "\u23a3   l       \u23a6"
       ]
      }
     ],
     "prompt_number": 7
    },
    {
     "cell_type": "code",
     "collapsed": false,
     "input": [
      "A = rhs.jacobian(x)\n",
      "A"
     ],
     "language": "python",
     "metadata": {},
     "outputs": [
      {
       "latex": [
        "$$\\left[\\begin{matrix}0 & 1\\\\\\frac{g \\operatorname{cos}\\left(\\theta\\right)}{l} & 0\\end{matrix}\\right]$$"
       ],
       "metadata": {},
       "output_type": "pyout",
       "png": "[encoded data removed]",
       "prompt_number": 8,
       "text": [
        "\u23a1   0      1\u23a4\n",
        "\u23a2           \u23a5\n",
        "\u23a2g\u22c5cos(\u03b8)   \u23a5\n",
        "\u23a2\u2500\u2500\u2500\u2500\u2500\u2500\u2500\u2500  0\u23a5\n",
        "\u23a3   l       \u23a6"
       ]
      }
     ],
     "prompt_number": 8
    },
    {
     "cell_type": "code",
     "collapsed": false,
     "input": [
      "B = rhs.jacobian(u)\n",
      "B"
     ],
     "language": "python",
     "metadata": {},
     "outputs": [
      {
       "latex": [
        "$$\\left[\\begin{matrix}0\\\\\\frac{1}{l^{2} m}\\end{matrix}\\right]$$"
       ],
       "metadata": {},
       "output_type": "pyout",
       "png": "[encoded data removed]",
       "prompt_number": 9,
       "text": [
        "\u23a1 0  \u23a4\n",
        "\u23a2    \u23a5\n",
        "\u23a2 1  \u23a5\n",
        "\u23a2\u2500\u2500\u2500\u2500\u23a5\n",
        "\u23a2 2  \u23a5\n",
        "\u23a3l \u22c5m\u23a6"
       ]
      }
     ],
     "prompt_number": 9
    },
    {
     "cell_type": "heading",
     "level": 1,
     "metadata": {},
     "source": [
      "Measurements"
     ]
    },
    {
     "cell_type": "markdown",
     "metadata": {},
     "source": [
      "Find accelerometer measurement."
     ]
    },
    {
     "cell_type": "code",
     "collapsed": false,
     "input": [
      "accel = point_cm.acc(frame_i)  - frame_i.z*g\n",
      "accel"
     ],
     "language": "python",
     "metadata": {},
     "outputs": [
      {
       "latex": [
        "$$-  l \\ddot{\\theta}\\mathbf{\\hat{b}_x} + l \\left(\\dot{\\theta}\\right)^{2}\\mathbf{\\hat{b}_z} -  g\\mathbf{\\hat{i}_z}$$"
       ],
       "metadata": {},
       "output_type": "pyout",
       "png": "[encoded data removed]",
       "prompt_number": 10,
       "text": [
        "- l\u22c5\u03b8\u0308 b_x +     2\n",
        "l\u22c5\u03b8\u0307  b_z - g i_z"
       ]
      }
     ],
     "prompt_number": 10
    },
    {
     "cell_type": "code",
     "collapsed": false,
     "input": [
      "y_accel = accel.to_matrix(frame_b).subs(\n",
      "    theta.diff(t,2), rhs[1]).simplify()\n",
      "y_accel"
     ],
     "language": "python",
     "metadata": {},
     "outputs": [
      {
       "latex": [
        "$$\\left[\\begin{matrix}- \\frac{\\tau}{l m}\\\\0\\\\- g \\operatorname{cos}\\left(\\theta\\right) + l \\left(\\dot{\\theta}\\right)^{2}\\end{matrix}\\right]$$"
       ],
       "metadata": {},
       "output_type": "pyout",
       "png": "[encoded data removed]",
       "prompt_number": 11,
       "text": [
        "\u23a1       -\u03c4        \u23a4\n",
        "\u23a2       \u2500\u2500\u2500       \u23a5\n",
        "\u23a2       l\u22c5m       \u23a5\n",
        "\u23a2                 \u23a5\n",
        "\u23a2        0        \u23a5\n",
        "\u23a2                 \u23a5\n",
        "\u23a2                2\u23a5\n",
        "\u23a3-g\u22c5cos(\u03b8) + l\u22c5\u03b8\u0307 \u23a6"
       ]
      }
     ],
     "prompt_number": 11
    },
    {
     "cell_type": "code",
     "collapsed": false,
     "input": [
      "C_accel = y_accel.jacobian(x)\n",
      "C_accel"
     ],
     "language": "python",
     "metadata": {},
     "outputs": [
      {
       "latex": [
        "$$\\left[\\begin{matrix}0 & 0\\\\0 & 0\\\\g \\operatorname{sin}\\left(\\theta\\right) & 2 l \\dot{\\theta}\\end{matrix}\\right]$$"
       ],
       "metadata": {},
       "output_type": "pyout",
       "png": "[encoded data removed]",
       "prompt_number": 12,
       "text": [
        "\u23a1   0        0   \u23a4\n",
        "\u23a2                \u23a5\n",
        "\u23a2   0        0   \u23a5\n",
        "\u23a2                \u23a5\n",
        "\u23a3g\u22c5sin(\u03b8)  2\u22c5l\u22c5\u03b8\u0307\u23a6"
       ]
      }
     ],
     "prompt_number": 12
    },
    {
     "cell_type": "markdown",
     "metadata": {},
     "source": [
      "Now we save all the expressions to disk."
     ]
    },
    {
     "cell_type": "code",
     "collapsed": false,
     "input": [
      "save_file= os.path.join('save','pendulum.sympy')\n",
      "save_sympy_expr({'tau':tau, 'theta': theta, 't':t,\n",
      "         'm': m, 'g': g, 'l': l,\n",
      "         'A':A, 'B':B,\n",
      "         'rhs':rhs, 'y_accel': y_accel, 'x':x,\n",
      "         'u':u}, save_file)"
     ],
     "language": "python",
     "metadata": {},
     "outputs": [],
     "prompt_number": 13
    },
    {
     "cell_type": "code",
     "collapsed": false,
     "input": [
      "d = load_sympy_expr(save_file)"
     ],
     "language": "python",
     "metadata": {},
     "outputs": [],
     "prompt_number": 14
    },
    {
     "cell_type": "code",
     "collapsed": false,
     "input": [
      "d['A']"
     ],
     "language": "python",
     "metadata": {},
     "outputs": [
      {
       "latex": [
        "$$\\left[\\begin{matrix}0 & 1\\\\\\frac{g \\operatorname{cos}\\left(\\theta\\right)}{l} & 0\\end{matrix}\\right]$$"
       ],
       "metadata": {},
       "output_type": "pyout",
       "png": "[encoded data removed]",
       "prompt_number": 15,
       "text": [
        "\u23a1   0      1\u23a4\n",
        "\u23a2           \u23a5\n",
        "\u23a2g\u22c5cos(\u03b8)   \u23a5\n",
        "\u23a2\u2500\u2500\u2500\u2500\u2500\u2500\u2500\u2500  0\u23a5\n",
        "\u23a3   l       \u23a6"
       ]
      }
     ],
     "prompt_number": 15
    },
    {
     "cell_type": "markdown",
     "metadata": {},
     "source": [
      "Inject dictionary of expressions into the global namespace."
     ]
    },
    {
     "cell_type": "code",
     "collapsed": false,
     "input": [
      "locals().update(d)"
     ],
     "language": "python",
     "metadata": {},
     "outputs": [],
     "prompt_number": 16
    },
    {
     "cell_type": "code",
     "collapsed": false,
     "input": [
      "A"
     ],
     "language": "python",
     "metadata": {},
     "outputs": [
      {
       "latex": [
        "$$\\left[\\begin{matrix}0 & 1\\\\\\frac{g \\operatorname{cos}\\left(\\theta\\right)}{l} & 0\\end{matrix}\\right]$$"
       ],
       "metadata": {},
       "output_type": "pyout",
       "png": "[encoded data removed]",
       "prompt_number": 17,
       "text": [
        "\u23a1   0      1\u23a4\n",
        "\u23a2           \u23a5\n",
        "\u23a2g\u22c5cos(\u03b8)   \u23a5\n",
        "\u23a2\u2500\u2500\u2500\u2500\u2500\u2500\u2500\u2500  0\u23a5\n",
        "\u23a3   l       \u23a6"
       ]
      }
     ],
     "prompt_number": 17
    },
    {
     "cell_type": "code",
     "collapsed": false,
     "input": [
      "B"
     ],
     "language": "python",
     "metadata": {},
     "outputs": [
      {
       "latex": [
        "$$\\left[\\begin{matrix}0\\\\\\frac{1}{l^{2} m}\\end{matrix}\\right]$$"
       ],
       "metadata": {},
       "output_type": "pyout",
       "png": "[encoded data removed]",
       "prompt_number": 18,
       "text": [
        "\u23a1 0  \u23a4\n",
        "\u23a2    \u23a5\n",
        "\u23a2 1  \u23a5\n",
        "\u23a2\u2500\u2500\u2500\u2500\u23a5\n",
        "\u23a2 2  \u23a5\n",
        "\u23a3l \u22c5m\u23a6"
       ]
      }
     ],
     "prompt_number": 18
    },
    {
     "cell_type": "heading",
     "level": 1,
     "metadata": {},
     "source": [
      "Generate Code"
     ]
    },
    {
     "cell_type": "code",
     "collapsed": false,
     "input": [
      "def gen_pendulum_module(x, rhs, u, y, const):\n",
      "    \n",
      "    t = sympy.Symbol('t')\n",
      "    \n",
      "    n_x = len(x)\n",
      "    n_y = len(y)\n",
      "    n_u = len(u)\n",
      "    \n",
      "    A = rhs.jacobian(x)\n",
      "    B = rhs.jacobian(u)\n",
      "    \n",
      "    x_dot_ = sympy.MatrixSymbol('x_dot_', n_x, 1)\n",
      "    A_ = sympy.MatrixSymbol('A_', n_x, n_x)\n",
      "    B_ = sympy.MatrixSymbol('B_', n_x, n_u)\n",
      "        \n",
      "    r_f = codegen.Routine('f',\n",
      "        sympy.Equality(x_dot_, rhs.subs(ss_sub)),\n",
      "        (x_dot_, t, x_, u_) + const)\n",
      "    \n",
      "    r_f_lin = codegen.Routine('f_lin',\n",
      "        [sympy.Equality(A_, A.subs(ss_sub)),\n",
      "         sympy.Equality(B_, B.subs(ss_sub)),\n",
      "        ], (A_, B_, t, x_, u_) + const)\n",
      "    \n",
      "    y_ = sympy.MatrixSymbol('y_', n_y, 1)\n",
      "    r_y = codegen.Routine(\n",
      "        'y',\n",
      "        sympy.Equality(y_, y.subs(ss_sub)),\n",
      "        (y_, t, x_, u_) + const)\n",
      "    \n",
      "    C = y.jacobian(x)\n",
      "    C_ = sympy.MatrixSymbol('C_', n_y, n_x)\n",
      "    r_C = codegen.Routine(\n",
      "        'C',\n",
      "        sympy.Equality(C_, C.subs(ss_sub)),\n",
      "        (C_, t, x_, u_) + const)\n",
      "    \n",
      "    return gen_fortran_module('pendulum',\n",
      "               [r_f, r_f_lin, r_y, r_C],\n",
      "               'PX4-SIL')"
     ],
     "language": "python",
     "metadata": {},
     "outputs": [],
     "prompt_number": 19
    },
    {
     "cell_type": "code",
     "collapsed": false,
     "input": [
      "pendulum_src = gen_pendulum_module(x, rhs, u, y_accel, (m, g, l))\n",
      "with open('pendulum.f90','w') as fid:\n",
      "    fid.write(pendulum_src)\n",
      "print pendulum_src"
     ],
     "language": "python",
     "metadata": {},
     "outputs": [
      {
       "output_type": "stream",
       "stream": "stdout",
       "text": [
        "!******************************************************************************\n",
        "!*                    Code generated with sympy 0.7.5-git                     *\n",
        "!*                                                                            *\n",
        "!*              See http://www.sympy.org/ for more information.               *\n",
        "!*                                                                            *\n",
        "!*                       This file is part of 'PX4-SIL'                       *\n",
        "!******************************************************************************\n",
        "\n",
        "subroutine f(x_dot_, t, x, u, m, g, l)\n",
        "implicit none\n",
        "REAL*8, intent(in) :: t\n",
        "REAL*8, intent(in) :: u\n",
        "REAL*8, intent(in) :: m\n",
        "REAL*8, intent(in) :: g\n",
        "REAL*8, intent(in) :: l\n",
        "REAL*8, intent(out), dimension(1:2, 1:1) :: x_dot_\n",
        "REAL*8, intent(in), dimension(1:2, 1:1) :: x\n",
        "\n",
        "x_dot_(1, 1) = x(2, 1)\n",
        "x_dot_(2, 1) = (g*l*m*sin(x(1, 1)) + u)/(l**2*m)\n",
        "\n",
        "end subroutine\n",
        "\n",
        "subroutine f_lin(A_, B_, t, x, u, m, g, l)\n",
        "implicit none\n",
        "REAL*8, intent(in) :: t\n",
        "REAL*8, intent(in) :: u\n",
        "REAL*8, intent(in) :: m\n",
        "REAL*8, intent(in) :: g\n",
        "REAL*8, intent(in) :: l\n",
        "REAL*8, intent(out), dimension(1:2, 1:2) :: A_\n",
        "REAL*8, intent(out), dimension(1:2, 1:1) :: B_\n",
        "REAL*8, intent(in), dimension(1:2, 1:1) :: x\n",
        "\n",
        "A_(1, 1) = 0\n",
        "A_(2, 1) = g*cos(x(1, 1))/l\n",
        "A_(1, 2) = 1\n",
        "A_(2, 2) = 0\n",
        "B_(1, 1) = 0\n",
        "B_(2, 1) = 1/(l**2*m)\n",
        "\n",
        "end subroutine\n",
        "\n",
        "subroutine y(y_, t, x, u, m, g, l)\n",
        "implicit none\n",
        "REAL*8, intent(in) :: t\n",
        "REAL*8, intent(in) :: u\n",
        "REAL*8, intent(in) :: m\n",
        "REAL*8, intent(in) :: g\n",
        "REAL*8, intent(in) :: l\n",
        "REAL*8, intent(out), dimension(1:3, 1:1) :: y_\n",
        "REAL*8, intent(in), dimension(1:2, 1:1) :: x\n",
        "\n",
        "y_(1, 1) = -u/(l*m)\n",
        "y_(2, 1) = 0\n",
        "y_(3, 1) = -g*cos(x(1, 1)) + l*x(2, 1)**2\n",
        "\n",
        "end subroutine\n",
        "\n",
        "subroutine C(C_, t, x, u, m, g, l)\n",
        "implicit none\n",
        "REAL*8, intent(in) :: t\n",
        "REAL*8, intent(in) :: u\n",
        "REAL*8, intent(in) :: m\n",
        "REAL*8, intent(in) :: g\n",
        "REAL*8, intent(in) :: l\n",
        "REAL*8, intent(out), dimension(1:3, 1:2) :: C_\n",
        "REAL*8, intent(in), dimension(1:2, 1:1) :: x\n",
        "\n",
        "C_(1, 1) = 0\n",
        "C_(2, 1) = 0\n",
        "C_(3, 1) = g*sin(x(1, 1))\n",
        "C_(1, 2) = 0\n",
        "C_(2, 2) = 0\n",
        "C_(3, 2) = 2*l*x(2, 1)\n",
        "\n",
        "end subroutine\n",
        "\n"
       ]
      }
     ],
     "prompt_number": 20
    },
    {
     "cell_type": "code",
     "collapsed": false,
     "input": [
      "if np.f2py.compile(source=pendulum_src, modulename='pendulum',\n",
      "             source_fn='pendulum.f90'):\n",
      "    raise RuntimeError('compile failed, see console')"
     ],
     "language": "python",
     "metadata": {},
     "outputs": [],
     "prompt_number": 21
    },
    {
     "cell_type": "code",
     "collapsed": false,
     "input": [
      "import pendulum\n",
      "dreload(pendulum)"
     ],
     "language": "python",
     "metadata": {},
     "outputs": [
      {
       "metadata": {},
       "output_type": "pyout",
       "prompt_number": 22,
       "text": [
        "<module 'pendulum' from 'pendulum.so'>"
       ]
      }
     ],
     "prompt_number": 22
    },
    {
     "cell_type": "code",
     "collapsed": false,
     "input": [
      "%%timeit\n",
      "pendulum.f_lin(t=0, x=[0,0], u=0, g=9.8, l=1, m=1)"
     ],
     "language": "python",
     "metadata": {},
     "outputs": [
      {
       "output_type": "stream",
       "stream": "stdout",
       "text": [
        "100000 loops, best of 3: 2.2 \u00b5s per loop\n"
       ]
      }
     ],
     "prompt_number": 23
    },
    {
     "cell_type": "code",
     "collapsed": false,
     "input": [
      "%%timeit\n",
      "pendulum.f(t=0, x=[0,0], u=0, g=9.8, l=1, m=1)"
     ],
     "language": "python",
     "metadata": {},
     "outputs": [
      {
       "output_type": "stream",
       "stream": "stdout",
       "text": [
        "1000000 loops, best of 3: 1.77 \u00b5s per loop\n"
       ]
      }
     ],
     "prompt_number": 24
    },
    {
     "cell_type": "code",
     "collapsed": false,
     "input": [
      "pendulum.f(t=0, x=[0,0], u=0, g=9.8, l=1, m=1)"
     ],
     "language": "python",
     "metadata": {},
     "outputs": [
      {
       "metadata": {},
       "output_type": "pyout",
       "prompt_number": 25,
       "text": [
        "array([[ 0.],\n",
        "       [ 0.]])"
       ]
      }
     ],
     "prompt_number": 25
    },
    {
     "cell_type": "code",
     "collapsed": false,
     "input": [
      "%%timeit\n",
      "pendulum.b(t=0, x=[0,0], u=0, g=9.8, l=1, m=1)"
     ],
     "language": "python",
     "metadata": {},
     "outputs": [
      {
       "ename": "AttributeError",
       "evalue": "'module' object has no attribute 'b'",
       "output_type": "pyerr",
       "traceback": [
        "\u001b[1;31m---------------------------------------------------------------------------\u001b[0m\n\u001b[1;31mAttributeError\u001b[0m                            Traceback (most recent call last)",
        "\u001b[1;32m<ipython-input-26-20de3ae03927>\u001b[0m in \u001b[0;36m<module>\u001b[1;34m()\u001b[0m\n\u001b[1;32m----> 1\u001b[1;33m \u001b[0mget_ipython\u001b[0m\u001b[1;33m(\u001b[0m\u001b[1;33m)\u001b[0m\u001b[1;33m.\u001b[0m\u001b[0mrun_cell_magic\u001b[0m\u001b[1;33m(\u001b[0m\u001b[1;34mu'timeit'\u001b[0m\u001b[1;33m,\u001b[0m \u001b[1;34mu''\u001b[0m\u001b[1;33m,\u001b[0m \u001b[1;34mu'pendulum.b(t=0, x=[0,0], u=0, g=9.8, l=1, m=1)'\u001b[0m\u001b[1;33m)\u001b[0m\u001b[1;33m\u001b[0m\u001b[0m\n\u001b[0m",
        "\u001b[1;32m/home/jgoppert/.virtualenvs/dev/local/lib/python2.7/site-packages/IPython/core/interactiveshell.pyc\u001b[0m in \u001b[0;36mrun_cell_magic\u001b[1;34m(self, magic_name, line, cell)\u001b[0m\n\u001b[0;32m   2160\u001b[0m             \u001b[0mmagic_arg_s\u001b[0m \u001b[1;33m=\u001b[0m \u001b[0mself\u001b[0m\u001b[1;33m.\u001b[0m\u001b[0mvar_expand\u001b[0m\u001b[1;33m(\u001b[0m\u001b[0mline\u001b[0m\u001b[1;33m,\u001b[0m \u001b[0mstack_depth\u001b[0m\u001b[1;33m)\u001b[0m\u001b[1;33m\u001b[0m\u001b[0m\n\u001b[0;32m   2161\u001b[0m             \u001b[1;32mwith\u001b[0m \u001b[0mself\u001b[0m\u001b[1;33m.\u001b[0m\u001b[0mbuiltin_trap\u001b[0m\u001b[1;33m:\u001b[0m\u001b[1;33m\u001b[0m\u001b[0m\n\u001b[1;32m-> 2162\u001b[1;33m                 \u001b[0mresult\u001b[0m \u001b[1;33m=\u001b[0m \u001b[0mfn\u001b[0m\u001b[1;33m(\u001b[0m\u001b[0mmagic_arg_s\u001b[0m\u001b[1;33m,\u001b[0m \u001b[0mcell\u001b[0m\u001b[1;33m)\u001b[0m\u001b[1;33m\u001b[0m\u001b[0m\n\u001b[0m\u001b[0;32m   2163\u001b[0m             \u001b[1;32mreturn\u001b[0m \u001b[0mresult\u001b[0m\u001b[1;33m\u001b[0m\u001b[0m\n\u001b[0;32m   2164\u001b[0m \u001b[1;33m\u001b[0m\u001b[0m\n",
        "\u001b[1;32m/home/jgoppert/.virtualenvs/dev/local/lib/python2.7/site-packages/IPython/core/magics/execution.pyc\u001b[0m in \u001b[0;36mtimeit\u001b[1;34m(self, line, cell)\u001b[0m\n",
        "\u001b[1;32m/home/jgoppert/.virtualenvs/dev/local/lib/python2.7/site-packages/IPython/core/magic.pyc\u001b[0m in \u001b[0;36m<lambda>\u001b[1;34m(f, *a, **k)\u001b[0m\n\u001b[0;32m    191\u001b[0m     \u001b[1;31m# but it's overkill for just that one bit of state.\u001b[0m\u001b[1;33m\u001b[0m\u001b[1;33m\u001b[0m\u001b[0m\n\u001b[0;32m    192\u001b[0m     \u001b[1;32mdef\u001b[0m \u001b[0mmagic_deco\u001b[0m\u001b[1;33m(\u001b[0m\u001b[0marg\u001b[0m\u001b[1;33m)\u001b[0m\u001b[1;33m:\u001b[0m\u001b[1;33m\u001b[0m\u001b[0m\n\u001b[1;32m--> 193\u001b[1;33m         \u001b[0mcall\u001b[0m \u001b[1;33m=\u001b[0m \u001b[1;32mlambda\u001b[0m \u001b[0mf\u001b[0m\u001b[1;33m,\u001b[0m \u001b[1;33m*\u001b[0m\u001b[0ma\u001b[0m\u001b[1;33m,\u001b[0m \u001b[1;33m**\u001b[0m\u001b[0mk\u001b[0m\u001b[1;33m:\u001b[0m \u001b[0mf\u001b[0m\u001b[1;33m(\u001b[0m\u001b[1;33m*\u001b[0m\u001b[0ma\u001b[0m\u001b[1;33m,\u001b[0m \u001b[1;33m**\u001b[0m\u001b[0mk\u001b[0m\u001b[1;33m)\u001b[0m\u001b[1;33m\u001b[0m\u001b[0m\n\u001b[0m\u001b[0;32m    194\u001b[0m \u001b[1;33m\u001b[0m\u001b[0m\n\u001b[0;32m    195\u001b[0m         \u001b[1;32mif\u001b[0m \u001b[0mcallable\u001b[0m\u001b[1;33m(\u001b[0m\u001b[0marg\u001b[0m\u001b[1;33m)\u001b[0m\u001b[1;33m:\u001b[0m\u001b[1;33m\u001b[0m\u001b[0m\n",
        "\u001b[1;32m/home/jgoppert/.virtualenvs/dev/local/lib/python2.7/site-packages/IPython/core/magics/execution.pyc\u001b[0m in \u001b[0;36mtimeit\u001b[1;34m(self, line, cell)\u001b[0m\n\u001b[0;32m   1011\u001b[0m             \u001b[0mnumber\u001b[0m \u001b[1;33m=\u001b[0m \u001b[1;36m1\u001b[0m\u001b[1;33m\u001b[0m\u001b[0m\n\u001b[0;32m   1012\u001b[0m             \u001b[1;32mfor\u001b[0m \u001b[0m_\u001b[0m \u001b[1;32min\u001b[0m \u001b[0mrange\u001b[0m\u001b[1;33m(\u001b[0m\u001b[1;36m1\u001b[0m\u001b[1;33m,\u001b[0m \u001b[1;36m10\u001b[0m\u001b[1;33m)\u001b[0m\u001b[1;33m:\u001b[0m\u001b[1;33m\u001b[0m\u001b[0m\n\u001b[1;32m-> 1013\u001b[1;33m                 \u001b[1;32mif\u001b[0m \u001b[0mtimer\u001b[0m\u001b[1;33m.\u001b[0m\u001b[0mtimeit\u001b[0m\u001b[1;33m(\u001b[0m\u001b[0mnumber\u001b[0m\u001b[1;33m)\u001b[0m \u001b[1;33m>=\u001b[0m \u001b[1;36m0.2\u001b[0m\u001b[1;33m:\u001b[0m\u001b[1;33m\u001b[0m\u001b[0m\n\u001b[0m\u001b[0;32m   1014\u001b[0m                     \u001b[1;32mbreak\u001b[0m\u001b[1;33m\u001b[0m\u001b[0m\n\u001b[0;32m   1015\u001b[0m                 \u001b[0mnumber\u001b[0m \u001b[1;33m*=\u001b[0m \u001b[1;36m10\u001b[0m\u001b[1;33m\u001b[0m\u001b[0m\n",
        "\u001b[1;32m/usr/lib/python2.7/timeit.pyc\u001b[0m in \u001b[0;36mtimeit\u001b[1;34m(self, number)\u001b[0m\n\u001b[0;32m    193\u001b[0m         \u001b[0mgc\u001b[0m\u001b[1;33m.\u001b[0m\u001b[0mdisable\u001b[0m\u001b[1;33m(\u001b[0m\u001b[1;33m)\u001b[0m\u001b[1;33m\u001b[0m\u001b[0m\n\u001b[0;32m    194\u001b[0m         \u001b[1;32mtry\u001b[0m\u001b[1;33m:\u001b[0m\u001b[1;33m\u001b[0m\u001b[0m\n\u001b[1;32m--> 195\u001b[1;33m             \u001b[0mtiming\u001b[0m \u001b[1;33m=\u001b[0m \u001b[0mself\u001b[0m\u001b[1;33m.\u001b[0m\u001b[0minner\u001b[0m\u001b[1;33m(\u001b[0m\u001b[0mit\u001b[0m\u001b[1;33m,\u001b[0m \u001b[0mself\u001b[0m\u001b[1;33m.\u001b[0m\u001b[0mtimer\u001b[0m\u001b[1;33m)\u001b[0m\u001b[1;33m\u001b[0m\u001b[0m\n\u001b[0m\u001b[0;32m    196\u001b[0m         \u001b[1;32mfinally\u001b[0m\u001b[1;33m:\u001b[0m\u001b[1;33m\u001b[0m\u001b[0m\n\u001b[0;32m    197\u001b[0m             \u001b[1;32mif\u001b[0m \u001b[0mgcold\u001b[0m\u001b[1;33m:\u001b[0m\u001b[1;33m\u001b[0m\u001b[0m\n",
        "\u001b[1;32m<magic-timeit>\u001b[0m in \u001b[0;36minner\u001b[1;34m(_it, _timer)\u001b[0m\n",
        "\u001b[1;31mAttributeError\u001b[0m: 'module' object has no attribute 'b'"
       ]
      }
     ],
     "prompt_number": 26
    },
    {
     "cell_type": "code",
     "collapsed": false,
     "input": [
      "%%timeit\n",
      "pendulum.x_dot(t=0, x=[0,0], u=0, g=9.8, l=1, m=1)"
     ],
     "language": "python",
     "metadata": {},
     "outputs": []
    },
    {
     "cell_type": "code",
     "collapsed": false,
     "input": [
      "x_val = [1,1]\n",
      "u_val = 1\n",
      "print pendulum.(1, x_val, u_val, 1, 1, 1)\n",
      "print pendulum.rhs_jac(0, x_val, u_val, 1, 1, 1)"
     ],
     "language": "python",
     "metadata": {},
     "outputs": []
    },
    {
     "cell_type": "code",
     "collapsed": false,
     "input": [
      "%%timeit\n",
      "pendulum.rhs(1,[1,1],[1],1,1,1)\n",
      "pendulum.rhs_jac(1,[1,1],[1],1,1,1)"
     ],
     "language": "python",
     "metadata": {},
     "outputs": []
    },
    {
     "cell_type": "markdown",
     "metadata": {},
     "source": [
      "The lambdify function which uses numpy is sufficiently fast."
     ]
    },
    {
     "cell_type": "code",
     "collapsed": false,
     "input": [
      "def do_sim():\n",
      "    import scipy.integrate\n",
      "    ode = scipy.integrate.ode(pendulum.rhs, pendulum.rhs_jac)\n",
      "    ode.set_initial_value([0.1,0])\n",
      "    ode.set_f_params([0], 1, 1, 1)\n",
      "    ode.set_jac_params([0], 1, 1, 1)\n",
      "    dt = 0.001\n",
      "    x = []\n",
      "    t = []\n",
      "    while ode.t +dt < 10:\n",
      "        ode.integrate(ode.t + dt)\n",
      "        x.append(ode.y)\n",
      "        t.append(ode.t)\n",
      "    #plt.plot(t, x)"
     ],
     "language": "python",
     "metadata": {},
     "outputs": []
    },
    {
     "cell_type": "code",
     "collapsed": false,
     "input": [
      "%%time\n",
      "do_sim();"
     ],
     "language": "python",
     "metadata": {},
     "outputs": []
    }
   ],
   "metadata": {}
  }
 ]
}