{
 "metadata": {
  "name": "",
  "signature": "sha256:9d4c4e0d7e3341db4f3ab768ca6475c0aa721ab37c0d8a417325d0a7f92b7f53"
 },
 "nbformat": 3,
 "nbformat_minor": 0,
 "worksheets": [
  {
   "cells": [
    {
     "cell_type": "code",
     "collapsed": false,
     "input": [
      "import sympy\n",
      "\n",
      "import sympy.physics.mechanics as mech\n",
      "import os\n",
      "import matplotlib.pyplot as plt\n",
      "\n",
      "from sympy.printing.theanocode import theano_function\n",
      "from sympy_utils import rhs_to_scipy_ode, \\\n",
      "    save_sympy_expr, load_sympy_expr, gen_fortran_module\n",
      "from numpy import f2py\n",
      "import numpy as np\n",
      "from sympy.utilities import codegen\n",
      "\n",
      "%matplotlib inline\n",
      "%load_ext autoreload\n",
      "%autoreload 2\n",
      "sympy.init_printing()\n",
      "mech.init_vprinting()"
     ],
     "language": "python",
     "metadata": {},
     "outputs": [
      {
       "output_type": "stream",
       "stream": "stdout",
       "text": [
        "The autoreload extension is already loaded. To reload it, use:\n",
        "  %reload_ext autoreload\n"
       ]
      }
     ],
     "prompt_number": 1
    },
    {
     "cell_type": "heading",
     "level": 1,
     "metadata": {},
     "source": [
      "Dynamics"
     ]
    },
    {
     "cell_type": "code",
     "collapsed": false,
     "input": [
      "tau, theta = mech.dynamicsymbols('tau theta')\n",
      "\n",
      "m, g, l, t = sympy.symbols('m, g, l, t')\n",
      "\n",
      "x = (theta, theta.diff(t))\n",
      "u = (tau,)\n",
      "x_ = sympy.MatrixSymbol('x', 2,1)\n",
      "u_ = sympy.Symbol('u')\n",
      "ss_sub = {\n",
      "    theta: x_[0,0],\n",
      "    theta.diff(t): x_[1,0],\n",
      "    tau: u_}\n",
      "    \n",
      "frame_i = mech.ReferenceFrame('i')\n",
      "frame_b = frame_i.orientnew(\n",
      "    newname='b', rot_type='Axis',\n",
      "    amounts=(theta, frame_i.y))\n",
      "point_o = mech.Point('o')\n",
      "point_o.set_vel(frame_i, 0)\n",
      "point_cm = point_o.locatenew('cm', -l*frame_b.z)\n",
      "point_cm.set_vel(frame_b, 0)\n",
      "point_cm.v1pt_theory(otherpoint=point_o,\n",
      "                     outframe=frame_i, interframe=frame_b)\n",
      "ball = mech.Particle(name='ball', point=point_cm, mass=m)\n",
      "ball.set_potential_energy(m*g*l*sympy.cos(theta))\n",
      "L = mech.Lagrangian(frame_i, ball)\n",
      "lm = mech.LagrangesMethod(Lagrangian=L, qs=[theta], coneqs=None,\n",
      "                     forcelist=[(frame_b, tau*frame_b.y)], frame=frame_i)\n",
      "lm.form_lagranges_equations();"
     ],
     "language": "python",
     "metadata": {},
     "outputs": [],
     "prompt_number": 2
    },
    {
     "cell_type": "code",
     "collapsed": false,
     "input": [
      "sympy.Eq(sympy.Symbol('L'), L)"
     ],
     "language": "python",
     "metadata": {},
     "outputs": [
      {
       "latex": [
        "$$L = - g l m \\operatorname{cos}\\left(\\theta\\right) + \\frac{l^{2} m}{2} \\left(\\dot{\\theta}\\right)^{2}$$"
       ],
       "metadata": {},
       "output_type": "pyout",
       "png": "[encoded data removed]",
       "prompt_number": 3,
       "text": [
        "                     2     2\n",
        "                    l \u22c5m\u22c5\u03b8\u0307 \n",
        "L = -g\u22c5l\u22c5m\u22c5cos(\u03b8) + \u2500\u2500\u2500\u2500\u2500\u2500\u2500\u2500\n",
        "                       2    "
       ]
      }
     ],
     "prompt_number": 3
    },
    {
     "cell_type": "code",
     "collapsed": false,
     "input": [
      "lm.eom[0]"
     ],
     "language": "python",
     "metadata": {},
     "outputs": [
      {
       "latex": [
        "$$- g l m \\operatorname{sin}\\left(\\theta\\right) + l^{2} m \\ddot{\\theta} - \\tau$$"
       ],
       "metadata": {},
       "output_type": "pyout",
       "png": "[encoded data removed]",
       "prompt_number": 4,
       "text": [
        "                 2         \n",
        "-g\u22c5l\u22c5m\u22c5sin(\u03b8) + l \u22c5m\u22c5\u03b8\u0308 - \u03c4"
       ]
      }
     ],
     "prompt_number": 4
    },
    {
     "cell_type": "code",
     "collapsed": false,
     "input": [
      "sympy.Eq(lm.eom[0], 0)"
     ],
     "language": "python",
     "metadata": {},
     "outputs": [
      {
       "latex": [
        "$$- g l m \\operatorname{sin}\\left(\\theta\\right) + l^{2} m \\ddot{\\theta} - \\tau = 0$$"
       ],
       "metadata": {},
       "output_type": "pyout",
       "png": "[encoded data removed]",
       "prompt_number": 5,
       "text": [
        "                 2             \n",
        "-g\u22c5l\u22c5m\u22c5sin(\u03b8) + l \u22c5m\u22c5\u03b8\u0308 - \u03c4 = 0"
       ]
      }
     ],
     "prompt_number": 5
    },
    {
     "cell_type": "code",
     "collapsed": false,
     "input": [
      "rhs = lm.rhs()\n",
      "rhs"
     ],
     "language": "python",
     "metadata": {},
     "outputs": [
      {
       "latex": [
        "$$\\left[\\begin{matrix}\\dot{\\theta}\\\\\\frac{1}{l^{2} m} \\left(g l m \\operatorname{sin}\\left(\\theta\\right) + \\tau\\right)\\end{matrix}\\right]$$"
       ],
       "metadata": {},
       "output_type": "pyout",
       "png": "[encoded data removed]",
       "prompt_number": 6,
       "text": [
        "\u23a1       \u03b8\u0307       \u23a4\n",
        "\u23a2                \u23a5\n",
        "\u23a2g\u22c5l\u22c5m\u22c5sin(\u03b8) + \u03c4\u23a5\n",
        "\u23a2\u2500\u2500\u2500\u2500\u2500\u2500\u2500\u2500\u2500\u2500\u2500\u2500\u2500\u2500\u2500\u2500\u23a5\n",
        "\u23a2       2        \u23a5\n",
        "\u23a3      l \u22c5m      \u23a6"
       ]
      }
     ],
     "prompt_number": 6
    },
    {
     "cell_type": "code",
     "collapsed": false,
     "input": [
      "rhs.jacobian(x)"
     ],
     "language": "python",
     "metadata": {},
     "outputs": [
      {
       "latex": [
        "$$\\left[\\begin{matrix}0 & 1\\\\\\frac{g \\operatorname{cos}\\left(\\theta\\right)}{l} & 0\\end{matrix}\\right]$$"
       ],
       "metadata": {},
       "output_type": "pyout",
       "png": "[encoded data removed]",
       "prompt_number": 7,
       "text": [
        "\u23a1   0      1\u23a4\n",
        "\u23a2           \u23a5\n",
        "\u23a2g\u22c5cos(\u03b8)   \u23a5\n",
        "\u23a2\u2500\u2500\u2500\u2500\u2500\u2500\u2500\u2500  0\u23a5\n",
        "\u23a3   l       \u23a6"
       ]
      }
     ],
     "prompt_number": 7
    },
    {
     "cell_type": "code",
     "collapsed": false,
     "input": [
      "A = rhs.jacobian(x)\n",
      "A"
     ],
     "language": "python",
     "metadata": {},
     "outputs": [
      {
       "latex": [
        "$$\\left[\\begin{matrix}0 & 1\\\\\\frac{g \\operatorname{cos}\\left(\\theta\\right)}{l} & 0\\end{matrix}\\right]$$"
       ],
       "metadata": {},
       "output_type": "pyout",
       "png": "[encoded data removed]",
       "prompt_number": 8,
       "text": [
        "\u23a1   0      1\u23a4\n",
        "\u23a2           \u23a5\n",
        "\u23a2g\u22c5cos(\u03b8)   \u23a5\n",
        "\u23a2\u2500\u2500\u2500\u2500\u2500\u2500\u2500\u2500  0\u23a5\n",
        "\u23a3   l       \u23a6"
       ]
      }
     ],
     "prompt_number": 8
    },
    {
     "cell_type": "code",
     "collapsed": false,
     "input": [
      "B = rhs.jacobian(u)\n",
      "B"
     ],
     "language": "python",
     "metadata": {},
     "outputs": [
      {
       "latex": [
        "$$\\left[\\begin{matrix}0\\\\\\frac{1}{l^{2} m}\\end{matrix}\\right]$$"
       ],
       "metadata": {},
       "output_type": "pyout",
       "png": "[encoded data removed]",
       "prompt_number": 9,
       "text": [
        "\u23a1 0  \u23a4\n",
        "\u23a2    \u23a5\n",
        "\u23a2 1  \u23a5\n",
        "\u23a2\u2500\u2500\u2500\u2500\u23a5\n",
        "\u23a2 2  \u23a5\n",
        "\u23a3l \u22c5m\u23a6"
       ]
      }
     ],
     "prompt_number": 9
    },
    {
     "cell_type": "heading",
     "level": 1,
     "metadata": {},
     "source": [
      "Measurements"
     ]
    },
    {
     "cell_type": "markdown",
     "metadata": {},
     "source": [
      "Find accelerometer measurement."
     ]
    },
    {
     "cell_type": "code",
     "collapsed": false,
     "input": [
      "accel = point_cm.acc(frame_i)  - frame_i.z*g\n",
      "accel"
     ],
     "language": "python",
     "metadata": {},
     "outputs": [
      {
       "latex": [
        "$$-  l \\ddot{\\theta}\\mathbf{\\hat{b}_x} + l \\left(\\dot{\\theta}\\right)^{2}\\mathbf{\\hat{b}_z} -  g\\mathbf{\\hat{i}_z}$$"
       ],
       "metadata": {},
       "output_type": "pyout",
       "png": "[encoded data removed]",
       "prompt_number": 10,
       "text": [
        "- l\u22c5\u03b8\u0308 b_x +     2\n",
        "l\u22c5\u03b8\u0307  b_z - g i_z"
       ]
      }
     ],
     "prompt_number": 10
    },
    {
     "cell_type": "code",
     "collapsed": false,
     "input": [
      "y_accel = accel.to_matrix(frame_b).subs(\n",
      "    theta.diff(t,2), rhs[1]).simplify()\n",
      "y_accel"
     ],
     "language": "python",
     "metadata": {},
     "outputs": [
      {
       "latex": [
        "$$\\left[\\begin{matrix}- \\frac{\\tau}{l m}\\\\0\\\\- g \\operatorname{cos}\\left(\\theta\\right) + l \\left(\\dot{\\theta}\\right)^{2}\\end{matrix}\\right]$$"
       ],
       "metadata": {},
       "output_type": "pyout",
       "png": "[encoded data removed]",
       "prompt_number": 11,
       "text": [
        "\u23a1       -\u03c4        \u23a4\n",
        "\u23a2       \u2500\u2500\u2500       \u23a5\n",
        "\u23a2       l\u22c5m       \u23a5\n",
        "\u23a2                 \u23a5\n",
        "\u23a2        0        \u23a5\n",
        "\u23a2                 \u23a5\n",
        "\u23a2                2\u23a5\n",
        "\u23a3-g\u22c5cos(\u03b8) + l\u22c5\u03b8\u0307 \u23a6"
       ]
      }
     ],
     "prompt_number": 11
    },
    {
     "cell_type": "code",
     "collapsed": false,
     "input": [
      "C_accel = y_accel.jacobian(x)\n",
      "C_accel"
     ],
     "language": "python",
     "metadata": {},
     "outputs": [
      {
       "latex": [
        "$$\\left[\\begin{matrix}0 & 0\\\\0 & 0\\\\g \\operatorname{sin}\\left(\\theta\\right) & 2 l \\dot{\\theta}\\end{matrix}\\right]$$"
       ],
       "metadata": {},
       "output_type": "pyout",
       "png": "[encoded data removed]",
       "prompt_number": 12,
       "text": [
        "\u23a1   0        0   \u23a4\n",
        "\u23a2                \u23a5\n",
        "\u23a2   0        0   \u23a5\n",
        "\u23a2                \u23a5\n",
        "\u23a3g\u22c5sin(\u03b8)  2\u22c5l\u22c5\u03b8\u0307\u23a6"
       ]
      }
     ],
     "prompt_number": 12
    },
    {
     "cell_type": "markdown",
     "metadata": {},
     "source": [
      "Now we save all the expressions to disk."
     ]
    },
    {
     "cell_type": "code",
     "collapsed": false,
     "input": [
      "save_file= os.path.join('save','pendulum.sympy')\n",
      "save_sympy_expr({'tau':tau, 'theta': theta, 't':t,\n",
      "         'm': m, 'g': g, 'l': l,\n",
      "         'A':A, 'B':B,\n",
      "         'rhs':rhs, 'y_accel': y_accel, 'x':x,\n",
      "         'u':u}, save_file)"
     ],
     "language": "python",
     "metadata": {},
     "outputs": [],
     "prompt_number": 13
    },
    {
     "cell_type": "code",
     "collapsed": false,
     "input": [
      "d = load_sympy_expr(save_file)"
     ],
     "language": "python",
     "metadata": {},
     "outputs": [],
     "prompt_number": 14
    },
    {
     "cell_type": "markdown",
     "metadata": {},
     "source": [
      "Inject dictionary of expressions into the global namespace."
     ]
    },
    {
     "cell_type": "code",
     "collapsed": false,
     "input": [
      "locals().update(d)"
     ],
     "language": "python",
     "metadata": {},
     "outputs": [],
     "prompt_number": 15
    },
    {
     "cell_type": "heading",
     "level": 1,
     "metadata": {},
     "source": [
      "Generate Code"
     ]
    },
    {
     "cell_type": "code",
     "collapsed": false,
     "input": [
      "def gen_pendulum_module(x, u, f, g, const):\n",
      "    t = sympy.Symbol('t')\n",
      "    name_expr = [\n",
      "        ('f', f),\n",
      "        ('g', g),\n",
      "        ('A', f.jacobian(x)),\n",
      "        ('B', f.jacobian(u)),\n",
      "        ('H', g.jacobian(x))]\n",
      "    routines = []\n",
      "    for name, expr in name_expr:\n",
      "        out = sympy.MatrixSymbol('out', expr.shape[0], expr.shape[1])\n",
      "        expr = expr.applyfunc(lambda e: e.simplify())\n",
      "        routines.append(codegen.Routine('compute_'+name,\n",
      "                    sympy.Equality(out, expr.subs(ss_sub)),\n",
      "                    (out, t, x_, u_) + const))\n",
      "    return gen_fortran_module(module='pendulum',                        \n",
      "        routines=routines, project='PX4-SIL')"
     ],
     "language": "python",
     "metadata": {},
     "outputs": [],
     "prompt_number": 16
    },
    {
     "cell_type": "code",
     "collapsed": false,
     "input": [
      "pendulum_src = gen_pendulum_module(x, u, rhs, y_accel, (m, g, l))\n",
      "with open('pendulum.f90','w') as fid:\n",
      "    fid.write(pendulum_src)\n",
      "print pendulum_src"
     ],
     "language": "python",
     "metadata": {},
     "outputs": [
      {
       "output_type": "stream",
       "stream": "stdout",
       "text": [
        "!******************************************************************************\n",
        "!*                    Code generated with sympy 0.7.5-git                     *\n",
        "!*                                                                            *\n",
        "!*              See http://www.sympy.org/ for more information.               *\n",
        "!*                                                                            *\n",
        "!*                       This file is part of 'PX4-SIL'                       *\n",
        "!******************************************************************************\n",
        "\n",
        "subroutine compute_f(out, t, x, u, m, g, l)\n",
        "implicit none\n",
        "REAL*8, intent(in) :: t\n",
        "REAL*8, intent(in) :: u\n",
        "REAL*8, intent(in) :: m\n",
        "REAL*8, intent(in) :: g\n",
        "REAL*8, intent(in) :: l\n",
        "REAL*8, intent(out), dimension(1:2, 1:1) :: out\n",
        "REAL*8, intent(in), dimension(1:2, 1:1) :: x\n",
        "\n",
        "out(1, 1) = x(2, 1)\n",
        "out(2, 1) = g*sin(x(1, 1))/l + u/(l**2*m)\n",
        "\n",
        "end subroutine\n",
        "\n",
        "subroutine compute_g(out, t, x, u, m, g, l)\n",
        "implicit none\n",
        "REAL*8, intent(in) :: t\n",
        "REAL*8, intent(in) :: u\n",
        "REAL*8, intent(in) :: m\n",
        "REAL*8, intent(in) :: g\n",
        "REAL*8, intent(in) :: l\n",
        "REAL*8, intent(out), dimension(1:3, 1:1) :: out\n",
        "REAL*8, intent(in), dimension(1:2, 1:1) :: x\n",
        "\n",
        "out(1, 1) = -u/(l*m)\n",
        "out(2, 1) = 0\n",
        "out(3, 1) = -g*cos(x(1, 1)) + l*x(2, 1)**2\n",
        "\n",
        "end subroutine\n",
        "\n",
        "subroutine compute_A(out, t, x, u, m, g, l)\n",
        "implicit none\n",
        "REAL*8, intent(in) :: t\n",
        "REAL*8, intent(in) :: u\n",
        "REAL*8, intent(in) :: m\n",
        "REAL*8, intent(in) :: g\n",
        "REAL*8, intent(in) :: l\n",
        "REAL*8, intent(out), dimension(1:2, 1:2) :: out\n",
        "REAL*8, intent(in), dimension(1:2, 1:1) :: x\n",
        "\n",
        "out(1, 1) = 0\n",
        "out(2, 1) = g*cos(x(1, 1))/l\n",
        "out(1, 2) = 1\n",
        "out(2, 2) = 0\n",
        "\n",
        "end subroutine\n",
        "\n",
        "subroutine compute_B(out, t, x, u, m, g, l)\n",
        "implicit none\n",
        "REAL*8, intent(in) :: t\n",
        "REAL*8, intent(in) :: x\n",
        "REAL*8, intent(in) :: u\n",
        "REAL*8, intent(in) :: m\n",
        "REAL*8, intent(in) :: g\n",
        "REAL*8, intent(in) :: l\n",
        "REAL*8, intent(out), dimension(1:2, 1:1) :: out\n",
        "\n",
        "out(1, 1) = 0\n",
        "out(2, 1) = 1/(l**2*m)\n",
        "\n",
        "end subroutine\n",
        "\n",
        "subroutine compute_H(out, t, x, u, m, g, l)\n",
        "implicit none\n",
        "REAL*8, intent(in) :: t\n",
        "REAL*8, intent(in) :: u\n",
        "REAL*8, intent(in) :: m\n",
        "REAL*8, intent(in) :: g\n",
        "REAL*8, intent(in) :: l\n",
        "REAL*8, intent(out), dimension(1:3, 1:2) :: out\n",
        "REAL*8, intent(in), dimension(1:2, 1:1) :: x\n",
        "\n",
        "out(1, 1) = 0\n",
        "out(2, 1) = 0\n",
        "out(3, 1) = g*sin(x(1, 1))\n",
        "out(1, 2) = 0\n",
        "out(2, 2) = 0\n",
        "out(3, 2) = 2*l*x(2, 1)\n",
        "\n",
        "end subroutine\n",
        "\n"
       ]
      }
     ],
     "prompt_number": 17
    },
    {
     "cell_type": "code",
     "collapsed": false,
     "input": [
      "if np.f2py.compile(source=pendulum_src, modulename='pendulum',\n",
      "             source_fn='pendulum.f90'):\n",
      "    raise RuntimeError('compile failed, see console')"
     ],
     "language": "python",
     "metadata": {},
     "outputs": [],
     "prompt_number": 18
    },
    {
     "cell_type": "code",
     "collapsed": false,
     "input": [
      "import pendulum\n",
      "dreload(pendulum)"
     ],
     "language": "python",
     "metadata": {},
     "outputs": [
      {
       "metadata": {},
       "output_type": "pyout",
       "prompt_number": 19,
       "text": [
        "<module 'pendulum' from 'pendulum.so'>"
       ]
      }
     ],
     "prompt_number": 19
    },
    {
     "cell_type": "code",
     "collapsed": false,
     "input": [
      "%%timeit\n",
      "pendulum.compute_a(t=0, x=[0,0], u=0, m=1, l=1, g=9.8)\n",
      "pendulum.compute_b(t=0, x=[0,0], u=0, m=1, l=1, g=9.8)\n",
      "pendulum.compute_f(t=0, x=[0,0], u=0, m=1, l=1, g=9.8)\n",
      "pendulum.compute_g(t=0, x=[0,0], u=0, m=1, l=1, g=9.8)"
     ],
     "language": "python",
     "metadata": {},
     "outputs": [
      {
       "output_type": "stream",
       "stream": "stdout",
       "text": [
        "100000 loops, best of 3: 7.79 \u00b5s per loop\n"
       ]
      }
     ],
     "prompt_number": 20
    },
    {
     "cell_type": "markdown",
     "metadata": {},
     "source": [
      "The lambdify function which uses numpy is sufficiently fast."
     ]
    },
    {
     "cell_type": "code",
     "collapsed": false,
     "input": [
      "def do_sim():\n",
      "    import scipy.integrate\n",
      "    ode = scipy.integrate.ode(pendulum.compute_f, pendulum.compute_a)\n",
      "    ode.set_initial_value([0.1,0])\n",
      "    dt = 0.001\n",
      "    x = []\n",
      "    t = []\n",
      "    u = 0\n",
      "    m = 1\n",
      "    g = 9.8\n",
      "    l = 1\n",
      "    while ode.t +dt < 100:\n",
      "        ode.set_f_params(u, m, g, l)\n",
      "        ode.set_jac_params(u, m, g, l)\n",
      "        x.append(ode.y)\n",
      "        t.append(ode.t)\n",
      "        ode.integrate(ode.t + dt)\n",
      "    plt.plot(t, x)"
     ],
     "language": "python",
     "metadata": {},
     "outputs": [],
     "prompt_number": 21
    },
    {
     "cell_type": "code",
     "collapsed": false,
     "input": [
      "%%time\n",
      "do_sim();"
     ],
     "language": "python",
     "metadata": {},
     "outputs": [
      {
       "output_type": "stream",
       "stream": "stdout",
       "text": [
        "CPU times: user 973 ms, sys: 25.6 ms, total: 999 ms\n",
        "Wall time: 956 ms\n"
       ]
      },
      {
       "metadata": {},
       "output_type": "display_data",
       "png": "[encoded data removed]",
       "text": [
        "<matplotlib.figure.Figure at 0x6b22610>"
       ]
      }
     ],
     "prompt_number": 22
    }
   ],
   "metadata": {}
  }
 ]
}