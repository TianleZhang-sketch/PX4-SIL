{
 "metadata": {
  "name": "",
  "signature": "sha256:98582b60151d563b25429b9b208c6004b46f41f8681947000514bc25d82827bf"
 },
 "nbformat": 3,
 "nbformat_minor": 0,
 "worksheets": [
  {
   "cells": [
    {
     "cell_type": "code",
     "collapsed": false,
     "input": [
      "import sympy\n",
      "\n",
      "import sympy.physics.mechanics as mech\n",
      "import os\n",
      "import matplotlib.pyplot as plt\n",
      "\n",
      "from sympy.printing.theanocode import theano_function\n",
      "from sympy_utils import rhs_to_scipy_ode, \\\n",
      "    save_sympy_expr, load_sympy_expr, gen_fortran_module\n",
      "from numpy import f2py\n",
      "import numpy as np\n",
      "from sympy.utilities import codegen\n",
      "\n",
      "%matplotlib inline\n",
      "%load_ext autoreload\n",
      "%autoreload 2\n",
      "sympy.init_printing()\n",
      "mech.init_vprinting()"
     ],
     "language": "python",
     "metadata": {},
     "outputs": [],
     "prompt_number": 1
    },
    {
     "cell_type": "heading",
     "level": 1,
     "metadata": {},
     "source": [
      "Dynamics"
     ]
    },
    {
     "cell_type": "code",
     "collapsed": false,
     "input": [
      "# symbols\n",
      "tau, phi, theta, psi = mech.dynamicsymbols('tau phi theta psi')\n",
      "m, g, l, t = sympy.symbols('m, g, l, t')\n",
      "\n",
      "# state space\n",
      "x = (theta, theta.diff(t))\n",
      "u = (tau,)\n",
      "\n",
      "# frames    \n",
      "frame_i = mech.ReferenceFrame('i') # inertial\n",
      "frame_b = frame_i.orientnew( # body\n",
      "    newname='b', rot_type='Body',\n",
      "    amounts=(0, theta, 0), rot_order='321')\n",
      "\n",
      "# point at center of rotation\n",
      "point_o = mech.Point('o')\n",
      "point_o.set_vel(frame_i, 0)\n",
      "\n",
      "# point at center of mass\n",
      "point_cm = point_o.locatenew('cm', -l*frame_b.z)\n",
      "point_cm.set_vel(frame_b, 0)\n",
      "point_cm.v1pt_theory(otherpoint=point_o,\n",
      "                     outframe=frame_i, interframe=frame_b)\n",
      "\n",
      "# particle\n",
      "ball = mech.Particle(name='ball', point=point_cm, mass=m)\n",
      "ball.set_potential_energy(m*g*l*sympy.cos(theta))\n",
      "\n",
      "# derive eoms\n",
      "L = mech.Lagrangian(frame_i, ball)\n",
      "lm = mech.LagrangesMethod(Lagrangian=L, qs=[theta], coneqs=None,\n",
      "                     forcelist=[(frame_b, tau*frame_b.y)], frame=frame_i)\n",
      "lm.form_lagranges_equations();"
     ],
     "language": "python",
     "metadata": {},
     "outputs": [],
     "prompt_number": 2
    },
    {
     "cell_type": "code",
     "collapsed": false,
     "input": [
      "sympy.Eq(sympy.Symbol('L'), L)"
     ],
     "language": "python",
     "metadata": {},
     "outputs": [
      {
       "latex": [
        "$$L = - g l m \\operatorname{cos}\\left(\\theta\\right) + \\frac{l^{2} m}{2} \\left(\\dot{\\theta}\\right)^{2}$$"
       ],
       "metadata": {},
       "output_type": "pyout",
       "png": "[encoded data removed]",
       "prompt_number": 3,
       "text": [
        "                     2     2\n",
        "                    l \u22c5m\u22c5\u03b8\u0307 \n",
        "L = -g\u22c5l\u22c5m\u22c5cos(\u03b8) + \u2500\u2500\u2500\u2500\u2500\u2500\u2500\u2500\n",
        "                       2    "
       ]
      }
     ],
     "prompt_number": 3
    },
    {
     "cell_type": "code",
     "collapsed": false,
     "input": [
      "rhs = lm.rhs()\n",
      "rhs"
     ],
     "language": "python",
     "metadata": {},
     "outputs": [
      {
       "latex": [
        "$$\\left[\\begin{matrix}\\dot{\\theta}\\\\\\frac{1}{l^{2} m} \\left(g l m \\operatorname{sin}\\left(\\theta\\right) + \\tau\\right)\\end{matrix}\\right]$$"
       ],
       "metadata": {},
       "output_type": "pyout",
       "png": "[encoded data removed]",
       "prompt_number": 4,
       "text": [
        "\u23a1       \u03b8\u0307       \u23a4\n",
        "\u23a2                \u23a5\n",
        "\u23a2g\u22c5l\u22c5m\u22c5sin(\u03b8) + \u03c4\u23a5\n",
        "\u23a2\u2500\u2500\u2500\u2500\u2500\u2500\u2500\u2500\u2500\u2500\u2500\u2500\u2500\u2500\u2500\u2500\u23a5\n",
        "\u23a2       2        \u23a5\n",
        "\u23a3      l \u22c5m      \u23a6"
       ]
      }
     ],
     "prompt_number": 4
    },
    {
     "cell_type": "heading",
     "level": 1,
     "metadata": {},
     "source": [
      "Measurements"
     ]
    },
    {
     "cell_type": "heading",
     "level": 2,
     "metadata": {},
     "source": [
      "Accelerometer"
     ]
    },
    {
     "cell_type": "code",
     "collapsed": false,
     "input": [
      "accel = point_cm.acc(frame_i)  - frame_i.z*g\n",
      "accel"
     ],
     "language": "python",
     "metadata": {},
     "outputs": [
      {
       "latex": [
        "$$-  l \\ddot{\\theta}\\mathbf{\\hat{b}_x} + l \\left(\\dot{\\theta}\\right)^{2}\\mathbf{\\hat{b}_z} -  g\\mathbf{\\hat{i}_z}$$"
       ],
       "metadata": {},
       "output_type": "pyout",
       "png": "[encoded data removed]",
       "prompt_number": 5,
       "text": [
        "- l\u22c5\u03b8\u0308 b_x +     2\n",
        "l\u22c5\u03b8\u0307  b_z - g i_z"
       ]
      }
     ],
     "prompt_number": 5
    },
    {
     "cell_type": "code",
     "collapsed": false,
     "input": [
      "g_accel = accel.to_matrix(frame_b).subs(\n",
      "    theta.diff(t,2), rhs[1]).simplify()\n",
      "g_accel"
     ],
     "language": "python",
     "metadata": {},
     "outputs": [
      {
       "latex": [
        "$$\\left[\\begin{matrix}- \\frac{\\tau}{l m}\\\\0\\\\- g \\operatorname{cos}\\left(\\theta\\right) + l \\left(\\dot{\\theta}\\right)^{2}\\end{matrix}\\right]$$"
       ],
       "metadata": {},
       "output_type": "pyout",
       "png": "[encoded data removed]",
       "prompt_number": 6,
       "text": [
        "\u23a1       -\u03c4        \u23a4\n",
        "\u23a2       \u2500\u2500\u2500       \u23a5\n",
        "\u23a2       l\u22c5m       \u23a5\n",
        "\u23a2                 \u23a5\n",
        "\u23a2        0        \u23a5\n",
        "\u23a2                 \u23a5\n",
        "\u23a2                2\u23a5\n",
        "\u23a3-g\u22c5cos(\u03b8) + l\u22c5\u03b8\u0307 \u23a6"
       ]
      }
     ],
     "prompt_number": 6
    },
    {
     "cell_type": "heading",
     "level": 2,
     "metadata": {},
     "source": [
      "Gyroscope"
     ]
    },
    {
     "cell_type": "code",
     "collapsed": false,
     "input": [
      "gyro = frame_b.ang_vel_in(frame_i)\n",
      "gyro"
     ],
     "language": "python",
     "metadata": {},
     "outputs": [
      {
       "latex": [
        "$$\\dot{\\theta}\\mathbf{\\hat{b}_y}$$"
       ],
       "metadata": {},
       "output_type": "pyout",
       "png": "[encoded data removed]",
       "prompt_number": 7,
       "text": [
        "\u03b8\u0307 b_y"
       ]
      }
     ],
     "prompt_number": 7
    },
    {
     "cell_type": "code",
     "collapsed": false,
     "input": [
      "g_gyro = gyro.to_matrix(frame_b)\n",
      "g_gyro"
     ],
     "language": "python",
     "metadata": {},
     "outputs": [
      {
       "latex": [
        "$$\\left[\\begin{matrix}0\\\\\\dot{\\theta}\\\\0\\end{matrix}\\right]$$"
       ],
       "metadata": {},
       "output_type": "pyout",
       "png": "[encoded data removed]",
       "prompt_number": 8,
       "text": [
        "\u23a10 \u23a4\n",
        "\u23a2  \u23a5\n",
        "\u23a2\u03b8\u0307\u23a5\n",
        "\u23a2  \u23a5\n",
        "\u23a30 \u23a6"
       ]
      }
     ],
     "prompt_number": 8
    },
    {
     "cell_type": "heading",
     "level": 2,
     "metadata": {},
     "source": [
      "Save"
     ]
    },
    {
     "cell_type": "code",
     "collapsed": false,
     "input": [
      "save_file= os.path.join('save','pendulum.sympy')\n",
      "save_sympy_expr({\n",
      "    't': t, 'x': x, 'u': u, 'f': rhs,\n",
      "    'g_list': [\n",
      "        ('g_accel', g_accel),\n",
      "        ('g_gyro', g_gyro)],\n",
      "    'const': (m, g, l),\n",
      "    }, save_file)"
     ],
     "language": "python",
     "metadata": {},
     "outputs": [],
     "prompt_number": 9
    },
    {
     "cell_type": "heading",
     "level": 1,
     "metadata": {},
     "source": [
      "Generate Code"
     ]
    },
    {
     "cell_type": "code",
     "collapsed": false,
     "input": [
      "import sympy_utils"
     ],
     "language": "python",
     "metadata": {},
     "outputs": [],
     "prompt_number": 10
    },
    {
     "cell_type": "code",
     "collapsed": false,
     "input": [
      "pendulum = sympy_utils.create_fortran_module_from_sympy_save(\n",
      "    'pendulum', os.path.join('save','pendulum.sympy'))"
     ],
     "language": "python",
     "metadata": {},
     "outputs": [],
     "prompt_number": 11
    },
    {
     "cell_type": "code",
     "collapsed": false,
     "input": [
      "%%timeit\n",
      "pendulum.compute_a(t=0, x=[0,0], u=0, m=1, l=1, g=9.8)\n",
      "pendulum.compute_b(t=0, x=[0,0], u=0, m=1, l=1, g=9.8)\n",
      "pendulum.compute_f(t=0, x=[0,0], u=0, m=1, l=1, g=9.8)\n",
      "pendulum.compute_g_accel(t=0, x=[0,0], u=0, m=1, l=1, g=9.8)\n",
      "pendulum.compute_g_accel_h(t=0, x=[0,0], u=0, m=1, l=1, g=9.8)\n",
      "pendulum.compute_g_gyro(t=0, x=[0,0], u=0, m=1, l=1, g=9.8)\n",
      "pendulum.compute_g_gyro_h(t=0, x=[0,0], u=0, m=1, l=1, g=9.8)"
     ],
     "language": "python",
     "metadata": {},
     "outputs": [
      {
       "output_type": "stream",
       "stream": "stdout",
       "text": [
        "100000 loops, best of 3: 12.7 \u00b5s per loop\n"
       ]
      }
     ],
     "prompt_number": 16
    },
    {
     "cell_type": "markdown",
     "metadata": {},
     "source": [
      "The lambdify function which uses numpy is sufficiently fast."
     ]
    },
    {
     "cell_type": "code",
     "collapsed": false,
     "input": [
      "def do_sim():\n",
      "    import scipy.integrate\n",
      "    ode = scipy.integrate.ode(pendulum.compute_f, pendulum.compute_a)\n",
      "    ode.set_initial_value([0.1,0])\n",
      "    dt = 0.001\n",
      "    x = []\n",
      "    t = []\n",
      "    u = 0\n",
      "    m = 1\n",
      "    g = 9.8\n",
      "    l = 1\n",
      "    while ode.t +dt < 100:\n",
      "        ode.set_f_params(u, m, g, l)\n",
      "        ode.set_jac_params(u, m, g, l)\n",
      "        x.append(ode.y)\n",
      "        t.append(ode.t)\n",
      "        ode.integrate(ode.t + dt)\n",
      "    plt.plot(t, x)"
     ],
     "language": "python",
     "metadata": {},
     "outputs": [],
     "prompt_number": 13
    },
    {
     "cell_type": "code",
     "collapsed": false,
     "input": [
      "%%time\n",
      "do_sim();"
     ],
     "language": "python",
     "metadata": {},
     "outputs": [
      {
       "output_type": "stream",
       "stream": "stdout",
       "text": [
        "CPU times: user 754 ms, sys: 3.59 ms, total: 757 ms\n",
        "Wall time: 756 ms\n"
       ]
      },
      {
       "metadata": {},
       "output_type": "display_data",
       "png": "[encoded data removed]",
       "text": [
        "<matplotlib.figure.Figure at 0x2026690>"
       ]
      }
     ],
     "prompt_number": 14
    }
   ],
   "metadata": {}
  }
 ]
}