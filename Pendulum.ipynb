{
 "metadata": {
  "name": "",
  "signature": "sha256:3fc7ad9d1e3e3a745565a66114ecd06bc8a5c6df64a0dc481329ea460e764341"
 },
 "nbformat": 3,
 "nbformat_minor": 0,
 "worksheets": [
  {
   "cells": [
    {
     "cell_type": "code",
     "collapsed": false,
     "input": [
      "import sympy\n",
      "import sympy.physics.mechanics as mech\n",
      "import os\n",
      "import matplotlib.pyplot as plt\n",
      "\n",
      "from sympy.printing.theanocode import theano_function\n",
      "from sympy_utils import rhs_to_scipy_ode, \\\n",
      "    save_sympy_expr, load_sympy_expr, gen_fortran_module\n",
      "from numpy import f2py\n",
      "import numpy as np\n",
      "from sympy.utilities import codegen\n",
      "\n",
      "%matplotlib inline\n",
      "%load_ext autoreload\n",
      "%autoreload 2\n",
      "sympy.init_printing()\n",
      "mech.init_vprinting()\n"
     ],
     "language": "python",
     "metadata": {},
     "outputs": [
      {
       "output_type": "stream",
       "stream": "stdout",
       "text": [
        "The autoreload extension is already loaded. To reload it, use:\n",
        "  %reload_ext autoreload\n"
       ]
      }
     ],
     "prompt_number": 1
    },
    {
     "cell_type": "code",
     "collapsed": false,
     "input": [
      "tau = sympy.Function('tau')\n",
      "m, g, l, t, tau, theta, theta_dot = sympy.symbols('m, g, l, t, tau, theta, theta_dot')\n",
      "frame_i = mech.ReferenceFrame('i')\n",
      "frame_b = frame_i.orientnew(newname='b', rot_type='Axis',\n",
      "                            amounts=(theta(t), frame_i.y))\n",
      "point_o = mech.Point('o')\n",
      "point_o.set_vel(frame_i, 0)\n",
      "point_cm = point_o.locatenew('cm', -l*frame_b.z)\n",
      "point_cm.set_vel(frame_b, 0)\n",
      "point_cm.v1pt_theory(otherpoint=point_o,\n",
      "                     outframe=frame_i, interframe=frame_b)\n",
      "ball = mech.Particle(name='ball', point=point_cm, mass=m)\n",
      "ball.set_potential_energy(m*g*l*sympy.cos(theta(t)))\n",
      "L = mech.Lagrangian(frame_i, ball)\n",
      "lm = mech.LagrangesMethod(Lagrangian=L, qs=[theta(t)], coneqs=None,\n",
      "                     forcelist=[(frame_b, tau(t)*frame_b.y)], frame=frame_i)\n",
      "lm.form_lagranges_equations();\n",
      "\n",
      "states_sub = {theta(t).diff(t): theta_dot, theta(t): theta, tau(t):tau}"
     ],
     "language": "python",
     "metadata": {},
     "outputs": [],
     "prompt_number": 2
    },
    {
     "cell_type": "code",
     "collapsed": false,
     "input": [
      "sympy.Eq(sympy.Symbol('L'), L)"
     ],
     "language": "python",
     "metadata": {},
     "outputs": [
      {
       "latex": [
        "$$L = - g l m \\operatorname{cos}\\left(\\theta\\right) + \\frac{l^{2} m}{2} \\left(\\dot{\\theta}\\right)^{2}$$"
       ],
       "metadata": {},
       "output_type": "pyout",
       "png": "[encoded data removed]",
       "prompt_number": 3,
       "text": [
        "                     2     2\n",
        "                    l \u22c5m\u22c5\u03b8\u0307 \n",
        "L = -g\u22c5l\u22c5m\u22c5cos(\u03b8) + \u2500\u2500\u2500\u2500\u2500\u2500\u2500\u2500\n",
        "                       2    "
       ]
      }
     ],
     "prompt_number": 3
    },
    {
     "cell_type": "code",
     "collapsed": false,
     "input": [
      "sympy.Eq(lm.eom[0], 0)"
     ],
     "language": "python",
     "metadata": {},
     "outputs": [
      {
       "latex": [
        "$$- g l m \\operatorname{sin}\\left(\\theta\\right) + l^{2} m \\ddot{\\theta} - \\tau = 0$$"
       ],
       "metadata": {},
       "output_type": "pyout",
       "png": "[encoded data removed]",
       "prompt_number": 4,
       "text": [
        "                 2             \n",
        "-g\u22c5l\u22c5m\u22c5sin(\u03b8) + l \u22c5m\u22c5\u03b8\u0308 - \u03c4 = 0"
       ]
      }
     ],
     "prompt_number": 4
    },
    {
     "cell_type": "code",
     "collapsed": false,
     "input": [
      "rhs = lm.rhs().subs(states_sub)\n",
      "rhs"
     ],
     "language": "python",
     "metadata": {},
     "outputs": [
      {
       "latex": [
        "$$\\left[\\begin{matrix}\\theta_{dot}\\\\\\frac{1}{l^{2} m} \\left(g l m \\operatorname{sin}\\left(\\theta\\right) + \\tau\\right)\\end{matrix}\\right]$$"
       ],
       "metadata": {},
       "output_type": "pyout",
       "png": "[encoded data removed]",
       "prompt_number": 5,
       "text": [
        "\u23a1     \u03b8_dot      \u23a4\n",
        "\u23a2                \u23a5\n",
        "\u23a2g\u22c5l\u22c5m\u22c5sin(\u03b8) + \u03c4\u23a5\n",
        "\u23a2\u2500\u2500\u2500\u2500\u2500\u2500\u2500\u2500\u2500\u2500\u2500\u2500\u2500\u2500\u2500\u2500\u23a5\n",
        "\u23a2       2        \u23a5\n",
        "\u23a3      l \u22c5m      \u23a6"
       ]
      }
     ],
     "prompt_number": 5
    },
    {
     "cell_type": "code",
     "collapsed": false,
     "input": [
      "x_vect = sympy.Matrix([theta, theta_dot])\n",
      "u_vect = sympy.Matrix([tau])\n",
      "\n",
      "x_vect, u_vect"
     ],
     "language": "python",
     "metadata": {},
     "outputs": [
      {
       "latex": [
        "$$\\left ( \\left[\\begin{matrix}\\theta\\\\\\theta_{dot}\\end{matrix}\\right], \\quad \\left[\\begin{matrix}\\tau\\end{matrix}\\right]\\right )$$"
       ],
       "metadata": {},
       "output_type": "pyout",
       "png": "[encoded data removed]",
       "prompt_number": 6,
       "text": [
        "\u239b\u23a1  \u03b8  \u23a4, [\u03c4]\u239e\n",
        "\u239c\u23a2     \u23a5     \u239f\n",
        "\u239d\u23a3\u03b8_dot\u23a6     \u23a0"
       ]
      }
     ],
     "prompt_number": 6
    },
    {
     "cell_type": "code",
     "collapsed": false,
     "input": [
      "A = rhs.jacobian(x_vect)\n",
      "A"
     ],
     "language": "python",
     "metadata": {},
     "outputs": [
      {
       "latex": [
        "$$\\left[\\begin{matrix}0 & 1\\\\\\frac{g \\operatorname{cos}\\left(\\theta\\right)}{l} & 0\\end{matrix}\\right]$$"
       ],
       "metadata": {},
       "output_type": "pyout",
       "png": "[encoded data removed]",
       "prompt_number": 7,
       "text": [
        "\u23a1   0      1\u23a4\n",
        "\u23a2           \u23a5\n",
        "\u23a2g\u22c5cos(\u03b8)   \u23a5\n",
        "\u23a2\u2500\u2500\u2500\u2500\u2500\u2500\u2500\u2500  0\u23a5\n",
        "\u23a3   l       \u23a6"
       ]
      }
     ],
     "prompt_number": 7
    },
    {
     "cell_type": "code",
     "collapsed": false,
     "input": [
      "B = rhs.jacobian(u_vect)\n",
      "B"
     ],
     "language": "python",
     "metadata": {},
     "outputs": [
      {
       "latex": [
        "$$\\left[\\begin{matrix}0\\\\\\frac{1}{l^{2} m}\\end{matrix}\\right]$$"
       ],
       "metadata": {},
       "output_type": "pyout",
       "png": "[encoded data removed]",
       "prompt_number": 8,
       "text": [
        "\u23a1 0  \u23a4\n",
        "\u23a2    \u23a5\n",
        "\u23a2 1  \u23a5\n",
        "\u23a2\u2500\u2500\u2500\u2500\u23a5\n",
        "\u23a2 2  \u23a5\n",
        "\u23a3l \u22c5m\u23a6"
       ]
      }
     ],
     "prompt_number": 8
    },
    {
     "cell_type": "markdown",
     "metadata": {},
     "source": [
      "Find accelerometer measurement."
     ]
    },
    {
     "cell_type": "code",
     "collapsed": false,
     "input": [
      "accel_meas = point_cm.acc(frame_i).express(frame_b).subs(theta(t).diff(t,2), rhs[1]) - frame_i.z*g\n",
      "accel_meas"
     ],
     "language": "python",
     "metadata": {},
     "outputs": [
      {
       "latex": [
        "$$-  \\frac{1}{l m} \\left(g l m \\operatorname{sin}\\left(\\theta\\right) + \\tau\\right)\\mathbf{\\hat{b}_x} + l \\left(\\dot{\\theta}\\right)^{2}\\mathbf{\\hat{b}_z} -  g\\mathbf{\\hat{i}_z}$$"
       ],
       "metadata": {},
       "output_type": "pyout",
       "png": "[encoded data removed]",
       "prompt_number": 9,
       "text": [
        "- (g\u22c5l\u22c5m\u22c5sin(\u03b8) + \u03c4) \n",
        "\u2500\u2500\u2500\u2500\u2500\u2500\u2500\u2500\u2500\u2500\u2500\u2500\u2500\u2500\u2500\u2500\u2500\u2500\u2500\u2500\n",
        "        l\u22c5m          b_x +     2\n",
        "l\u22c5\u03b8\u0307  b_z - g i_z"
       ]
      }
     ],
     "prompt_number": 9
    },
    {
     "cell_type": "code",
     "collapsed": false,
     "input": [
      "accel_meas_vect = sympy.Matrix([accel_meas.dot(frame_b.x), accel_meas.dot(frame_b.y), accel_meas.dot(frame_b.z)]).subs(states_sub)\n",
      "accel_meas_vect"
     ],
     "language": "python",
     "metadata": {},
     "outputs": [
      {
       "latex": [
        "$$\\left[\\begin{matrix}g \\operatorname{sin}\\left(\\theta\\right) - \\frac{1}{l m} \\left(g l m \\operatorname{sin}\\left(\\theta\\right) + \\tau\\right)\\\\0\\\\- g \\operatorname{cos}\\left(\\theta\\right) + l \\theta_{dot}^{2}\\end{matrix}\\right]$$"
       ],
       "metadata": {},
       "output_type": "pyout",
       "png": "[encoded data removed]",
       "prompt_number": 10,
       "text": [
        "\u23a1           g\u22c5l\u22c5m\u22c5sin(\u03b8) + \u03c4\u23a4\n",
        "\u23a2g\u22c5sin(\u03b8) - \u2500\u2500\u2500\u2500\u2500\u2500\u2500\u2500\u2500\u2500\u2500\u2500\u2500\u2500\u2500\u2500\u23a5\n",
        "\u23a2                 l\u22c5m       \u23a5\n",
        "\u23a2                           \u23a5\n",
        "\u23a2             0             \u23a5\n",
        "\u23a2                           \u23a5\n",
        "\u23a2                      2    \u23a5\n",
        "\u23a3   -g\u22c5cos(\u03b8) + l\u22c5\u03b8_dot     \u23a6"
       ]
      }
     ],
     "prompt_number": 10
    },
    {
     "cell_type": "code",
     "collapsed": false,
     "input": [
      "f_accel = rhs_to_scipy_ode(accel_meas_vect, t, x_vect, u_vect, {}, m, g, l)[0]\n",
      "f_accel(0,[0,0],[0],1,9.8,1)"
     ],
     "language": "python",
     "metadata": {},
     "outputs": [
      {
       "metadata": {},
       "output_type": "pyout",
       "prompt_number": 11,
       "text": [
        "array([[ 0. ],\n",
        "       [ 0. ],\n",
        "       [-9.8]])"
       ]
      }
     ],
     "prompt_number": 11
    },
    {
     "cell_type": "markdown",
     "metadata": {},
     "source": [
      "Now we save all the expressions to disk."
     ]
    },
    {
     "cell_type": "code",
     "collapsed": false,
     "input": [
      "save_file= os.path.join('save','pendulum.sympy')\n",
      "save_sympy_expr({'tau':tau, 'theta': theta, 't':t,\n",
      "         'm': m, 'g': g, 'l': l,\n",
      "         'A':A, 'B':B,\n",
      "         'rhs':rhs, 'accel_meas_vect': accel_meas_vect, 'x_vect':x_vect,\n",
      "         'u_vect':u_vect}, save_file)"
     ],
     "language": "python",
     "metadata": {},
     "outputs": [],
     "prompt_number": 12
    },
    {
     "cell_type": "code",
     "collapsed": false,
     "input": [
      "d = load_sympy_expr(save_file)"
     ],
     "language": "python",
     "metadata": {},
     "outputs": [],
     "prompt_number": 13
    },
    {
     "cell_type": "code",
     "collapsed": false,
     "input": [
      "d['A']"
     ],
     "language": "python",
     "metadata": {},
     "outputs": [
      {
       "latex": [
        "$$\\left[\\begin{matrix}0 & 1\\\\\\frac{g \\operatorname{cos}\\left(\\theta\\right)}{l} & 0\\end{matrix}\\right]$$"
       ],
       "metadata": {},
       "output_type": "pyout",
       "png": "[encoded data removed]",
       "prompt_number": 14,
       "text": [
        "\u23a1   0      1\u23a4\n",
        "\u23a2           \u23a5\n",
        "\u23a2g\u22c5cos(\u03b8)   \u23a5\n",
        "\u23a2\u2500\u2500\u2500\u2500\u2500\u2500\u2500\u2500  0\u23a5\n",
        "\u23a3   l       \u23a6"
       ]
      }
     ],
     "prompt_number": 14
    },
    {
     "cell_type": "markdown",
     "metadata": {},
     "source": [
      "Inject dictionary of expressions into the global namespace."
     ]
    },
    {
     "cell_type": "code",
     "collapsed": false,
     "input": [
      "locals().update(d)"
     ],
     "language": "python",
     "metadata": {},
     "outputs": [],
     "prompt_number": 15
    },
    {
     "cell_type": "code",
     "collapsed": false,
     "input": [
      "rhs"
     ],
     "language": "python",
     "metadata": {},
     "outputs": [
      {
       "latex": [
        "$$\\left[\\begin{matrix}\\theta_{dot}\\\\\\frac{1}{l^{2} m} \\left(g l m \\operatorname{sin}\\left(\\theta\\right) + \\tau\\right)\\end{matrix}\\right]$$"
       ],
       "metadata": {},
       "output_type": "pyout",
       "png": "[encoded data removed]",
       "prompt_number": 16,
       "text": [
        "\u23a1     \u03b8_dot      \u23a4\n",
        "\u23a2                \u23a5\n",
        "\u23a2g\u22c5l\u22c5m\u22c5sin(\u03b8) + \u03c4\u23a5\n",
        "\u23a2\u2500\u2500\u2500\u2500\u2500\u2500\u2500\u2500\u2500\u2500\u2500\u2500\u2500\u2500\u2500\u2500\u23a5\n",
        "\u23a2       2        \u23a5\n",
        "\u23a3      l \u22c5m      \u23a6"
       ]
      }
     ],
     "prompt_number": 16
    },
    {
     "cell_type": "code",
     "collapsed": false,
     "input": [
      "f_pend_dyn, jac_pend_dyn = rhs_to_scipy_ode(\n",
      "    rhs, t, x_vect, u_vect,  {g:9.8}, m, l)"
     ],
     "language": "python",
     "metadata": {},
     "outputs": [],
     "prompt_number": 17
    },
    {
     "cell_type": "code",
     "collapsed": false,
     "input": [
      "rhs.jacobian(x_vect)"
     ],
     "language": "python",
     "metadata": {},
     "outputs": [
      {
       "latex": [
        "$$\\left[\\begin{matrix}0 & 1\\\\\\frac{g \\operatorname{cos}\\left(\\theta\\right)}{l} & 0\\end{matrix}\\right]$$"
       ],
       "metadata": {},
       "output_type": "pyout",
       "png": "[encoded data removed]",
       "prompt_number": 18,
       "text": [
        "\u23a1   0      1\u23a4\n",
        "\u23a2           \u23a5\n",
        "\u23a2g\u22c5cos(\u03b8)   \u23a5\n",
        "\u23a2\u2500\u2500\u2500\u2500\u2500\u2500\u2500\u2500  0\u23a5\n",
        "\u23a3   l       \u23a6"
       ]
      }
     ],
     "prompt_number": 18
    },
    {
     "cell_type": "code",
     "collapsed": false,
     "input": [
      "d = sympy.ImmutableMatrix(rhs)\n",
      "d"
     ],
     "language": "python",
     "metadata": {},
     "outputs": [
      {
       "latex": [
        "$$\\left[\\begin{matrix}\\theta_{dot}\\\\\\frac{1}{l^{2} m} \\left(g l m \\operatorname{sin}\\left(\\theta\\right) + \\tau\\right)\\end{matrix}\\right]$$"
       ],
       "metadata": {},
       "output_type": "pyout",
       "png": "[encoded data removed]",
       "prompt_number": 19,
       "text": [
        "\u23a1     \u03b8_dot      \u23a4\n",
        "\u23a2                \u23a5\n",
        "\u23a2g\u22c5l\u22c5m\u22c5sin(\u03b8) + \u03c4\u23a5\n",
        "\u23a2\u2500\u2500\u2500\u2500\u2500\u2500\u2500\u2500\u2500\u2500\u2500\u2500\u2500\u2500\u2500\u2500\u23a5\n",
        "\u23a2       2        \u23a5\n",
        "\u23a3      l \u22c5m      \u23a6"
       ]
      }
     ],
     "prompt_number": 19
    },
    {
     "cell_type": "code",
     "collapsed": false,
     "input": [
      "rhs_jac = rhs.jacobian((theta, theta_dot))\n",
      "rhs_jac"
     ],
     "language": "python",
     "metadata": {},
     "outputs": [
      {
       "latex": [
        "$$\\left[\\begin{matrix}0 & 1\\\\\\frac{g \\operatorname{cos}\\left(\\theta\\right)}{l} & 0\\end{matrix}\\right]$$"
       ],
       "metadata": {},
       "output_type": "pyout",
       "png": "[encoded data removed]",
       "prompt_number": 20,
       "text": [
        "\u23a1   0      1\u23a4\n",
        "\u23a2           \u23a5\n",
        "\u23a2g\u22c5cos(\u03b8)   \u23a5\n",
        "\u23a2\u2500\u2500\u2500\u2500\u2500\u2500\u2500\u2500  0\u23a5\n",
        "\u23a3   l       \u23a6"
       ]
      }
     ],
     "prompt_number": 20
    },
    {
     "cell_type": "code",
     "collapsed": false,
     "input": [
      "def gen_pendulum_module():\n",
      "    t = sympy.Symbol('t')\n",
      "    x_ = sympy.MatrixSymbol('x', 2,1)\n",
      "    u_ = sympy.Symbol('u')\n",
      "    x_dot = sympy.MatrixSymbol('x_dot', 2,1)\n",
      "    J = sympy.MatrixSymbol('J', 2,2)\n",
      "    ss_sub = {theta: x_[0,0], theta_dot: x_[1,0], tau: u_} \n",
      "\n",
      "    rhs_routine = codegen.Routine('rhs',\n",
      "        sympy.Equality(x_dot, rhs.subs(ss_sub)),\n",
      "        (x_dot, t, x_, u_, g, l, m))\n",
      "    rhs_jac_routine = codegen.Routine('rhs_jac',\n",
      "        sympy.Equality(J, rhs_jac.subs(ss_sub)),\n",
      "        (J, t, x_, u_, g, l, m))\n",
      "    \n",
      "    return gen_fortran_module('pendulum',\n",
      "               [rhs_routine, rhs_jac_routine],\n",
      "               'PX4-SIL')"
     ],
     "language": "python",
     "metadata": {},
     "outputs": [],
     "prompt_number": 21
    },
    {
     "cell_type": "code",
     "collapsed": false,
     "input": [
      "pendulum_src = gen_pendulum_module()\n",
      "with open('pendulum.f90','w') as fid:\n",
      "    fid.write(pendulum_src)\n",
      "print pendulum_src"
     ],
     "language": "python",
     "metadata": {},
     "outputs": [
      {
       "output_type": "stream",
       "stream": "stdout",
       "text": [
        "!******************************************************************************\n",
        "!*                    Code generated with sympy 0.7.5-git                     *\n",
        "!*                                                                            *\n",
        "!*              See http://www.sympy.org/ for more information.               *\n",
        "!*                                                                            *\n",
        "!*                       This file is part of 'PX4-SIL'                       *\n",
        "!******************************************************************************\n",
        "\n",
        "subroutine rhs(x_dot, t, x, u, g, l, m)\n",
        "implicit none\n",
        "REAL*8, intent(in) :: t\n",
        "REAL*8, intent(in) :: u\n",
        "REAL*8, intent(in) :: g\n",
        "REAL*8, intent(in) :: l\n",
        "REAL*8, intent(in) :: m\n",
        "REAL*8, intent(out), dimension(1:2, 1:1) :: x_dot\n",
        "REAL*8, intent(in), dimension(1:2, 1:1) :: x\n",
        "\n",
        "x_dot(1, 1) = x(2, 1)\n",
        "x_dot(2, 1) = (g*l*m*sin(x(1, 1)) + u)/(l**2*m)\n",
        "\n",
        "end subroutine\n",
        "\n",
        "subroutine rhs_jac(J, t, x, u, g, l, m)\n",
        "implicit none\n",
        "REAL*8, intent(in) :: t\n",
        "REAL*8, intent(in) :: u\n",
        "REAL*8, intent(in) :: g\n",
        "REAL*8, intent(in) :: l\n",
        "REAL*8, intent(in) :: m\n",
        "REAL*8, intent(out), dimension(1:2, 1:2) :: J\n",
        "REAL*8, intent(in), dimension(1:2, 1:1) :: x\n",
        "\n",
        "J(1, 1) = 0\n",
        "J(2, 1) = g*cos(x(1, 1))/l\n",
        "J(1, 2) = 1\n",
        "J(2, 2) = 0\n",
        "\n",
        "end subroutine\n",
        "\n"
       ]
      }
     ],
     "prompt_number": 22
    },
    {
     "cell_type": "code",
     "collapsed": false,
     "input": [
      "np.f2py.compile(source=pendulum_src, modulename='pendulum',\n",
      "             source_fn='pendulum.f90')\n",
      "import pendulum"
     ],
     "language": "python",
     "metadata": {},
     "outputs": [],
     "prompt_number": 23
    },
    {
     "cell_type": "code",
     "collapsed": false,
     "input": [
      "def gen_pendulum_module_2(const={}):\n",
      "    x_dot = sympy.MatrixSymbol('x_dot', 2,1)\n",
      "    J = sympy.MatrixSymbol('J', 2,2)\n",
      "    rhs_routine = codegen.Routine('rhs',\n",
      "        sympy.Equality(x_dot, rhs.subs(const)))\n",
      "    rhs_jac_routine = codegen.Routine('rhs_jac',\n",
      "        sympy.Equality(J, rhs_jac.subs(const)))\n",
      "    \n",
      "    return gen_fortran_module('pendulum',\n",
      "               [rhs_routine, rhs_jac_routine],\n",
      "               'PX4-SIL')"
     ],
     "language": "python",
     "metadata": {},
     "outputs": [],
     "prompt_number": 24
    },
    {
     "cell_type": "code",
     "collapsed": false,
     "input": [
      "pendulum2_src = gen_pendulum_module_2(const={'g':9.8, 'l':1, 'm':1})"
     ],
     "language": "python",
     "metadata": {},
     "outputs": [],
     "prompt_number": 25
    },
    {
     "cell_type": "code",
     "collapsed": false,
     "input": [
      "np.f2py.compile(source=pendulum2_src, modulename='pendulum2',\n",
      "             source_fn='pendulum2.f90')\n",
      "import pendulum2\n",
      "reload(pendulum2)"
     ],
     "language": "python",
     "metadata": {},
     "outputs": [
      {
       "metadata": {},
       "output_type": "pyout",
       "prompt_number": 26,
       "text": [
        "<module 'pendulum2' from 'pendulum2.so'>"
       ]
      }
     ],
     "prompt_number": 26
    },
    {
     "cell_type": "code",
     "collapsed": false,
     "input": [
      "x_val = [1,1]\n",
      "u_val = 1\n",
      "print pendulum.rhs(1, x_val, u_val, 1, 1, 1)\n",
      "print pendulum.rhs_jac(0, x_val, u_val, 1, 1, 1)"
     ],
     "language": "python",
     "metadata": {},
     "outputs": [
      {
       "output_type": "stream",
       "stream": "stdout",
       "text": [
        "[[ 1.        ]\n",
        " [ 1.84147098]]\n",
        "[[ 0.          1.        ]\n",
        " [ 0.54030231  0.        ]]\n"
       ]
      }
     ],
     "prompt_number": 27
    },
    {
     "cell_type": "code",
     "collapsed": false,
     "input": [
      "%%timeit\n",
      "pendulum.rhs(1,[1,1],[1],1,1,1)\n",
      "pendulum.rhs_jac(1,[1,1],[1],1,1,1)"
     ],
     "language": "python",
     "metadata": {},
     "outputs": [
      {
       "output_type": "stream",
       "stream": "stdout",
       "text": [
        "100000 loops, best of 3: 3.37 \u00b5s per loop\n"
       ]
      }
     ],
     "prompt_number": 28
    },
    {
     "cell_type": "code",
     "collapsed": false,
     "input": [
      "%%timeit\n",
      "pendulum2.rhs(1, 1, 1)\n",
      "pendulum2.rhs_jac(1)"
     ],
     "language": "python",
     "metadata": {},
     "outputs": [
      {
       "output_type": "stream",
       "stream": "stdout",
       "text": [
        "1000000 loops, best of 3: 748 ns per loop\n"
       ]
      }
     ],
     "prompt_number": 29
    },
    {
     "cell_type": "markdown",
     "metadata": {},
     "source": [
      "The lambdify function which uses numpy is sufficiently fast."
     ]
    },
    {
     "cell_type": "code",
     "collapsed": false,
     "input": [
      "def do_sim():\n",
      "    import scipy.integrate\n",
      "    ode = scipy.integrate.ode(pendulum.rhs, pendulum.rhs_jac)\n",
      "    ode.set_initial_value([0.1,0])\n",
      "    ode.set_f_params([0], 1, 1, 1)\n",
      "    ode.set_jac_params([0], 1, 1, 1)\n",
      "    dt = 0.001\n",
      "    x = []\n",
      "    t = []\n",
      "    while ode.t +dt < 1000:\n",
      "        ode.integrate(ode.t + dt)\n",
      "        x.append(ode.y)\n",
      "        t.append(ode.t)\n",
      "    #plt.plot(t, x)"
     ],
     "language": "python",
     "metadata": {},
     "outputs": [],
     "prompt_number": 38
    },
    {
     "cell_type": "code",
     "collapsed": false,
     "input": [
      "%%timeit\n",
      "do_sim();"
     ],
     "language": "python",
     "metadata": {},
     "outputs": [
      {
       "output_type": "stream",
       "stream": "stdout",
       "text": [
        "1 loops, best of 3: 7.69 s per loop\n"
       ]
      }
     ],
     "prompt_number": 39
    },
    {
     "cell_type": "code",
     "collapsed": false,
     "input": [
      "def do_sim2():\n",
      "    import scipy.integrate\n",
      "    g = 9.8\n",
      "    l = 1\n",
      "    m = 1\n",
      "    rhs = lambda t, x, u: pendulum2.rhs(tau=u, theta=x[0], theta_dot=x[1])\n",
      "    rhs_jac = lambda t, x, u: pendulum2.rhs_jac(theta=x[0])\n",
      "    ode = scipy.integrate.ode(rhs, rhs_jac)\n",
      "    ode.set_initial_value([0.1,0])\n",
      "    ode.set_f_params(0)\n",
      "    ode.set_jac_params(0)\n",
      "    dt = 0.001\n",
      "    x = []\n",
      "    t = []\n",
      "    while ode.t +dt < 1000:\n",
      "        ode.integrate(ode.t + dt)\n",
      "        x.append(ode.y)\n",
      "        t.append(ode.t)\n",
      "    #plt.plot(t, x)"
     ],
     "language": "python",
     "metadata": {},
     "outputs": [],
     "prompt_number": 40
    },
    {
     "cell_type": "code",
     "collapsed": false,
     "input": [
      "%%timeit\n",
      "do_sim2()"
     ],
     "language": "python",
     "metadata": {},
     "outputs": [
      {
       "output_type": "stream",
       "stream": "stdout",
       "text": [
        "1 loops, best of 3: 7.37 s per loop\n"
       ]
      }
     ],
     "prompt_number": 41
    }
   ],
   "metadata": {}
  }
 ]
}