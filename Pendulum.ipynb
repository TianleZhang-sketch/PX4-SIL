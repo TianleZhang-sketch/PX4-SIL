{
 "metadata": {
  "name": "",
  "signature": "sha256:ccd82ccc87a1c1a32f272b99cdabbecebf4dbf664fae95253747a7585a3e0a02"
 },
 "nbformat": 3,
 "nbformat_minor": 0,
 "worksheets": [
  {
   "cells": [
    {
     "cell_type": "code",
     "collapsed": false,
     "input": [
      "import sympy\n",
      "import sympy.physics.mechanics as mech\n",
      "import pickle\n",
      "import os\n",
      "import re\n",
      "import copy\n",
      "import matplotlib.pyplot as plt\n",
      "%matplotlib inline\n",
      "sympy.init_printing()\n",
      "mech.init_vprinting()\n",
      "\n",
      "from sympy_utils import SympyDict, state_space_lambdify"
     ],
     "language": "python",
     "metadata": {},
     "outputs": [],
     "prompt_number": 1
    },
    {
     "cell_type": "code",
     "collapsed": false,
     "input": [
      "theta = sympy.Function('theta')\n",
      "tau = sympy.Function('tau')\n",
      "m, g, l, t = sympy.symbols('m, g, l, t')\n",
      "frame_i = mech.ReferenceFrame('i')\n",
      "frame_b = frame_i.orientnew(newname='b', rot_type='Axis',\n",
      "                            amounts=(theta(t), frame_i.y))\n",
      "point_o = mech.Point('o')\n",
      "point_o.set_vel(frame_i, 0)\n",
      "point_cm = point_o.locatenew('cm', -l*frame_b.z)\n",
      "point_cm.set_vel(frame_b, 0)\n",
      "point_cm.v1pt_theory(otherpoint=point_o,\n",
      "                     outframe=frame_i, interframe=frame_b)\n",
      "ball = mech.Particle(name='ball', point=point_cm, mass=m)\n",
      "ball.set_potential_energy(m*g*l*sympy.cos(theta(t)))\n",
      "L = mech.Lagrangian(frame_i, ball)\n",
      "lm = mech.LagrangesMethod(Lagrangian=L, q_list=[theta(t)], coneqs=None,\n",
      "                     forcelist=[(frame_b, tau(t)*frame_b.y)], frame=frame_i)\n",
      "lm.form_lagranges_equations();"
     ],
     "language": "python",
     "metadata": {},
     "outputs": [],
     "prompt_number": 2
    },
    {
     "cell_type": "code",
     "collapsed": false,
     "input": [
      "sympy.Eq(sympy.Symbol('L'), L)"
     ],
     "language": "python",
     "metadata": {},
     "outputs": [
      {
       "latex": [
        "$$L = - g l m \\operatorname{cos}\\left(\\theta\\right) + \\frac{l^{2} m}{2} \\left(\\dot{\\theta}\\right)^{2}$$"
       ],
       "metadata": {},
       "output_type": "pyout",
       "png": "[encoded data removed]",
       "prompt_number": 3,
       "text": [
        "                     2     2\n",
        "                    l \u22c5m\u22c5\u03b8\u0307 \n",
        "L = -g\u22c5l\u22c5m\u22c5cos(\u03b8) + \u2500\u2500\u2500\u2500\u2500\u2500\u2500\u2500\n",
        "                       2    "
       ]
      }
     ],
     "prompt_number": 3
    },
    {
     "cell_type": "code",
     "collapsed": false,
     "input": [
      "sympy.Eq(lm.eom[0], 0)"
     ],
     "language": "python",
     "metadata": {},
     "outputs": [
      {
       "latex": [
        "$$- g l m \\operatorname{sin}\\left(\\theta\\right) + l^{2} m \\ddot{\\theta} - \\tau = 0$$"
       ],
       "metadata": {},
       "output_type": "pyout",
       "png": "[encoded data removed]",
       "prompt_number": 4,
       "text": [
        "                 2             \n",
        "-g\u22c5l\u22c5m\u22c5sin(\u03b8) + l \u22c5m\u22c5\u03b8\u0308 - \u03c4 = 0"
       ]
      }
     ],
     "prompt_number": 4
    },
    {
     "cell_type": "code",
     "collapsed": false,
     "input": [
      "rhs = lm.rhs()\n",
      "rhs"
     ],
     "language": "python",
     "metadata": {},
     "outputs": [
      {
       "latex": [
        "$$\\left[\\begin{matrix}\\dot{\\theta}\\\\\\frac{1}{l^{2} m} \\left(g l m \\operatorname{sin}\\left(\\theta\\right) + \\tau\\right)\\end{matrix}\\right]$$"
       ],
       "metadata": {},
       "output_type": "pyout",
       "png": "[encoded data removed]",
       "prompt_number": 5,
       "text": [
        "\u23a1       \u03b8\u0307       \u23a4\n",
        "\u23a2                \u23a5\n",
        "\u23a2g\u22c5l\u22c5m\u22c5sin(\u03b8) + \u03c4\u23a5\n",
        "\u23a2\u2500\u2500\u2500\u2500\u2500\u2500\u2500\u2500\u2500\u2500\u2500\u2500\u2500\u2500\u2500\u2500\u23a5\n",
        "\u23a2       2        \u23a5\n",
        "\u23a3      l \u22c5m      \u23a6"
       ]
      }
     ],
     "prompt_number": 5
    },
    {
     "cell_type": "code",
     "collapsed": false,
     "input": [
      "x_vect = sympy.Matrix([theta(t), theta(t).diff(t)])\n",
      "u_vect = sympy.Matrix([tau(t)])\n",
      "\n",
      "x_vect, u_vect"
     ],
     "language": "python",
     "metadata": {},
     "outputs": [
      {
       "latex": [
        "$$\\begin{pmatrix}\\left[\\begin{matrix}\\theta\\\\\\dot{\\theta}\\end{matrix}\\right], & \\left[\\begin{matrix}\\tau\\end{matrix}\\right]\\end{pmatrix}$$"
       ],
       "metadata": {},
       "output_type": "pyout",
       "png": "[encoded data removed]",
       "prompt_number": 6,
       "text": [
        "\u239b\u23a1\u03b8 \u23a4, [\u03c4]\u239e\n",
        "\u239c\u23a2  \u23a5     \u239f\n",
        "\u239d\u23a3\u03b8\u0307\u23a6     \u23a0"
       ]
      }
     ],
     "prompt_number": 6
    },
    {
     "cell_type": "code",
     "collapsed": false,
     "input": [
      "A = rhs.jacobian(x_vect)\n",
      "sympy.Eq(sympy.Symbol('A'), A)"
     ],
     "language": "python",
     "metadata": {},
     "outputs": [
      {
       "latex": [
        "$$A = \\left[\\begin{matrix}0 & 1\\\\\\frac{g \\operatorname{cos}\\left(\\theta\\right)}{l} & 0\\end{matrix}\\right]$$"
       ],
       "metadata": {},
       "output_type": "pyout",
       "png": "[encoded data removed]",
       "prompt_number": 7,
       "text": [
        "A = \u23a1   0      1\u23a4\n",
        "    \u23a2           \u23a5\n",
        "    \u23a2g\u22c5cos(\u03b8)   \u23a5\n",
        "    \u23a2\u2500\u2500\u2500\u2500\u2500\u2500\u2500\u2500  0\u23a5\n",
        "    \u23a3   l       \u23a6"
       ]
      }
     ],
     "prompt_number": 7
    },
    {
     "cell_type": "code",
     "collapsed": false,
     "input": [
      "B = rhs.jacobian(u_vect)\n",
      "sympy.Eq(sympy.Symbol('B'), B)"
     ],
     "language": "python",
     "metadata": {},
     "outputs": [
      {
       "latex": [
        "$$B = \\left[\\begin{matrix}0\\\\\\frac{1}{l^{2} m}\\end{matrix}\\right]$$"
       ],
       "metadata": {},
       "output_type": "pyout",
       "png": "[encoded data removed]",
       "prompt_number": 8,
       "text": [
        "B = \u23a1 0  \u23a4\n",
        "    \u23a2    \u23a5\n",
        "    \u23a2 1  \u23a5\n",
        "    \u23a2\u2500\u2500\u2500\u2500\u23a5\n",
        "    \u23a2 2  \u23a5\n",
        "    \u23a3l \u22c5m\u23a6"
       ]
      }
     ],
     "prompt_number": 8
    },
    {
     "cell_type": "markdown",
     "metadata": {},
     "source": [
      "Now we save all the expressions to disk."
     ]
    },
    {
     "cell_type": "code",
     "collapsed": false,
     "input": [
      "d = SympyDict({'tau':tau, 'theta': theta, 't':t,\n",
      "         'm': m, 'g': g, 'l': l,\n",
      "         'A':A, 'B':B,\n",
      "         'rhs':rhs, 'x_vect':x_vect,\n",
      "         'u_vect':u_vect\n",
      "         })\n",
      "d.save('save/pendulum.sympy')\n",
      "del d"
     ],
     "language": "python",
     "metadata": {},
     "outputs": [],
     "prompt_number": 9
    },
    {
     "cell_type": "code",
     "collapsed": false,
     "input": [
      "d = SympyDict.load('save/pendulum.sympy')"
     ],
     "language": "python",
     "metadata": {},
     "outputs": [],
     "prompt_number": 10
    },
    {
     "cell_type": "code",
     "collapsed": false,
     "input": [
      "d['A']"
     ],
     "language": "python",
     "metadata": {},
     "outputs": [
      {
       "latex": [
        "$$\\left[\\begin{matrix}0 & 1\\\\\\frac{g \\operatorname{cos}\\left(\\theta\\right)}{l} & 0\\end{matrix}\\right]$$"
       ],
       "metadata": {},
       "output_type": "pyout",
       "png": "[encoded data removed]",
       "prompt_number": 11,
       "text": [
        "\u23a1   0      1\u23a4\n",
        "\u23a2           \u23a5\n",
        "\u23a2g\u22c5cos(\u03b8)   \u23a5\n",
        "\u23a2\u2500\u2500\u2500\u2500\u2500\u2500\u2500\u2500  0\u23a5\n",
        "\u23a3   l       \u23a6"
       ]
      }
     ],
     "prompt_number": 11
    },
    {
     "cell_type": "markdown",
     "metadata": {},
     "source": [
      "Inject dictionary of expressions into the global namespace."
     ]
    },
    {
     "cell_type": "code",
     "collapsed": false,
     "input": [
      "locals().update(d)"
     ],
     "language": "python",
     "metadata": {},
     "outputs": [],
     "prompt_number": 12
    },
    {
     "cell_type": "code",
     "collapsed": false,
     "input": [
      "rhs"
     ],
     "language": "python",
     "metadata": {},
     "outputs": [
      {
       "latex": [
        "$$\\left[\\begin{matrix}\\dot{\\theta}\\\\\\frac{1}{l^{2} m} \\left(g l m \\operatorname{sin}\\left(\\theta\\right) + \\tau\\right)\\end{matrix}\\right]$$"
       ],
       "metadata": {},
       "output_type": "pyout",
       "png": "[encoded data removed]",
       "prompt_number": 13,
       "text": [
        "\u23a1       \u03b8\u0307       \u23a4\n",
        "\u23a2                \u23a5\n",
        "\u23a2g\u22c5l\u22c5m\u22c5sin(\u03b8) + \u03c4\u23a5\n",
        "\u23a2\u2500\u2500\u2500\u2500\u2500\u2500\u2500\u2500\u2500\u2500\u2500\u2500\u2500\u2500\u2500\u2500\u23a5\n",
        "\u23a2       2        \u23a5\n",
        "\u23a3      l \u22c5m      \u23a6"
       ]
      }
     ],
     "prompt_number": 13
    },
    {
     "cell_type": "code",
     "collapsed": false,
     "input": [
      "x = sympy.DeferredVector('__x')\n",
      "u = sympy.DeferredVector('__u')\n",
      "ss_subs = {x_vect[i]: x[i] for i in range(len(x_vect))}\n",
      "ss_subs.update({u_vect[i]: u[i] for i in range(len(u_vect))})\n",
      "print ss_subs\n",
      "f = sympy.lambdify((t, x, u) + (m,g,l), rhs.subs(ss_subs))\n",
      "f(0,[0,0],[0],1,9.8,1)"
     ],
     "language": "python",
     "metadata": {},
     "outputs": [
      {
       "output_type": "stream",
       "stream": "stdout",
       "text": [
        "{tau(t): __u[0], Derivative(theta(t), t): __x[1], theta(t): __x[0]}\n"
       ]
      },
      {
       "metadata": {},
       "output_type": "pyout",
       "prompt_number": 14,
       "text": [
        "matrix([[ 0.],\n",
        "        [ 0.]])"
       ]
      }
     ],
     "prompt_number": 14
    },
    {
     "cell_type": "code",
     "collapsed": false,
     "input": [
      "f_pend_dyn = state_space_lambdify(rhs, t, x_vect, u_vect,  m, g, l)\n",
      "f_pend_dyn(t=0, x=[1,2], u=[0], m=1, g=9.8, l=1)"
     ],
     "language": "python",
     "metadata": {},
     "outputs": [
      {
       "metadata": {},
       "output_type": "pyout",
       "prompt_number": 15,
       "text": [
        "matrix([[ 2.        ],\n",
        "        [ 8.24641565]])"
       ]
      }
     ],
     "prompt_number": 15
    },
    {
     "cell_type": "markdown",
     "metadata": {},
     "source": [
      "The lambdify function which uses numpy is sufficiently fast."
     ]
    },
    {
     "cell_type": "code",
     "collapsed": false,
     "input": [
      "import scipy.integrate\n",
      "ode = scipy.integrate.ode(f_pend_dyn)\n",
      "ode.set_initial_value([0.1,0])\n",
      "ode.set_f_params([0], 1, 1, 1)\n",
      "dt = 0.01\n",
      "x = []\n",
      "t = []\n",
      "while ode.t +dt < 100:\n",
      "    ode.integrate(ode.t + dt)\n",
      "    x.append(ode.y)\n",
      "    t.append(ode.t)\n",
      "plt.plot(t, x)"
     ],
     "language": "python",
     "metadata": {},
     "outputs": [
      {
       "metadata": {},
       "output_type": "pyout",
       "prompt_number": 16,
       "text": [
        "[<matplotlib.lines.Line2D at 0x4f38810>,\n",
        " <matplotlib.lines.Line2D at 0x4f38a90>]"
       ]
      },
      {
       "metadata": {},
       "output_type": "display_data",
       "png": "[encoded data removed]",
       "text": [
        "<matplotlib.figure.Figure at 0x4cb8ad0>"
       ]
      }
     ],
     "prompt_number": 16
    },
    {
     "cell_type": "code",
     "collapsed": false,
     "input": [
      "%%timeit\n",
      "f_pend_dyn(0, x=[0,0], u=[0], m=1, g=9.8, l=1)"
     ],
     "language": "python",
     "metadata": {},
     "outputs": [
      {
       "output_type": "stream",
       "stream": "stdout",
       "text": [
        "100000 loops, best of 3: 7.53 \u00b5s per loop\n"
       ]
      }
     ],
     "prompt_number": 17
    }
   ],
   "metadata": {}
  }
 ]
}