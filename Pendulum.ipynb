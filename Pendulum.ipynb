{
 "metadata": {
  "name": "",
  "signature": "sha256:dfe353eddf5d2fa14c4c3a6f6ae163864cb8e811589225cc34a53d8212ba20b2"
 },
 "nbformat": 3,
 "nbformat_minor": 0,
 "worksheets": [
  {
   "cells": [
    {
     "cell_type": "code",
     "collapsed": false,
     "input": [
      "import sympy\n",
      "import sympy.physics.mechanics as mech\n",
      "import pickle\n",
      "import os\n",
      "sympy.init_printing()\n",
      "mech.init_vprinting()"
     ],
     "language": "python",
     "metadata": {},
     "outputs": [],
     "prompt_number": 1
    },
    {
     "cell_type": "code",
     "collapsed": false,
     "input": [
      "theta = sympy.Function('theta')\n",
      "tau = sympy.Function('tau')\n",
      "m, g, l, t = sympy.symbols('m, g, l, t')\n",
      "frame_i = mech.ReferenceFrame('i')\n",
      "frame_b = frame_i.orientnew(newname='b', rot_type='Axis',\n",
      "                            amounts=(theta(t), frame_i.y))\n",
      "point_o = mech.Point('o')\n",
      "point_o.set_vel(frame_i, 0)\n",
      "point_cm = point_o.locatenew('cm', -l*frame_b.z)\n",
      "point_cm.set_vel(frame_b, 0)\n",
      "point_cm.v1pt_theory(otherpoint=point_o,\n",
      "                     outframe=frame_i, interframe=frame_b)\n",
      "ball = mech.Particle(name='ball', point=point_cm, mass=m)\n",
      "ball.set_potential_energy(m*g*l*sympy.cos(theta(t)))\n",
      "L = mech.Lagrangian(frame_i, ball)\n",
      "lm = mech.LagrangesMethod(Lagrangian=L, q_list=[theta(t)], coneqs=None,\n",
      "                     forcelist=[(frame_b, tau(t)*frame_b.y)], frame=frame_i)\n",
      "lm.form_lagranges_equations();"
     ],
     "language": "python",
     "metadata": {},
     "outputs": [],
     "prompt_number": 2
    },
    {
     "cell_type": "code",
     "collapsed": false,
     "input": [
      "sympy.Eq(sympy.Symbol('L'), L)"
     ],
     "language": "python",
     "metadata": {},
     "outputs": [
      {
       "latex": [
        "$$L = - g l m \\operatorname{cos}\\left(\\theta\\right) + \\frac{l^{2} m}{2} \\left(\\dot{\\theta}\\right)^{2}$$"
       ],
       "metadata": {},
       "output_type": "pyout",
       "png": "[encoded data removed]",
       "prompt_number": 3,
       "text": [
        "                     2     2\n",
        "                    l \u22c5m\u22c5\u03b8\u0307 \n",
        "L = -g\u22c5l\u22c5m\u22c5cos(\u03b8) + \u2500\u2500\u2500\u2500\u2500\u2500\u2500\u2500\n",
        "                       2    "
       ]
      }
     ],
     "prompt_number": 3
    },
    {
     "cell_type": "code",
     "collapsed": false,
     "input": [
      "sympy.Eq(lm.eom[0], 0)"
     ],
     "language": "python",
     "metadata": {},
     "outputs": [
      {
       "latex": [
        "$$- g l m \\operatorname{sin}\\left(\\theta\\right) + l^{2} m \\ddot{\\theta} - \\tau = 0$$"
       ],
       "metadata": {},
       "output_type": "pyout",
       "png": "[encoded data removed]",
       "prompt_number": 4,
       "text": [
        "                 2             \n",
        "-g\u22c5l\u22c5m\u22c5sin(\u03b8) + l \u22c5m\u22c5\u03b8\u0308 - \u03c4 = 0"
       ]
      }
     ],
     "prompt_number": 4
    },
    {
     "cell_type": "code",
     "collapsed": false,
     "input": [
      "x = sympy.DeferredVector('x')\n",
      "u = sympy.DeferredVector('u')\n",
      "ss_sub = {\n",
      "    theta(t): x[0],\n",
      "    theta(t).diff(t): x[1],\n",
      "    tau(t): u[0]\n",
      "}\n",
      "rhs = lm.rhs()"
     ],
     "language": "python",
     "metadata": {},
     "outputs": [],
     "prompt_number": 5
    },
    {
     "cell_type": "code",
     "collapsed": false,
     "input": [
      "x_vect = sympy.Matrix([theta(t), theta(t).diff(t)])\n",
      "u_vect = sympy.Matrix([tau(t)])\n",
      "\n",
      "x_vect, u_vect"
     ],
     "language": "python",
     "metadata": {},
     "outputs": [
      {
       "latex": [
        "$$\\begin{pmatrix}\\left[\\begin{matrix}\\theta\\\\\\dot{\\theta}\\end{matrix}\\right], & \\left[\\begin{matrix}\\tau\\end{matrix}\\right]\\end{pmatrix}$$"
       ],
       "metadata": {},
       "output_type": "pyout",
       "png": "[encoded data removed]",
       "prompt_number": 6,
       "text": [
        "\u239b\u23a1\u03b8 \u23a4, [\u03c4]\u239e\n",
        "\u239c\u23a2  \u23a5     \u239f\n",
        "\u239d\u23a3\u03b8\u0307\u23a6     \u23a0"
       ]
      }
     ],
     "prompt_number": 6
    },
    {
     "cell_type": "code",
     "collapsed": false,
     "input": [
      "A = rhs.jacobian(x_vect)\n",
      "sympy.Eq(sympy.Symbol('A'), A)"
     ],
     "language": "python",
     "metadata": {},
     "outputs": [
      {
       "latex": [
        "$$A = \\left[\\begin{matrix}0 & 1\\\\\\frac{g \\operatorname{cos}\\left(\\theta\\right)}{l} & 0\\end{matrix}\\right]$$"
       ],
       "metadata": {},
       "output_type": "pyout",
       "png": "[encoded data removed]",
       "prompt_number": 7,
       "text": [
        "A = \u23a1   0      1\u23a4\n",
        "    \u23a2           \u23a5\n",
        "    \u23a2g\u22c5cos(\u03b8)   \u23a5\n",
        "    \u23a2\u2500\u2500\u2500\u2500\u2500\u2500\u2500\u2500  0\u23a5\n",
        "    \u23a3   l       \u23a6"
       ]
      }
     ],
     "prompt_number": 7
    },
    {
     "cell_type": "code",
     "collapsed": false,
     "input": [
      "B = rhs.jacobian(u_vect)\n",
      "sympy.Eq(sympy.Symbol('B'), B)"
     ],
     "language": "python",
     "metadata": {},
     "outputs": [
      {
       "latex": [
        "$$B = \\left[\\begin{matrix}0\\\\\\frac{1}{l^{2} m}\\end{matrix}\\right]$$"
       ],
       "metadata": {},
       "output_type": "pyout",
       "png": "[encoded data removed]",
       "prompt_number": 8,
       "text": [
        "B = \u23a1 0  \u23a4\n",
        "    \u23a2    \u23a5\n",
        "    \u23a2 1  \u23a5\n",
        "    \u23a2\u2500\u2500\u2500\u2500\u23a5\n",
        "    \u23a2 2  \u23a5\n",
        "    \u23a3l \u22c5m\u23a6"
       ]
      }
     ],
     "prompt_number": 8
    },
    {
     "cell_type": "code",
     "collapsed": false,
     "input": [
      "x = sympy.DeferredVector('x')\n",
      "u = sympy.DeferredVector('u')\n",
      "ss_subs = {\n",
      "    theta(t): x[0],\n",
      "    theta(t).diff(t): x[1],\n",
      "    tau(t): u[0]\n",
      "}"
     ],
     "language": "python",
     "metadata": {},
     "outputs": [],
     "prompt_number": 9
    },
    {
     "cell_type": "code",
     "collapsed": false,
     "input": [
      "exprs = { 'x': x, 'u': u, 'm': m, 'g': g, 'l': l, 'A':A, 'B':B,\n",
      "         'rhs':rhs, 'x_vect':x_vect,\n",
      "         'u_vect':u_vect, 'ss_subs':ss_subs}"
     ],
     "language": "python",
     "metadata": {},
     "outputs": [],
     "prompt_number": 10
    },
    {
     "cell_type": "markdown",
     "metadata": {},
     "source": [
      "Now we save all the expressions to disk."
     ]
    },
    {
     "cell_type": "code",
     "collapsed": false,
     "input": [
      "pendulum_file_path = os.path.join('save', 'pendulum.pkl')\n",
      "try:\n",
      "    os.mkdir('save')\n",
      "except OSError:\n",
      "    pass\n",
      "with open(pendulum_file_path, 'wb') as savefile:\n",
      "    pickle.dump(exprs, savefile)"
     ],
     "language": "python",
     "metadata": {},
     "outputs": [],
     "prompt_number": 11
    },
    {
     "cell_type": "markdown",
     "metadata": {},
     "source": [
      "We delete the variables to test if the loading works."
     ]
    },
    {
     "cell_type": "code",
     "collapsed": false,
     "input": [
      "try:\n",
      "    del m, g, l, A, B, rhs, x_vect, u_vect, ss_subs\n",
      "except NameError:  # we dont' care if they are already delete\n",
      "    pass"
     ],
     "language": "python",
     "metadata": {},
     "outputs": [],
     "prompt_number": 12
    },
    {
     "cell_type": "code",
     "collapsed": false,
     "input": [
      "with open(pendulum_file_path, 'r') as loadfile:\n",
      "    exprs = pickle.load(loadfile)\n",
      "exprs"
     ],
     "language": "python",
     "metadata": {},
     "outputs": [
      {
       "metadata": {},
       "output_type": "pyout",
       "prompt_number": 13,
       "text": [
        "{'A': Matrix([\n",
        " [                0, 1],\n",
        " [g*cos(theta(t))/l, 0]]), 'B': Matrix([\n",
        " [         0],\n",
        " [1/(l**2*m)]]), 'g': g, 'l': l, 'm': m, 'rhs': Matrix([\n",
        " [                Derivative(theta(t), t)],\n",
        " [(g*l*m*sin(theta(t)) + tau(t))/(l**2*m)]]), 'ss_subs': {theta(t): x[0],\n",
        "  Derivative(theta(t), t): x[1],\n",
        "  tau(t): u[0]}, 'u': DeferredVector('u'), 'u_vect': Matrix([[tau(t)]]), 'x': DeferredVector('x'), 'x_vect': Matrix([\n",
        " [               theta(t)],\n",
        " [Derivative(theta(t), t)]])}"
       ]
      }
     ],
     "prompt_number": 13
    },
    {
     "cell_type": "markdown",
     "metadata": {},
     "source": [
      "We inject the save variables into the local namespace and then try out the function with lambdify."
     ]
    },
    {
     "cell_type": "code",
     "collapsed": false,
     "input": [
      "locals().update(exprs)\n",
      "f_pend_dyn = sympy.lambdify((x, u, m, g,l), rhs.subs(ss_subs))\n",
      "f_pend_dyn([1,1], [0], 1, 1, 1)"
     ],
     "language": "python",
     "metadata": {},
     "outputs": [
      {
       "metadata": {},
       "output_type": "pyout",
       "prompt_number": 14,
       "text": [
        "matrix([[ 1.        ],\n",
        "        [ 0.84147098]])"
       ]
      }
     ],
     "prompt_number": 14
    },
    {
     "cell_type": "markdown",
     "metadata": {},
     "source": [
      "The lambdify function which uses numpy is sufficiently fast."
     ]
    },
    {
     "cell_type": "code",
     "collapsed": false,
     "input": [
      "%%timeit\n",
      "f_pend_dyn([1,1], [0], 1, 1, 1)"
     ],
     "language": "python",
     "metadata": {},
     "outputs": [
      {
       "output_type": "stream",
       "stream": "stdout",
       "text": [
        "100000 loops, best of 3: 7.32 \u00b5s per loop\n"
       ]
      }
     ],
     "prompt_number": 15
    }
   ],
   "metadata": {}
  }
 ]
}