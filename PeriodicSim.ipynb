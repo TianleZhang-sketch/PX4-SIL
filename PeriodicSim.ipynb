{
 "metadata": {
  "name": "",
  "signature": "sha256:6d2d9a56788dd3da67ccf9149dd0165391dbf3e8feb96457fd6da025cc91e647"
 },
 "nbformat": 3,
 "nbformat_minor": 0,
 "worksheets": [
  {
   "cells": [
    {
     "cell_type": "code",
     "collapsed": false,
     "input": [
      "import matplotlib.pyplot as plt\n",
      "import numpy as np\n",
      "%matplotlib inline\n",
      "\n",
      "from periodic_sim import PeriodicScheduler, Estimator, Logger, nested_dict_to_namedtuple\n",
      "import uorb"
     ],
     "language": "python",
     "metadata": {},
     "outputs": [],
     "prompt_number": 1
    },
    {
     "cell_type": "markdown",
     "metadata": {},
     "source": [
      "First we declare the uORB manager and all processes that will be running. Next, we create the scheduler and pass the list or processes to it. Finally, we run the scheudler."
     ]
    },
    {
     "cell_type": "code",
     "collapsed": false,
     "input": [
      "%%time\n",
      "# constants\n",
      "tf = 40\n",
      "\n",
      "# declare uorb manager\n",
      "uorb_manager = uorb.Manager()\n",
      "\n",
      "# declare periodic processes\n",
      "uorb_manager = uorb.Manager()\n",
      "estimator = Estimator(0.01, uorb_manager)\n",
      "logger = Logger(0.1, tf, uorb_manager)\n",
      "\n",
      "# declare scheduler\n",
      "scheduler = PeriodicScheduler(False, 0, tf, 1.0/1000)\n",
      "\n",
      "# set process list\n",
      "scheduler.process_list = [\n",
      "    estimator, logger]  \n",
      "\n",
      "# run the scheduler\n",
      "scheduler.run()"
     ],
     "language": "python",
     "metadata": {},
     "outputs": [
      {
       "output_type": "stream",
       "stream": "stdout",
       "text": [
        "CPU times: user 89.1 ms, sys: 423 \u00b5s, total: 89.5 ms\n",
        "Wall time: 87.9 ms\n"
       ]
      }
     ],
     "prompt_number": 2
    },
    {
     "cell_type": "markdown",
     "metadata": {},
     "source": [
      "Now we are going to convert the log dictionary to a nested namedtuple. The purpose of this is just to make life easy when plotting since autocomplete works for namedtuples in IPython."
     ]
    },
    {
     "cell_type": "code",
     "collapsed": false,
     "input": [
      "log = nested_dict_to_namedtuple(logger.log)\n",
      "plt.plot(log.vehicle_global_position.timestamp/1e6,\n",
      "         log.vehicle_global_position.alt)"
     ],
     "language": "python",
     "metadata": {},
     "outputs": [
      {
       "metadata": {},
       "output_type": "pyout",
       "prompt_number": 3,
       "text": [
        "[<matplotlib.lines.Line2D at 0x2dd9550>]"
       ]
      },
      {
       "metadata": {},
       "output_type": "display_data",
       "png": "[encoded data removed]",
       "text": [
        "<matplotlib.figure.Figure at 0x2d8e790>"
       ]
      }
     ],
     "prompt_number": 3
    }
   ],
   "metadata": {}
  }
 ]
}