{
 "metadata": {
  "name": "",
  "signature": "sha256:a2645a0ebde82acf3a7ddbd71f30e419b15c2a839d766485f7d77180624c1bfb"
 },
 "nbformat": 3,
 "nbformat_minor": 0,
 "worksheets": [
  {
   "cells": [
    {
     "cell_type": "code",
     "collapsed": false,
     "input": [
      "from periodic_sim import *\n",
      "import uorb\n",
      "import matplotlib.pyplot as plt\n",
      "%matplotlib inline"
     ],
     "language": "python",
     "metadata": {},
     "outputs": [],
     "prompt_number": 1
    },
    {
     "cell_type": "code",
     "collapsed": false,
     "input": [
      "class Estimator2(PeriodicProcess):\n",
      "    \n",
      "    def __init__(self, period, uorb_manager):\n",
      "        super(Estimator2, self).__init__(period)\n",
      "        self.uorb_manager = uorb_manager\n",
      "        \n",
      "    def initialize(self, t):\n",
      "        super(Estimator2, self).initialize(t)\n",
      "        data = uorb.Topic_vehicle_global_position(\n",
      "            timestamp=t, time_gps_usec=0, lat=0, lon=0, alt=0,\n",
      "            vel_n=0, vel_e=0, vel_d=0, yaw=0, eph=0, epv=0)\n",
      "        self.pos = uorb.Publication(self.uorb_manager,\n",
      "            'vehicle_global_position', data)\n",
      "        self.pos.publish()\n",
      "        \n",
      "    def run(self, t):\n",
      "        self.pos.data.timestamp = t\n",
      "        self.pos.publish()"
     ],
     "language": "python",
     "metadata": {},
     "outputs": [],
     "prompt_number": 2
    },
    {
     "cell_type": "code",
     "collapsed": false,
     "input": [
      "class Logger2(PeriodicProcess):\n",
      "    \n",
      "    def __init__(self, period, uorb_manager):\n",
      "        super(Logger2, self).__init__(period)\n",
      "        self.uorb_manager = uorb_manager\n",
      "        self.topics = ['vehicle_global_position']\n",
      "        self.subs = {}\n",
      "        self.log = {}\n",
      "        \n",
      "    def initialize(self, t):\n",
      "        super(Logger2, self).initialize(t)\n",
      "        for topic in self.topics:\n",
      "            self.subs[topic] = uorb.Subscription(uorb_manager, topic)\n",
      "            d = self.subs[topic].data.__dict__\n",
      "            for key in d:\n",
      "            self.log[topic] = {\n",
      "                'fields': self.subs[topic].data._fields,\n",
      "                'data': []}\n",
      "        \n",
      "    def run(self, t):\n",
      "        for topic in self.subs.keys():\n",
      "            self.subs[topic].update()\n",
      "            for field in self.subs[topic].data._fields:\n",
      "                self.log[topic][field]['data'].append(\n",
      "                np.array(self.subs[topic].data._values))\n",
      "            \n",
      "    def finalize(self):\n",
      "        for topic in self.subs.keys():\n",
      "            self.log[topic]['data'] = np.array(self.log[topic]['data'])"
     ],
     "language": "python",
     "metadata": {},
     "outputs": [
      {
       "ename": "IndentationError",
       "evalue": "expected an indented block (<ipython-input-3-818b2b7a9c91>, line 16)",
       "output_type": "pyerr",
       "traceback": [
        "\u001b[1;36m  File \u001b[1;32m\"<ipython-input-3-818b2b7a9c91>\"\u001b[1;36m, line \u001b[1;32m16\u001b[0m\n\u001b[1;33m    self.log[topic] = {\u001b[0m\n\u001b[1;37m       ^\u001b[0m\n\u001b[1;31mIndentationError\u001b[0m\u001b[1;31m:\u001b[0m expected an indented block\n"
       ]
      }
     ],
     "prompt_number": 3
    },
    {
     "cell_type": "code",
     "collapsed": false,
     "input": [
      "uorb_manager = uorb.Manager()\n",
      "\n",
      "est2 = Estimator2(0.01, uorb_manager)\n",
      "logger2 = Logger2(1.0/10, uorb_manager)\n",
      "\n",
      "print uorb.Topic_wind_estimate(1, 1, 1, 1, 1)\n",
      "\n",
      "data = {}\n",
      "tf = 40\n",
      "\n",
      "controller = StateFeedbackController(1.0/50, np.array([1]), data, 'xh', 'u')\n",
      "dynamics = ContinuousDynamics(1.0/1000, 1,lambda t, x, u: -x, data)\n",
      "sensor = Sensor(1.0/20, data, 'x', 'y')\n",
      "estimator = DiscreteKalmanFilter(1.0/100, 0, data)\n",
      "logger = Logger(1.0/10, tf, data)\n",
      "\n",
      "scheduler = PeriodicScheduler(False, 0, tf, 1.0/1000)\n",
      "scheduler.process_list = [\n",
      "    dynamics,\n",
      "    sensor,\n",
      "    controller,\n",
      "    est2,\n",
      "    estimator,\n",
      "    logger,\n",
      "    logger2]\n",
      "time_start = time.time()\n",
      "scheduler.run()\n",
      "time_stop = time.time()\n",
      "print time_stop - time_start"
     ],
     "language": "python",
     "metadata": {},
     "outputs": [
      {
       "ename": "NameError",
       "evalue": "name 'Logger2' is not defined",
       "output_type": "pyerr",
       "traceback": [
        "\u001b[1;31m---------------------------------------------------------------------------\u001b[0m\n\u001b[1;31mNameError\u001b[0m                                 Traceback (most recent call last)",
        "\u001b[1;32m<ipython-input-4-0d73a4fcc133>\u001b[0m in \u001b[0;36m<module>\u001b[1;34m()\u001b[0m\n\u001b[0;32m      2\u001b[0m \u001b[1;33m\u001b[0m\u001b[0m\n\u001b[0;32m      3\u001b[0m \u001b[0mest2\u001b[0m \u001b[1;33m=\u001b[0m \u001b[0mEstimator2\u001b[0m\u001b[1;33m(\u001b[0m\u001b[1;36m0.01\u001b[0m\u001b[1;33m,\u001b[0m \u001b[0muorb_manager\u001b[0m\u001b[1;33m)\u001b[0m\u001b[1;33m\u001b[0m\u001b[0m\n\u001b[1;32m----> 4\u001b[1;33m \u001b[0mlogger2\u001b[0m \u001b[1;33m=\u001b[0m \u001b[0mLogger2\u001b[0m\u001b[1;33m(\u001b[0m\u001b[1;36m1.0\u001b[0m\u001b[1;33m/\u001b[0m\u001b[1;36m10\u001b[0m\u001b[1;33m,\u001b[0m \u001b[0muorb_manager\u001b[0m\u001b[1;33m)\u001b[0m\u001b[1;33m\u001b[0m\u001b[0m\n\u001b[0m\u001b[0;32m      5\u001b[0m \u001b[1;33m\u001b[0m\u001b[0m\n\u001b[0;32m      6\u001b[0m \u001b[1;32mprint\u001b[0m \u001b[0muorb\u001b[0m\u001b[1;33m.\u001b[0m\u001b[0mTopic_wind_estimate\u001b[0m\u001b[1;33m(\u001b[0m\u001b[1;36m1\u001b[0m\u001b[1;33m,\u001b[0m \u001b[1;36m1\u001b[0m\u001b[1;33m,\u001b[0m \u001b[1;36m1\u001b[0m\u001b[1;33m,\u001b[0m \u001b[1;36m1\u001b[0m\u001b[1;33m,\u001b[0m \u001b[1;36m1\u001b[0m\u001b[1;33m)\u001b[0m\u001b[1;33m\u001b[0m\u001b[0m\n",
        "\u001b[1;31mNameError\u001b[0m: name 'Logger2' is not defined"
       ]
      }
     ],
     "prompt_number": 4
    },
    {
     "cell_type": "code",
     "collapsed": false,
     "input": [
      "log = logger.get_log_as_namedtuple()\n",
      "print log._asdict().keys()\n",
      "plt.plot(log.t, log.x)"
     ],
     "language": "python",
     "metadata": {},
     "outputs": [
      {
       "output_type": "stream",
       "stream": "stdout",
       "text": [
        "['xh', 'x_time_stamp', 'u', 't', 'y', 'x', 'y_time_stamp', 'xh_time_stamp', 'u_time_stamp']\n"
       ]
      },
      {
       "metadata": {},
       "output_type": "pyout",
       "prompt_number": 24,
       "text": [
        "[<matplotlib.lines.Line2D at 0x3643690>]"
       ]
      },
      {
       "metadata": {},
       "output_type": "display_data",
       "png": "[encoded data removed]",
       "text": [
        "<matplotlib.figure.Figure at 0x33ae150>"
       ]
      }
     ],
     "prompt_number": 24
    },
    {
     "cell_type": "code",
     "collapsed": false,
     "input": [
      "logger2.log['vehicle_global_position']"
     ],
     "language": "python",
     "metadata": {},
     "outputs": [
      {
       "metadata": {},
       "output_type": "pyout",
       "prompt_number": 25,
       "text": [
        "{'data': array([[  0.1  ,   0.   ,   0.   , ...,   0.   ,   0.   ,   0.   ],\n",
        "        [  0.2  ,   0.   ,   0.   , ...,   0.   ,   0.   ,   0.   ],\n",
        "        [  0.3  ,   0.   ,   0.   , ...,   0.   ,   0.   ,   0.   ],\n",
        "        ..., \n",
        "        [ 39.776,   0.   ,   0.   , ...,   0.   ,   0.   ,   0.   ],\n",
        "        [ 39.886,   0.   ,   0.   , ...,   0.   ,   0.   ,   0.   ],\n",
        "        [ 39.985,   0.   ,   0.   , ...,   0.   ,   0.   ,   0.   ]]),\n",
        " 'fields': ('timestamp',\n",
        "  'time_gps_usec',\n",
        "  'lat',\n",
        "  'lon',\n",
        "  'alt',\n",
        "  'vel_n',\n",
        "  'vel_e',\n",
        "  'vel_d',\n",
        "  'yaw',\n",
        "  'eph',\n",
        "  'epv')}"
       ]
      }
     ],
     "prompt_number": 25
    },
    {
     "cell_type": "code",
     "collapsed": false,
     "input": [
      "t = uorb.Topic_wind_estimate(1, 0, 0, 0, 0)\n",
      "print t"
     ],
     "language": "python",
     "metadata": {},
     "outputs": [
      {
       "output_type": "stream",
       "stream": "stdout",
       "text": [
        "('timestamp', 'windspeed_north', 'windspeed_east', 'covariance_north', 'covariance_east') (1, 0, 0, 0, 0)\n"
       ]
      }
     ],
     "prompt_number": 19
    },
    {
     "cell_type": "code",
     "collapsed": false,
     "input": [
      "t._values"
     ],
     "language": "python",
     "metadata": {},
     "outputs": [
      {
       "metadata": {},
       "output_type": "pyout",
       "prompt_number": 26,
       "text": [
        "(1, 0, 0, 0, 0)"
       ]
      }
     ],
     "prompt_number": 26
    },
    {
     "cell_type": "code",
     "collapsed": false,
     "input": [
      "t._fields"
     ],
     "language": "python",
     "metadata": {},
     "outputs": [
      {
       "metadata": {},
       "output_type": "pyout",
       "prompt_number": 27,
       "text": [
        "('timestamp',\n",
        " 'windspeed_north',\n",
        " 'windspeed_east',\n",
        " 'covariance_north',\n",
        " 'covariance_east')"
       ]
      }
     ],
     "prompt_number": 27
    },
    {
     "cell_type": "code",
     "collapsed": false,
     "input": [],
     "language": "python",
     "metadata": {},
     "outputs": []
    }
   ],
   "metadata": {}
  }
 ]
}