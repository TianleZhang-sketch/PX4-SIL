{
 "metadata": {
  "name": "",
  "signature": "sha256:6143f878549a2d6a8b5e819bcec95525314ec3036ecc128f786c269925d4854d"
 },
 "nbformat": 3,
 "nbformat_minor": 0,
 "worksheets": [
  {
   "cells": [
    {
     "cell_type": "code",
     "collapsed": false,
     "input": [
      "import os\n",
      "import scipy.integrate\n",
      "import matplotlib.pyplot as plt\n",
      "import numpy as np\n",
      "from numpy import f2py\n",
      "import copy\n",
      "%matplotlib inline\n",
      "\n",
      "# local modules\n",
      "from periodic import PeriodicProcess, PeriodicScheduler, \\\n",
      "    nested_dict_to_namedtuple, Logger\n",
      "import uorb\n",
      "from sympy_utils import rhs_to_scipy_ode, \\\n",
      "    save_sympy_expr, load_sympy_expr"
     ],
     "language": "python",
     "metadata": {},
     "outputs": [],
     "prompt_number": 1
    },
    {
     "cell_type": "code",
     "collapsed": false,
     "input": [
      "if f2py.compile(source=open('pendulum.f90','r').read(), modulename='pendulum',\n",
      "             source_fn='pendulum.f90'):\n",
      "    raise RuntimeError('compile failed, see console')\n",
      "import pendulum"
     ],
     "language": "python",
     "metadata": {},
     "outputs": [],
     "prompt_number": 2
    },
    {
     "cell_type": "code",
     "collapsed": false,
     "input": [
      "class PendulumDynamics(PeriodicProcess):\n",
      "\n",
      "    def __init__(self, period, x0, uorb_manager):\n",
      "        super(PendulumDynamics, self).__init__(period)\n",
      "        self.x0 = x0\n",
      "        self.ode = scipy.integrate.ode(\n",
      "            pendulum.compute_f, pendulum.compute_a)\n",
      "        #self.ode.set_integrator('dopri5')\n",
      "        self.uorb_manager = uorb_manager\n",
      "        self.process_noise_power = 1e-5\n",
      "\n",
      "    def initialize(self, t):\n",
      "        super(PendulumDynamics, self).initialize(t)\n",
      "        self.ode.set_initial_value(self.x0, t)\n",
      "        \n",
      "        # publish sim state\n",
      "        self.sim = uorb.Publication(\n",
      "            self.uorb_manager, 'sim_state',\n",
      "            uorb.Topic_sim_state(*((0,)*16)))\n",
      "        self.sim.publish()\n",
      "        \n",
      "        # subscribe to actuators\n",
      "        self.actuators = uorb.Subscription(\n",
      "            self.uorb_manager, 'actuator_outputs')\n",
      "        \n",
      "    def run(self, t):\n",
      "        # update actuator info\n",
      "        self.actuators.update()\n",
      "        \n",
      "        process_noise_stdev = np.sqrt(self.process_noise_power/self.period)\n",
      "        process_noise = process_noise_stdev*np.random.randn()\n",
      "        \n",
      "        ode = self.ode\n",
      "        if t == ode.t:\n",
      "            return\n",
      "        u = [self.actuators.data.output[0] + process_noise]\n",
      "        m = 1\n",
      "        g = 9.8\n",
      "        l = 1\n",
      "        ode.set_f_params(u, m, g, l)\n",
      "        ode.set_jac_params(u, m, g, l)\n",
      "        ode.integrate(t)\n",
      "        if not ode.successful():\n",
      "            raise ValueError('ode integration failed')\n",
      "            \n",
      "        # acceleration\n",
      "        # TODO, should make sympy output this\n",
      "        x = ode.y\n",
      "        y_accel = pendulum.compute_g(t, x, u, m, g, l)\n",
      "\n",
      "        # publish simulation data\n",
      "        self.sim.data.timestamp=int(1e6*t)\n",
      "        self.sim.data.pitch=ode.y[0]\n",
      "        self.sim.data.pitchspeed=ode.y[1]\n",
      "        self.sim.data.xacc=y_accel[0,0]\n",
      "        self.sim.data.yacc=y_accel[1,0]\n",
      "        self.sim.data.zacc=y_accel[2,0]\n",
      "        self.sim.publish()\n",
      "\n",
      "    @property\n",
      "    def x(self):\n",
      "        return self.ode.y"
     ],
     "language": "python",
     "metadata": {
      "code_folding": []
     },
     "outputs": [],
     "prompt_number": 3
    },
    {
     "cell_type": "code",
     "collapsed": false,
     "input": [
      "class Sensor(PeriodicProcess):\n",
      "    \n",
      "    def __init__(self, period, uorb_manager):\n",
      "        super(Sensor, self).__init__(period)\n",
      "        self.uorb_manager = uorb_manager\n",
      "\n",
      "        self.gyro_noise_power = 1e-5**np.ones(3)\n",
      "        self.gyro_bias = np.zeros(3)\n",
      "        self.accel_noise_power = 1e-4*np.ones(3)\n",
      "        self.mag_noise_power = 1e-4*np.ones(3)\n",
      "        \n",
      "    def initialize(self, t):\n",
      "        super(Sensor, self).initialize(t)     \n",
      "        \n",
      "        #initialize topic\n",
      "        timestamp = int(t*1e6)\n",
      "        self.sensor = uorb.Publication(\n",
      "            self.uorb_manager, 'sensor_combined',\n",
      "            uorb.Topic_sensor_combined(*((0,)*42)))\n",
      "        \n",
      "        self.sensor.data.gyro1_rad_s = timestamp\n",
      "        self.sensor.data.gyro_rad_s = np.array([0,0,0])\n",
      "        self.sensor.data.accelerometer_timestamp = timestamp\n",
      "        self.sensor.data.accelerometer_m_s2 = np.array([0,0,0])\n",
      "        self.sensor.magnetometer_timestamp = timestamp\n",
      "        self.sensor.magnetometer_ga = np.array([0,0,0])\n",
      "        self.sensor.publish()\n",
      "        \n",
      "        # get sim data\n",
      "        self.sim = uorb.Subscription(\n",
      "            self.uorb_manager, 'sim_state')\n",
      "\n",
      "    def run(self, t):\n",
      "        # get new simulation data\n",
      "        self.sim.update()\n",
      "        \n",
      "        # noise generator\n",
      "        randn = np.random.randn\n",
      "\n",
      "        timestamp = int(t*1e6)\n",
      "        self.sensor.data.timestamp = timestamp\n",
      "        \n",
      "        # gyro\n",
      "        gyro_ideal = np.array([self.sim.data.rollspeed,\n",
      "                     self.sim.data.pitchspeed,\n",
      "                     self.sim.data.yawspeed])\n",
      "        gyro_stddev = np.sqrt(self.gyro_noise_power/self.period)\n",
      "        gyro_noise = gyro_stddev*randn(3)\n",
      "        gyro = gyro_ideal + gyro_noise\n",
      "        \n",
      "        # accelerometer\n",
      "        accel_ideal = np.array([self.sim.data.xacc,self.sim.data.yacc,self.sim.data.zacc])\n",
      "        accel_stddev = np.sqrt(self.accel_noise_power/self.period)\n",
      "        accel_noise = accel_stddev*randn(3)\n",
      "        accel = accel_ideal + accel_noise\n",
      "\n",
      "        # magnetometer\n",
      "        mag_ideal = np.array([0,0,0])\n",
      "        mag_stddev = np.sqrt(self.mag_noise_power/self.period)\n",
      "        mag_noise = mag_stddev*randn(3)\n",
      "        mag = mag_ideal + mag_noise\n",
      "        \n",
      "        # publish\n",
      "        self.sensor.data.gyro1_timestamp = timestamp\n",
      "        self.sensor.data.gyro_rad_s = gyro\n",
      "        self.sensor.data.accelerometer_timestamp = timestamp\n",
      "        self.sensor.data.accelerometer_m_s2 = accel\n",
      "        self.sensor.magnetometer_timestamp = timestamp\n",
      "        self.sensor.magnetometer_ga = mag\n",
      "        self.sensor.publish()"
     ],
     "language": "python",
     "metadata": {
      "code_folding": []
     },
     "outputs": [],
     "prompt_number": 4
    },
    {
     "cell_type": "code",
     "collapsed": false,
     "input": [
      "class Estimator(PeriodicProcess):\n",
      "\n",
      "    def __init__(self, period, uorb_manager):\n",
      "        super(Estimator, self).__init__(period)\n",
      "        self.uorb_manager = uorb_manager\n",
      "        self.xh = np.array([0,0])\n",
      "        self.P0 = np.eye(2)\n",
      "\n",
      "    def initialize(self, t):\n",
      "        super(Estimator, self).initialize(t)\n",
      "        # initialize position publication\n",
      "        self.pos = uorb.Publication(\n",
      "            self.uorb_manager,\n",
      "            'vehicle_global_position',\n",
      "            uorb.Topic_vehicle_global_position(*((0,)*11)))\n",
      "        \n",
      "        # initialize attitude publication\n",
      "        self.att = uorb.Publication(\n",
      "            self.uorb_manager,\n",
      "            'vehicle_attitude',\n",
      "            uorb.Topic_vehicle_attitude(*((0,)*16)))\n",
      "        \n",
      "        # intialize sensor subscription\n",
      "        self.sensor = uorb.Subscription(\n",
      "            self.uorb_manager,\n",
      "            'sensor_combined')\n",
      "\n",
      "        # TODO, this is a hack, we make the estimator\n",
      "        # just give the sim state for now\n",
      "        self.sim = uorb.Subscription(\n",
      "            self.uorb_manager,\n",
      "            'sim_state')\n",
      "        \n",
      "        # initialize timestamps for checking for sensor updates\n",
      "        self.accel_timestamp_last = -1\n",
      "        self.l = 1\n",
      "        self.g = 9.8\n",
      "        \n",
      "    def run(self, t):\n",
      "        # get new sensor data\n",
      "        # TODO use this to estimate\n",
      "        self.sensor.update()\n",
      "        \n",
      "        if self.sensor.data.accelerometer_timestamp != self.accel_timestamp_last:\n",
      "            self.accel_timestamp_last = self.sensor.data.accelerometer_timestamp\n",
      "            y = self.sensor.data.accelerometer_m_s2\n",
      "            \n",
      "            theta = self.xh[0]\n",
      "            theta_dot = self.xh[1]\n",
      "            theta_ddot = 1 # TODO\n",
      "            yh = np.array([self.l*theta_ddot + self.g*np.sin(theta), 0, self.g*np.cos(theta)])\n",
      "            yh = []\n",
      "            \n",
      "        # publish new estimated position\n",
      "        # TODO don't cheat using sim state\n",
      "        self.pos.data.timestamp = int(1e6*t)\n",
      "        self.pos.data.lat = self.sim.data.lat\n",
      "        self.pos.data.lon = self.sim.data.lon\n",
      "        self.pos.data.alt = self.sim.data.alt\n",
      "        self.pos.data.vel_n = self.sim.data.vx\n",
      "        self.pos.data.vel_e = self.sim.data.vy\n",
      "        self.pos.data.vel_d = self.sim.data.vz\n",
      "        self.pos.data.yaw = self.sim.data.yaw\n",
      "        self.pos.publish()\n",
      "        \n",
      "        # publish new estimated attitude\n",
      "        self.att.data.timestamp = int(1e6*t)\n",
      "        self.att.data.roll = self.sim.data.roll\n",
      "        self.att.data.pitch = float(self.sim.data.pitch)\n",
      "        self.att.data.yaw = self.sim.data.yaw\n",
      "        self.att.data.rollspeed = self.sensor.data.gyro_rad_s[0]\n",
      "        self.att.data.pitchspeed = self.sensor.data.gyro_rad_s[1]\n",
      "        self.att.data.yawspeed = self.sensor.data.gyro_rad_s[2]\n",
      "        self.att.publish()"
     ],
     "language": "python",
     "metadata": {
      "code_folding": []
     },
     "outputs": [],
     "prompt_number": 5
    },
    {
     "cell_type": "code",
     "collapsed": false,
     "input": [
      "class Controller(PeriodicProcess):\n",
      "\n",
      "    def __init__(self, period, uorb_manager):\n",
      "        super(Controller, self).__init__(period)\n",
      "        self.uorb_manager = uorb_manager\n",
      "        self.actuators = uorb.Publication(\n",
      "            self.uorb_manager, 'actuator_outputs',\n",
      "            uorb.Topic_actuator_outputs(0,\n",
      "                output=np.array([0,0,0,0,0,0,0,0]).astype(float),\n",
      "                noutputs=1))\n",
      "        self.actuators.publish()\n",
      "        \n",
      "    def initialize(self, t):\n",
      "        super(Controller, self).initialize(t)\n",
      "        \n",
      "        # publish actuator topic\n",
      "        self.actuators.data = uorb.Topic_actuator_outputs(int(t*1e6),\n",
      "                output=np.array([0,0,0,0,0,0,0,0]).astype(float))\n",
      "        self.actuators.publish()\n",
      "        \n",
      "        # subscribe to vehicle global position topic\n",
      "        self.pos = uorb.Subscription(\n",
      "            self.uorb_manager, 'vehicle_global_position')\n",
      "        \n",
      "        self.att = uorb.Subscription(\n",
      "            self.uorb_manager, 'vehicle_attitude')\n",
      "        \n",
      "    def run(self, t):\n",
      "        # get new position/attitude estimation\n",
      "        self.pos.update()\n",
      "        self.att.update()\n",
      "        \n",
      "        u = -20*self.att.data.pitch - 6*self.att.data.pitchspeed\n",
      "        \n",
      "        # publish new actuator controls\n",
      "        self.actuators.data.timestamp = int(t*1e6)\n",
      "        self.actuators.data.output = [u,0,0,0,0,0,0,0]\n",
      "        self.actuators.publish()"
     ],
     "language": "python",
     "metadata": {},
     "outputs": [],
     "prompt_number": 6
    },
    {
     "cell_type": "markdown",
     "metadata": {},
     "source": [
      "First we declare the uORB manager and all processes that will be running. Next, we create the scheduler and pass the list or processes to it. Finally, we run the scheudler."
     ]
    },
    {
     "cell_type": "code",
     "collapsed": false,
     "input": [
      "def run_sim():\n",
      "    # constants\n",
      "    tf = 4\n",
      "\n",
      "    # declare uorb manager, by using pointer copying we can avoid\n",
      "    # copying actual data and make it run much faster, however \n",
      "    # we have to becareful doing this with multi-threading\n",
      "    uorb_manager = uorb.Manager(copy_type='pointer')\n",
      "\n",
      "    # declare periodic processes\n",
      "    controller = Controller(0.02, uorb_manager)\n",
      "    estimator = Estimator(0.002, uorb_manager)\n",
      "    dynamics = PendulumDynamics(0.001, [1,0], uorb_manager)\n",
      "    sensor = Sensor(0.001, uorb_manager)\n",
      "    logger = Logger(0.001, tf, \n",
      "        ['sim_state',\n",
      "         'vehicle_global_position',\n",
      "         'vehicle_attitude',\n",
      "         'sensor_combined',\n",
      "         'actuator_outputs'],\n",
      "        uorb_manager)\n",
      "\n",
      "    # declare scheduler\n",
      "    scheduler = PeriodicScheduler(False, 0, tf, 0.001)\n",
      "    scheduler.process_list = [\n",
      "        dynamics, sensor, estimator, controller, logger]  \n",
      "\n",
      "    # run the scheduler\n",
      "    scheduler.run()\n",
      "    return nested_dict_to_namedtuple(logger.log)"
     ],
     "language": "python",
     "metadata": {},
     "outputs": [],
     "prompt_number": 7
    },
    {
     "cell_type": "markdown",
     "metadata": {},
     "source": [
      "We can profile the simulation to see what is taking the most time."
     ]
    },
    {
     "cell_type": "code",
     "collapsed": false,
     "input": [
      "stats = %prun -q -r log = run_sim()\n",
      "stats.sort_stats('tottime').print_stats(20);"
     ],
     "language": "python",
     "metadata": {},
     "outputs": [
      {
       "output_type": "stream",
       "stream": "stdout",
       "text": [
        "          302502 function calls in 0.608 seconds\n",
        "\n",
        "   Ordered by: internal time\n",
        "   List reduced from 134 to 20 due to restriction <20>\n",
        "\n",
        "   ncalls  tottime  percall  cumtime  percall filename:lineno(function)\n",
        "     3999    0.123    0.000    0.125    0.000 _ode.py:730(run)\n",
        "     3999    0.090    0.000    0.162    0.000 <ipython-input-4-5d4f043927be>:33(run)\n",
        "     3999    0.086    0.000    0.129    0.000 __init__.py:111(run)\n",
        "     3999    0.051    0.000    0.209    0.000 <ipython-input-3-ea772f26b4d7>:26(run)\n",
        "    13926    0.047    0.000    0.047    0.000 {numpy.core.multiarray.array}\n",
        "    15996    0.031    0.000    0.031    0.000 {method 'randn' of 'mtrand.RandomState' objects}\n",
        "     1833    0.027    0.000    0.044    0.000 <ipython-input-5-6fb25091c0a5>:39(run)\n",
        "    11865    0.021    0.000    0.027    0.000 _base.py:57(publish)\n",
        "    30205    0.018    0.000    0.056    0.000 _base.py:100(update)\n",
        "    20000    0.018    0.000    0.565    0.000 __init__.py:35(update)\n",
        "    30205    0.013    0.000    0.022    0.000 _base.py:97(updated)\n",
        "    18272    0.012    0.000    0.016    0.000 _base.py:83(copy)\n",
        "        1    0.010    0.010    0.603    0.603 __init__.py:59(run)\n",
        "    30205    0.010    0.000    0.010    0.000 _base.py:79(updated)\n",
        "    35872    0.009    0.000    0.009    0.000 {method 'keys' of 'dict' objects}\n",
        "    11865    0.007    0.000    0.034    0.000 _base.py:116(publish)\n",
        "    30137    0.007    0.000    0.007    0.000 _base.py:42(_copy_type)\n",
        "     3999    0.006    0.000    0.132    0.000 _ode.py:376(integrate)\n",
        "        1    0.004    0.004    0.025    0.025 __init__.py:123(finalize)\n",
        "        7    0.003    0.000    0.005    0.001 collections.py:288(namedtuple)\n",
        "\n",
        "\n"
       ]
      }
     ],
     "prompt_number": 8
    },
    {
     "cell_type": "markdown",
     "metadata": {},
     "source": [
      "If we aren't profiling it is much faster."
     ]
    },
    {
     "cell_type": "code",
     "collapsed": false,
     "input": [
      "%%time\n",
      "log = run_sim();"
     ],
     "language": "python",
     "metadata": {},
     "outputs": [
      {
       "output_type": "stream",
       "stream": "stdout",
       "text": [
        "CPU times: user 513 ms, sys: 3.6 ms, total: 517 ms\n",
        "Wall time: 515 ms\n"
       ]
      }
     ],
     "prompt_number": 9
    },
    {
     "cell_type": "markdown",
     "metadata": {},
     "source": [
      "It is easy to plot any of the various uorb topics."
     ]
    },
    {
     "cell_type": "code",
     "collapsed": false,
     "input": [
      "plt.plot(log.log.t, log.sim_state.pitch);"
     ],
     "language": "python",
     "metadata": {},
     "outputs": [
      {
       "metadata": {},
       "output_type": "display_data",
       "png": "[encoded data removed]",
       "text": [
        "<matplotlib.figure.Figure at 0x500a610>"
       ]
      }
     ],
     "prompt_number": 10
    },
    {
     "cell_type": "code",
     "collapsed": false,
     "input": [
      "plt.plot(log.log.t, log.actuator_outputs.output[:,0], 'r');"
     ],
     "language": "python",
     "metadata": {},
     "outputs": [
      {
       "metadata": {},
       "output_type": "display_data",
       "png": "[encoded data removed]",
       "text": [
        "<matplotlib.figure.Figure at 0x5806050>"
       ]
      }
     ],
     "prompt_number": 11
    },
    {
     "cell_type": "code",
     "collapsed": false,
     "input": [
      "plt.plot(log.log.t, log.vehicle_attitude.pitch);"
     ],
     "language": "python",
     "metadata": {},
     "outputs": [
      {
       "metadata": {},
       "output_type": "display_data",
       "png": "[encoded data removed]",
       "text": [
        "<matplotlib.figure.Figure at 0x53d8c90>"
       ]
      }
     ],
     "prompt_number": 12
    },
    {
     "cell_type": "code",
     "collapsed": false,
     "input": [
      "plt.plot(log.log.t, log.sensor_combined.gyro_rad_s);"
     ],
     "language": "python",
     "metadata": {},
     "outputs": [
      {
       "metadata": {},
       "output_type": "display_data",
       "png": "[encoded data removed]",
       "text": [
        "<matplotlib.figure.Figure at 0x582a150>"
       ]
      }
     ],
     "prompt_number": 13
    },
    {
     "cell_type": "code",
     "collapsed": false,
     "input": [
      "plt.plot(log.log.t, log.sensor_combined.accelerometer_m_s2);"
     ],
     "language": "python",
     "metadata": {},
     "outputs": [
      {
       "metadata": {},
       "output_type": "display_data",
       "png": "[encoded data removed]",
       "text": [
        "<matplotlib.figure.Figure at 0x5338250>"
       ]
      }
     ],
     "prompt_number": 14
    }
   ],
   "metadata": {}
  }
 ]
}