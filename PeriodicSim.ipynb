{
 "metadata": {
  "name": "",
  "signature": "sha256:327bdb47ad6f2f201564ee61cd947b27ffc6d5f8d432946c3c217ad6cfc161e2"
 },
 "nbformat": 3,
 "nbformat_minor": 0,
 "worksheets": [
  {
   "cells": [
    {
     "cell_type": "code",
     "collapsed": false,
     "input": [
      "import matplotlib.pyplot as plt\n",
      "import numpy as np\n",
      "%matplotlib inline\n",
      "\n",
      "from periodic import PeriodicProcess, PeriodicScheduler, \\\n",
      "    nested_dict_to_namedtuple\n",
      "import uorb\n",
      "from sympy_utils import rhs_to_scipy_ode, \\\n",
      "    save_sympy_expr, load_sympy_expr\n",
      "import os\n",
      "import scipy.integrate"
     ],
     "language": "python",
     "metadata": {},
     "outputs": [],
     "prompt_number": 1
    },
    {
     "cell_type": "code",
     "collapsed": false,
     "input": [
      "class PendulumDynamics(PeriodicProcess):\n",
      "\n",
      "    def __init__(self, period, x0, f_xdot, f_jacobian, uorb_manager):\n",
      "        super(PendulumDynamics, self).__init__(period)\n",
      "        self.x0 = x0\n",
      "        self.f_xdot = f_xdot\n",
      "        self.f_jacobian = f_jacobian\n",
      "        self.ode = scipy.integrate.ode(\n",
      "            self.f_xdot, self.f_jacobian)\n",
      "        #self.ode.set_integrator('dopri5')\n",
      "        self.uorb_manager = uorb_manager\n",
      "\n",
      "    def initialize(self, t):\n",
      "        super(PendulumDynamics, self).initialize(t)\n",
      "        self.ode.set_initial_value(self.x0, t)\n",
      "        \n",
      "        # publish sim state\n",
      "        self.sim = uorb.Publication(\n",
      "            self.uorb_manager, 'sim_state',\n",
      "            uorb.Topic_sim_state(*((0,)*16)))\n",
      "        self.sim.publish()\n",
      "        \n",
      "        # subscribe to actuators\n",
      "        self.actuators = uorb.Subscription(\n",
      "            self.uorb_manager, 'actuator_outputs')\n",
      "        \n",
      "    def run(self, t):\n",
      "        # update actuator info\n",
      "        self.actuators.update()\n",
      "        \n",
      "        ode = self.ode\n",
      "        if t == ode.t:\n",
      "            return\n",
      "        u = [self.actuators.data.output[0]]\n",
      "        m = 1\n",
      "        g = 9.8\n",
      "        l = 1\n",
      "        ode.set_f_params(u, m, g, l)\n",
      "        ode.set_jac_params(u, m, g, l)\n",
      "        ode.integrate(t)\n",
      "        if not ode.successful():\n",
      "            raise ValueError('ode integration failed')\n",
      "\n",
      "        # publish simulation data\n",
      "        self.sim.data.timestamp=int(1e6*t)\n",
      "        self.sim.data.pitch=ode.y[0]\n",
      "        self.sim.data.pitchspeed=ode.y[1]\n",
      "        self.sim.publish()\n",
      "\n",
      "    @property\n",
      "    def x(self):\n",
      "        return self.ode.y"
     ],
     "language": "python",
     "metadata": {
      "code_folding": []
     },
     "outputs": [],
     "prompt_number": 2
    },
    {
     "cell_type": "code",
     "collapsed": false,
     "input": [
      "class Sensor(PeriodicProcess):\n",
      "\n",
      "    def __init__(self, period, uorb_manager):\n",
      "        super(Sensor, self).__init__(period)\n",
      "        self.uorb_manager = uorb_manager\n",
      "\n",
      "    def initialize(self, t):\n",
      "        super(Sensor, self).initialize(t)     \n",
      "        #initialize topic\n",
      "        self.sensor = uorb.Publication(\n",
      "            self.uorb_manager, 'sensor_combined',\n",
      "            uorb.Topic_sensor_combined(*((0,)*42)))\n",
      "        \n",
      "        # get sim data\n",
      "        self.sim = uorb.Subscription(\n",
      "            self.uorb_manager, 'sim_state')\n",
      "\n",
      "    def run(self, t):\n",
      "        # get new simulation data\n",
      "        self.sim.update()\n",
      "        \n",
      "        # publish new sensor data\n",
      "        # TODO, publish accel/mag data\n",
      "        self.sensor.data.timestamp = int(t*1e6)\n",
      "        self.sensor.data.gyro_rad_s = \\\n",
      "            [self.sim.data.rollspeed,\n",
      "             self.sim.data.pitchspeed,\n",
      "             self.sim.data.yawspeed]\n",
      "        self.sensor.publish()"
     ],
     "language": "python",
     "metadata": {
      "code_folding": []
     },
     "outputs": [],
     "prompt_number": 3
    },
    {
     "cell_type": "code",
     "collapsed": false,
     "input": [
      "class Estimator(PeriodicProcess):\n",
      "\n",
      "    def __init__(self, period, uorb_manager):\n",
      "        super(Estimator, self).__init__(period)\n",
      "        self.uorb_manager = uorb_manager\n",
      "\n",
      "    def initialize(self, t):\n",
      "        super(Estimator, self).initialize(t)\n",
      "        # initialize position publication\n",
      "        self.pos = uorb.Publication(\n",
      "            self.uorb_manager,\n",
      "            'vehicle_global_position',\n",
      "            uorb.Topic_vehicle_global_position(*((0,)*11)))\n",
      "        \n",
      "        # initialize attitude publication\n",
      "        self.att = uorb.Publication(\n",
      "            self.uorb_manager,\n",
      "            'vehicle_attitude',\n",
      "            uorb.Topic_vehicle_attitude(*((0,)*16)))\n",
      "        \n",
      "        # intialize sensor subscription\n",
      "        self.sensor = uorb.Subscription(\n",
      "            self.uorb_manager,\n",
      "            'sensor_combined')\n",
      "\n",
      "        # TODO, this is a hack, we make the estimator\n",
      "        # just give the sim state for now\n",
      "        self.sim = uorb.Subscription(\n",
      "            self.uorb_manager,\n",
      "            'sim_state')\n",
      "        \n",
      "    def run(self, t):\n",
      "        # get new sensor data\n",
      "        # TODO use this to estimate\n",
      "        self.sensor.update()\n",
      "        \n",
      "        # publish new estimated position\n",
      "        # TODO don't cheat using sim state\n",
      "        self.pos.data.timestamp = int(1e6*t)\n",
      "        self.pos.data.lat = self.sim.data.lat\n",
      "        self.pos.data.lon = self.sim.data.lon\n",
      "        self.pos.data.alt = self.sim.data.alt\n",
      "        self.pos.data.vel_n = self.sim.data.vx\n",
      "        self.pos.data.vel_e = self.sim.data.vy\n",
      "        self.pos.data.vel_d = self.sim.data.vz\n",
      "        self.pos.data.yaw = self.sim.data.yaw\n",
      "        self.pos.publish()\n",
      "        \n",
      "        # publish new estimated attitude\n",
      "        self.att.data.timestamp = int(1e6*t)\n",
      "        self.att.data.roll = self.sim.data.roll\n",
      "        self.att.data.pitch = self.sim.data.pitch\n",
      "        self.att.data.yaw = self.sim.data.yaw\n",
      "        self.att.data.rollspeed = self.sim.data.rollspeed\n",
      "        self.att.data.pitchspeed = self.sim.data.pitchspeed\n",
      "        self.att.data.yawspeed = self.sim.data.yawspeed\n",
      "        self.att.publish()"
     ],
     "language": "python",
     "metadata": {
      "code_folding": []
     },
     "outputs": [],
     "prompt_number": 4
    },
    {
     "cell_type": "code",
     "collapsed": false,
     "input": [
      "class Controller(PeriodicProcess):\n",
      "\n",
      "    def __init__(self, period, uorb_manager):\n",
      "        super(Controller, self).__init__(period)\n",
      "        self.uorb_manager = uorb_manager\n",
      "        self.actuators = uorb.Publication(\n",
      "            self.uorb_manager, 'actuator_outputs',\n",
      "            uorb.Topic_actuator_outputs(0,\n",
      "                output=np.array([0,0,0,0,0,0,0,0]).astype(float),\n",
      "                noutputs=1))\n",
      "        self.actuators.publish()\n",
      "        \n",
      "    def initialize(self, t):\n",
      "        super(Controller, self).initialize(t)\n",
      "        \n",
      "        self.actuators.data = uorb.Topic_actuator_outputs(\n",
      "                t*1e6,\n",
      "                output=np.array([0,0,0,0,0,0,0,0]).astype(float))\n",
      "        self.actuators.publish()\n",
      "        \n",
      "        self.pos = uorb.Subscription(\n",
      "            self.uorb_manager, 'vehicle_global_position')\n",
      "        \n",
      "        self.att = uorb.Subscription(\n",
      "            self.uorb_manager, 'vehicle_attitude')\n",
      "        \n",
      "    def run(self, t):\n",
      "        # get new position/attitude estimation\n",
      "        self.pos.update()\n",
      "        self.att.update()\n",
      "        \n",
      "        u = -20*self.att.data.pitch - 6*self.att.data.pitchspeed\n",
      "        \n",
      "        # publish new actuator controls\n",
      "        self.actuators.data.timestamp = int(t*1e6)\n",
      "        self.actuators.data.output = [u,0,0,0,0,0,0,0]\n",
      "        self.actuators.publish()"
     ],
     "language": "python",
     "metadata": {},
     "outputs": [],
     "prompt_number": 5
    },
    {
     "cell_type": "code",
     "collapsed": false,
     "input": [
      "class Logger(PeriodicProcess):\n",
      "\n",
      "    def __init__(self, period, tf, uorb_manager):\n",
      "        super(Logger, self).__init__(period)\n",
      "        self.uorb_manager = uorb_manager\n",
      "        self.topics = ['sim_state',\n",
      "                       'vehicle_global_position',\n",
      "                       'vehicle_attitude',\n",
      "                       'sensor_combined',\n",
      "                       'actuator_outputs']\n",
      "        self.subs = {}\n",
      "        self.log = {}\n",
      "        self.tf = tf\n",
      "        self.n_t = int(self.tf/self.period) - 1\n",
      "\n",
      "    def initialize(self, t):\n",
      "        super(Logger, self).initialize(t)\n",
      "        for topic in self.topics:\n",
      "            self.subs[topic] = uorb.Subscription(self.uorb_manager, topic)\n",
      "            d = self.subs[topic].data.__dict__\n",
      "            self.log[topic] = {}\n",
      "            for key in d:\n",
      "                self.log[topic][key] = [None]*self.n_t\n",
      "                self.log[topic][key][0] = d[key]\n",
      "        self.count = 0\n",
      "\n",
      "    def run(self, t):\n",
      "        if self.count >= self.n_t - 1:\n",
      "            return\n",
      "        else:\n",
      "            self.count = self.count + 1\n",
      "        for topic in self.subs.keys():\n",
      "            self.subs[topic].update()\n",
      "            d = self.subs[topic].data.__dict__\n",
      "            for field in d.keys():\n",
      "                self.log[topic][field][self.count] = d[field]\n",
      "\n",
      "    def finalize(self):\n",
      "        for topic in self.subs.keys():\n",
      "            d = self.subs[topic].data.__dict__\n",
      "            for field in d.keys():\n",
      "                # truncate unused data\n",
      "                self.log[topic][field] = self.log[topic][field][:self.count]\n",
      "                # try to convert to data type flow, won't work for structs\n",
      "                try:\n",
      "                    self.log[topic][field] = np.array(\n",
      "                        self.log[topic][field]).astype(float)\n",
      "                except:\n",
      "                    pass"
     ],
     "language": "python",
     "metadata": {
      "code_folding": []
     },
     "outputs": [],
     "prompt_number": 6
    },
    {
     "cell_type": "markdown",
     "metadata": {},
     "source": [
      "First we declare the uORB manager and all processes that will be running. Next, we create the scheduler and pass the list or processes to it. Finally, we run the scheudler."
     ]
    },
    {
     "cell_type": "code",
     "collapsed": false,
     "input": [
      "def run_sim():\n",
      "    # constants\n",
      "    tf = 10\n",
      "\n",
      "    # declare uorb manager, by using pointer copying we can avoid\n",
      "    # copying actual data and make it run much faster, however \n",
      "    # we have to becareful doing this with multi-threading\n",
      "    uorb_manager = uorb.Manager(copy_type='pointer')\n",
      "\n",
      "    # dynamics function from sympy\n",
      "    save_file =os.path.join('save', 'pendulum.sympy')\n",
      "    d = load_sympy_expr(save_file)\n",
      "    f_pend, jac_pend = rhs_to_scipy_ode(\n",
      "        d['rhs'], d['t'], d['x_vect'],\n",
      "        d['u_vect'], None, d['m'], d['g'], d['l'])\n",
      "\n",
      "    # declare periodic processes\n",
      "    controller = Controller(0.02, uorb_manager)\n",
      "    estimator = Estimator(0.005, uorb_manager)\n",
      "    dynamics = PendulumDynamics(0.001, [1,0], f_pend, jac_pend,\n",
      "                                uorb_manager)\n",
      "    sensor = Sensor(0.001, uorb_manager)\n",
      "    logger = Logger(0.1, tf, uorb_manager)\n",
      "\n",
      "    # declare scheduler\n",
      "    scheduler = PeriodicScheduler(False, 0, tf, 1.0/1000)\n",
      "    scheduler.process_list = [\n",
      "        dynamics, sensor, estimator, controller, logger]  \n",
      "\n",
      "    # run the scheduler\n",
      "    scheduler.run()\n",
      "    return nested_dict_to_namedtuple(logger.log)"
     ],
     "language": "python",
     "metadata": {},
     "outputs": [],
     "prompt_number": 7
    },
    {
     "cell_type": "markdown",
     "metadata": {},
     "source": [
      "We can profile the simulation to see what is taking the most time."
     ]
    },
    {
     "cell_type": "code",
     "collapsed": false,
     "input": [
      "stats = %prun -q -r log = run_sim()\n",
      "stats.sort_stats('tottime').print_stats(20);"
     ],
     "language": "python",
     "metadata": {},
     "outputs": [
      {
       "output_type": "stream",
       "stream": "stdout",
       "text": [
        "          425661 function calls (423621 primitive calls) in 0.897 seconds\n",
        "\n",
        "   Ordered by: internal time\n",
        "   List reduced from 585 to 20 due to restriction <20>\n",
        "\n",
        "   ncalls  tottime  percall  cumtime  percall filename:lineno(function)\n",
        "     9999    0.099    0.000    0.495    0.000 <ipython-input-2-f7aa95fa7206>:27(run)\n",
        "     9999    0.086    0.000    0.219    0.000 _ode.py:730(run)\n",
        "    24160    0.074    0.000    0.110    0.000 _base.py:57(publish)\n",
        "    50000    0.063    0.000    0.797    0.000 __init__.py:35(update)\n",
        "    23297    0.047    0.000    0.137    0.000 _base.py:100(update)\n",
        "        1    0.045    0.045    0.844    0.844 __init__.py:59(run)\n",
        "    24160    0.043    0.000    0.154    0.000 _base.py:116(publish)\n",
        "    23297    0.036    0.000    0.056    0.000 _base.py:97(updated)\n",
        "     9999    0.034    0.000    0.168    0.000 <ipython-input-3-2d7c7ef31fa8>:18(run)\n",
        "     4826    0.033    0.000    0.089    0.000 defmatrix.py:244(__new__)\n",
        "    37958    0.028    0.000    0.028    0.000 _base.py:42(_copy_type)\n",
        "     9999    0.027    0.000    0.246    0.000 _ode.py:376(integrate)\n",
        "    13798    0.024    0.000    0.034    0.000 _base.py:83(copy)\n",
        "    23297    0.020    0.000    0.020    0.000 _base.py:79(updated)\n",
        "    24877    0.019    0.000    0.019    0.000 {method 'keys' of 'dict' objects}\n",
        "22771/22770    0.018    0.000    0.018    0.000 {isinstance}\n",
        "    19998    0.018    0.000    0.018    0.000 _ode.py:335(y)\n",
        "     5009    0.017    0.000    0.032    0.000 {built-in method __new__ of type object at 0x84a640}\n",
        "     4918    0.015    0.000    0.015    0.000 {numpy.core.multiarray.array}\n",
        "     1833    0.013    0.000    0.049    0.000 <ipython-input-4-ed30f8794606>:32(run)\n",
        "\n",
        "\n"
       ]
      }
     ],
     "prompt_number": 8
    },
    {
     "cell_type": "markdown",
     "metadata": {},
     "source": [
      "If we aren't profiling it is much faster."
     ]
    },
    {
     "cell_type": "code",
     "collapsed": false,
     "input": [
      "%%time\n",
      "log = run_sim();"
     ],
     "language": "python",
     "metadata": {},
     "outputs": [
      {
       "output_type": "stream",
       "stream": "stdout",
       "text": [
        "CPU times: user 278 ms, sys: 0 ns, total: 278 ms\n",
        "Wall time: 275 ms\n"
       ]
      }
     ],
     "prompt_number": 9
    },
    {
     "cell_type": "markdown",
     "metadata": {},
     "source": [
      "It is easy to plot any of the various uorb topics."
     ]
    },
    {
     "cell_type": "code",
     "collapsed": false,
     "input": [
      "plt.plot(log.vehicle_attitude.timestamp/1e6,\n",
      "         log.vehicle_attitude.pitch);"
     ],
     "language": "python",
     "metadata": {},
     "outputs": [
      {
       "metadata": {},
       "output_type": "display_data",
       "png": "[encoded data removed]",
       "text": [
        "<matplotlib.figure.Figure at 0x40e4610>"
       ]
      }
     ],
     "prompt_number": 10
    },
    {
     "cell_type": "code",
     "collapsed": false,
     "input": [
      "plt.plot(log.actuator_outputs.timestamp/1e6,\n",
      "         log.actuator_outputs.output[:,0]);"
     ],
     "language": "python",
     "metadata": {},
     "outputs": [
      {
       "metadata": {},
       "output_type": "display_data",
       "png": "[encoded data removed]",
       "text": [
        "<matplotlib.figure.Figure at 0x4304c90>"
       ]
      }
     ],
     "prompt_number": 11
    },
    {
     "cell_type": "code",
     "collapsed": false,
     "input": [
      "plt.plot(log.sim_state.timestamp/1e6, log.sim_state.pitchspeed)"
     ],
     "language": "python",
     "metadata": {},
     "outputs": [
      {
       "metadata": {},
       "output_type": "pyout",
       "prompt_number": 12,
       "text": [
        "[<matplotlib.lines.Line2D at 0x431dcd0>]"
       ]
      },
      {
       "metadata": {},
       "output_type": "display_data",
       "png": "[encoded data removed]",
       "text": [
        "<matplotlib.figure.Figure at 0x43144d0>"
       ]
      }
     ],
     "prompt_number": 12
    }
   ],
   "metadata": {}
  }
 ]
}