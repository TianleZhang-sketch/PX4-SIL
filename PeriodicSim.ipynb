{
 "metadata": {
  "name": "",
  "signature": "sha256:8df7fa139bbb93a5e8ff440771c8a84987105fd5d0cf378e3f521695e8884851"
 },
 "nbformat": 3,
 "nbformat_minor": 0,
 "worksheets": [
  {
   "cells": [
    {
     "cell_type": "code",
     "collapsed": false,
     "input": [
      "import matplotlib.pyplot as plt\n",
      "import numpy as np\n",
      "%matplotlib inline\n",
      "\n",
      "from periodic import PeriodicProcess, PeriodicScheduler, \\\n",
      "    nested_dict_to_namedtuple\n",
      "import uorb\n",
      "from sympy_utils import SympyDict, state_space_lambdify\n",
      "import os\n",
      "import scipy.integrate"
     ],
     "language": "python",
     "metadata": {},
     "outputs": [],
     "prompt_number": 1
    },
    {
     "cell_type": "code",
     "collapsed": false,
     "input": [
      "class PendulumDynamics(PeriodicProcess):\n",
      "\n",
      "    def __init__(self, period, x0, f_xdot, uorb_manager):\n",
      "        super(PendulumDynamics, self).__init__(period)\n",
      "        self.x0 = x0\n",
      "        self.f_xdot = f_xdot\n",
      "        self.ode = scipy.integrate.ode(self.f_xdot)\n",
      "        self.uorb_manager = uorb_manager\n",
      "\n",
      "    def initialize(self, t):\n",
      "        super(PendulumDynamics, self).initialize(t)\n",
      "        self.ode.set_initial_value(self.x0, t)\n",
      "        self.sim = uorb.Publication(\n",
      "            self.uorb_manager, 'sim_state',\n",
      "            uorb.Topic_sim_state(*((0,)*16)))\n",
      "        self.sim.publish()\n",
      "\n",
      "    def run(self, t):\n",
      "        ode = self.ode\n",
      "        if t == ode.t:\n",
      "            return\n",
      "        u = [0] # TODO\n",
      "        m = 1\n",
      "        g = 9.8\n",
      "        l = 1\n",
      "        ode.set_f_params(u, m, g, l)\n",
      "        ode.integrate(t)\n",
      "        if not ode.successful():\n",
      "            raise ValueError('ode integration failed')\n",
      "\n",
      "        # publish\n",
      "        self.sim.data.timestamp=1e6*t\n",
      "        self.sim.data.pitchspeed=ode.y[0]\n",
      "        self.sim.publish()\n",
      "\n",
      "    @property\n",
      "    def x(self):\n",
      "        return self.ode.y"
     ],
     "language": "python",
     "metadata": {
      "code_folding": []
     },
     "outputs": [],
     "prompt_number": 2
    },
    {
     "cell_type": "code",
     "collapsed": false,
     "input": [
      "class Sensor(PeriodicProcess):\n",
      "\n",
      "    def __init__(self, period, uorb_manager):\n",
      "        super(Sensor, self).__init__(period)\n",
      "        self.uorb_manager = uorb_manager\n",
      "\n",
      "    def initialize(self, t):\n",
      "        super(Sensor, self).initialize(t)\n",
      "        self.sensor = uorb.Publication(\n",
      "            self.uorb_manager, 'sensor_combined',\n",
      "            uorb.Topic_sensor_combined(*((0,)*42)))\n",
      "        self.sensor.publish()\n",
      "        \n",
      "        self.sim = uorb.Subscription(\n",
      "            self.uorb_manager, 'sim_state')\n",
      "        \n",
      "        self.run(t)\n",
      "\n",
      "    def run(self, t):\n",
      "        self.sim.update()\n",
      "        \n",
      "        self.sensor.data.timestamp = t*1e6\n",
      "        self.sensor.data.gyro_rad_s = [0,self.sim.data.pitchspeed,0]\n",
      "        self.sensor.publish()"
     ],
     "language": "python",
     "metadata": {
      "code_folding": []
     },
     "outputs": [],
     "prompt_number": 3
    },
    {
     "cell_type": "code",
     "collapsed": false,
     "input": [
      "class Estimator(PeriodicProcess):\n",
      "\n",
      "    def __init__(self, period, uorb_manager):\n",
      "        super(Estimator, self).__init__(period)\n",
      "        self.uorb_manager = uorb_manager\n",
      "\n",
      "    def initialize(self, t):\n",
      "        super(Estimator, self).initialize(t)\n",
      "        self.pos = uorb.Publication(\n",
      "            self.uorb_manager,\n",
      "            'vehicle_global_position',\n",
      "            uorb.Topic_vehicle_global_position(*((0,)*11)))\n",
      "        self.sensor = uorb.Subscription(\n",
      "            self.uorb_manager,\n",
      "            'sensor_combined')\n",
      "        self.run(t)\n",
      "\n",
      "    def run(self, t):\n",
      "        self.sensor.update()\n",
      "        self.pos.data.timestamp = 1e6*t\n",
      "        self.pos.data.alt = self.sensor.data.gyro_rad_s[1]\n",
      "        self.pos.publish()"
     ],
     "language": "python",
     "metadata": {
      "code_folding": []
     },
     "outputs": [],
     "prompt_number": 4
    },
    {
     "cell_type": "code",
     "collapsed": false,
     "input": [
      "class Controller(PeriodicProcess):\n",
      "\n",
      "    def __init__(self, period, uorb_manager):\n",
      "        super(Controller, self).__init__(period)\n",
      "        self.uorb_manager = uorb_manager\n",
      "\n",
      "    def initialize(self, t):\n",
      "        super(Controller, self).initialize(t)\n",
      "        self.actuators = uorb.Publication(\n",
      "            self.uorb_manager, 'actuator_outputs',\n",
      "            uorb.Topic_actuator_outputs(t*1e6, output=np.array([0,0,0,0,0,0,0,0]).astype(float), noutputs=1))\n",
      "        self.actuators.publish()\n",
      "        \n",
      "        self.pos = uorb.Subscription(\n",
      "            self.uorb_manager, 'vehicle_global_position')\n",
      "        \n",
      "        self.run(t)\n",
      "\n",
      "    def run(self, t):\n",
      "        self.pos.update()\n",
      "        self.actuators.data.timestamp = t*1e6\n",
      "        self.actuators.data.output = [self.pos.data.alt,0,0,0,0,0,0,0]\n",
      "        self.actuators.publish()"
     ],
     "language": "python",
     "metadata": {},
     "outputs": [],
     "prompt_number": 5
    },
    {
     "cell_type": "code",
     "collapsed": false,
     "input": [
      "class Logger(PeriodicProcess):\n",
      "\n",
      "    def __init__(self, period, tf, uorb_manager):\n",
      "        super(Logger, self).__init__(period)\n",
      "        self.uorb_manager = uorb_manager\n",
      "        self.topics = ['sim_state', 'vehicle_global_position', 'sensor_combined', 'actuator_outputs']\n",
      "        self.subs = {}\n",
      "        self.log = {}\n",
      "        self.tf = tf\n",
      "        self.n_t = int(self.tf/self.period) - 1\n",
      "\n",
      "    def initialize(self, t):\n",
      "        super(Logger, self).initialize(t)\n",
      "        for topic in self.topics:\n",
      "            self.subs[topic] = uorb.Subscription(self.uorb_manager, topic)\n",
      "            d = self.subs[topic].data.__dict__\n",
      "            self.log[topic] = {}\n",
      "            for key in d:\n",
      "                self.log[topic][key] = [None]*self.n_t\n",
      "                self.log[topic][key][0] = d[key]\n",
      "        self.count = 0\n",
      "\n",
      "    def run(self, t):\n",
      "        if self.count >= self.n_t - 1:\n",
      "            return\n",
      "        else:\n",
      "            self.count = self.count + 1\n",
      "        for topic in self.subs.keys():\n",
      "            self.subs[topic].update()\n",
      "            d = self.subs[topic].data.__dict__\n",
      "            for field in d.keys():\n",
      "                self.log[topic][field][self.count] = d[field]\n",
      "\n",
      "    def finalize(self):\n",
      "        for topic in self.subs.keys():\n",
      "            d = self.subs[topic].data.__dict__\n",
      "            for field in d.keys():\n",
      "                # truncate unused data\n",
      "                self.log[topic][field] = self.log[topic][field][:self.count]\n",
      "                # try to convert to data type flow, won't work for structs\n",
      "                try:\n",
      "                    self.log[topic][field] = np.array(\n",
      "                        self.log[topic][field]).astype(float)\n",
      "                except:\n",
      "                    pass"
     ],
     "language": "python",
     "metadata": {
      "code_folding": []
     },
     "outputs": [],
     "prompt_number": 6
    },
    {
     "cell_type": "markdown",
     "metadata": {},
     "source": [
      "First we declare the uORB manager and all processes that will be running. Next, we create the scheduler and pass the list or processes to it. Finally, we run the scheudler."
     ]
    },
    {
     "cell_type": "code",
     "collapsed": false,
     "input": [
      "def run_sim():\n",
      "    # constants\n",
      "    tf = 40\n",
      "\n",
      "    # declare uorb manager\n",
      "    uorb_manager = uorb.Manager()\n",
      "\n",
      "    # dynamics function from sympy\n",
      "    d = SympyDict.load(\n",
      "        os.path.join('save', 'pendulum.sympy'))\n",
      "    f_pend_dyn = state_space_lambdify(d['rhs'], d['t'], d['x_vect'],\n",
      "                                      d['u_vect'], d['m'], d['g'], d['l'])\n",
      "\n",
      "    # declare periodic processes\n",
      "    controller = Controller(0.01, uorb_manager)\n",
      "    estimator = Estimator(0.01, uorb_manager)\n",
      "    dynamics = PendulumDynamics(0.001, [1,0], f_pend_dyn, uorb_manager)\n",
      "    sensor = Sensor(0.1, uorb_manager)\n",
      "    logger = Logger(0.1, tf, uorb_manager)\n",
      "\n",
      "    # declare scheduler\n",
      "    scheduler = PeriodicScheduler(False, 0, tf, 1.0/1000)\n",
      "    scheduler.process_list = [\n",
      "        dynamics, sensor, estimator, controller, logger]  \n",
      "\n",
      "    # run the scheduler\n",
      "    scheduler.run()\n",
      "    return nested_dict_to_namedtuple(logger.log)"
     ],
     "language": "python",
     "metadata": {},
     "outputs": [],
     "prompt_number": 7
    },
    {
     "cell_type": "code",
     "collapsed": false,
     "input": [
      "%%time\n",
      "log = run_sim()"
     ],
     "language": "python",
     "metadata": {},
     "outputs": [
      {
       "output_type": "stream",
       "stream": "stdout",
       "text": [
        "CPU times: user 1.23 s, sys: 1.51 ms, total: 1.23 s\n",
        "Wall time: 1.23 s\n"
       ]
      }
     ],
     "prompt_number": 8
    },
    {
     "cell_type": "code",
     "collapsed": false,
     "input": [
      "plt.plot(log.vehicle_global_position.timestamp/1e6,\n",
      "         log.vehicle_global_position.alt)"
     ],
     "language": "python",
     "metadata": {},
     "outputs": [
      {
       "metadata": {},
       "output_type": "pyout",
       "prompt_number": 9,
       "text": [
        "[<matplotlib.lines.Line2D at 0x588d110>]"
       ]
      },
      {
       "metadata": {},
       "output_type": "display_data",
       "png": "[encoded data removed]",
       "text": [
        "<matplotlib.figure.Figure at 0x5785150>"
       ]
      }
     ],
     "prompt_number": 9
    },
    {
     "cell_type": "code",
     "collapsed": false,
     "input": [
      "plt.plot(log.actuator_outputs.timestamp/1e6,\n",
      "         log.actuator_outputs.output[:,0]);"
     ],
     "language": "python",
     "metadata": {},
     "outputs": [
      {
       "metadata": {},
       "output_type": "display_data",
       "png": "[encoded data removed]",
       "text": [
        "<matplotlib.figure.Figure at 0x58a31d0>"
       ]
      }
     ],
     "prompt_number": 10
    }
   ],
   "metadata": {}
  }
 ]
}