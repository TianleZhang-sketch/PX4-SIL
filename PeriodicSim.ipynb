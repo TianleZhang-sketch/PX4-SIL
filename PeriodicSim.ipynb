{
 "metadata": {
  "name": "",
  "signature": "sha256:5b00231f7ff5f23943ab458e0c67e5ced9106055ce136e5da0a1aa43ac805614"
 },
 "nbformat": 3,
 "nbformat_minor": 0,
 "worksheets": [
  {
   "cells": [
    {
     "cell_type": "code",
     "collapsed": false,
     "input": [
      "import matplotlib.pyplot as plt\n",
      "import numpy as np\n",
      "%matplotlib inline\n",
      "\n",
      "from periodic import PeriodicProcess, PeriodicScheduler, \\\n",
      "    Estimator, Logger, nested_dict_to_namedtuple, ContinuousDynamics\n",
      "import uorb\n",
      "from sympy_utils import SympyDict, state_space_lambdify\n",
      "import os\n",
      "import scipy.integrate"
     ],
     "language": "python",
     "metadata": {},
     "outputs": [],
     "prompt_number": 8
    },
    {
     "cell_type": "code",
     "collapsed": false,
     "input": [
      "class Sensor(PeriodicProcess):\n",
      "\n",
      "    def __init__(self, period, uorb_manager):\n",
      "        super(Sensor, self).__init__(period)\n",
      "        self.uorb_manager = uorb_manager\n",
      "\n",
      "    def initialize(self, t):\n",
      "        super(Sensor, self).initialize(t)\n",
      "        self.\n",
      "        self.data[self.y_topic] = 0\n",
      "        self.data['y_time_stamp'] = t\n",
      "\n",
      "    def run(self, t):\n",
      "        # print 'run sensor'\n",
      "        self.time_stamp = t\n",
      "        x = self.data['x']\n",
      "        y = x\n",
      "\n",
      "        # publish\n",
      "        self.data['y'] = y\n",
      "        self.data['y_time_stamp'] = t"
     ],
     "language": "python",
     "metadata": {},
     "outputs": [],
     "prompt_number": 9
    },
    {
     "cell_type": "code",
     "collapsed": false,
     "input": [
      "class Estimator(PeriodicProcess):\n",
      "\n",
      "    def __init__(self, period, uorb_manager):\n",
      "        super(Estimator, self).__init__(period)\n",
      "        self.uorb_manager = uorb_manager\n",
      "\n",
      "    def initialize(self, t):\n",
      "        super(Estimator, self).initialize(t)\n",
      "        data = uorb.Topic_vehicle_global_position(\n",
      "            timestamp=1e6*t, time_gps_usec=0, lat=0, lon=0, alt=0,\n",
      "            vel_n=0, vel_e=0, vel_d=0, yaw=0, eph=0, epv=0)\n",
      "        self.pos = uorb.Publication(\n",
      "            self.uorb_manager,\n",
      "            'vehicle_global_position', data)\n",
      "\n",
      "    def run(self, t):\n",
      "        self.pos.data.timestamp = 1e6*t\n",
      "        self.pos.data.alt = np.sin(t)\n",
      "        self.pos.publish()\n"
     ],
     "language": "python",
     "metadata": {},
     "outputs": [],
     "prompt_number": 3
    },
    {
     "cell_type": "code",
     "collapsed": false,
     "input": [
      "class Logger(PeriodicProcess):\n",
      "\n",
      "    def __init__(self, period, tf, uorb_manager):\n",
      "        super(Logger, self).__init__(period)\n",
      "        self.uorb_manager = uorb_manager\n",
      "        self.topics = ['vehicle_global_position']\n",
      "        self.subs = {}\n",
      "        self.log = {}\n",
      "        self.tf = tf\n",
      "        self.n_t = int(self.tf/self.period) - 1\n",
      "\n",
      "    def initialize(self, t):\n",
      "        super(Logger, self).initialize(t)\n",
      "        for topic in self.topics:\n",
      "            self.subs[topic] = uorb.Subscription(self.uorb_manager, topic)\n",
      "            d = self.subs[topic].data.__dict__\n",
      "            self.log[topic] = {}\n",
      "            for key in d:\n",
      "                self.log[topic][key] = np.array([None]*self.n_t)\n",
      "                self.log[topic][key][0] = d[key]\n",
      "        self.count = 0\n",
      "\n",
      "    def run(self, t):\n",
      "        if self.count >= self.n_t - 1:\n",
      "            return\n",
      "        else:\n",
      "            self.count = self.count + 1\n",
      "        for topic in self.subs.keys():\n",
      "            self.subs[topic].update()\n",
      "            d = self.subs[topic].data.__dict__\n",
      "            for field in d.keys():\n",
      "                self.log[topic][field][self.count] = d[field]\n",
      "\n",
      "    def finalize(self):\n",
      "        for topic in self.subs.keys():\n",
      "            d = self.subs[topic].data.__dict__\n",
      "            for field in d.keys():\n",
      "                # truncate unused data\n",
      "                self.log[topic][field] = self.log[topic][field][:self.count]\n",
      "                # try to convert to data type flow, won't work for structs\n",
      "                try:\n",
      "                    self.log[topic][field] = (\n",
      "                        self.log[topic][field]).astype(float)\n",
      "                except:\n",
      "                    pass"
     ],
     "language": "python",
     "metadata": {},
     "outputs": [],
     "prompt_number": 4
    },
    {
     "cell_type": "code",
     "collapsed": false,
     "input": [
      "class PendulumDynamics(PeriodicProcess):\n",
      "\n",
      "    def __init__(self, period, x0, f_xdot, uorb_manager):\n",
      "        super(PendulumDynamics, self).__init__(period)\n",
      "        self.x0 = x0\n",
      "        self.f_xdot = f_xdot\n",
      "        self.ode = scipy.integrate.ode(self.f_xdot)\n",
      "        self.uorb_manage = uorb_manager\n",
      "\n",
      "    def initialize(self, t):\n",
      "        super(PendulumDynamics, self).initialize(t)\n",
      "        self.ode.set_initial_value(self.x0, t)\n",
      "        self.sim = uorb.Publication(\n",
      "            self.uorb_manager,\n",
      "            uorb.Topic_sim_state(\n",
      "                timestamp=1e6*t, roll=0, pitch=0, yaw=0,\n",
      "                rollspeed=0, pitchspeed=0, yawspeed=0,\n",
      "                lat=0, lon=0, alt=0,\n",
      "                vx=0, vy=0, vz=0,\n",
      "                xacc=0, yacc=0, zacc=0))\n",
      "\n",
      "    def run(self, t):\n",
      "        # print 'run dynamics'\n",
      "        ode = self.ode\n",
      "        if t == ode.t:\n",
      "            return\n",
      "        ode.set_f_params(self.data['u'])\n",
      "        ode.integrate(t)\n",
      "        if not ode.successful():\n",
      "            raise ValueError('ode integration failed')\n",
      "\n",
      "        # publish\n",
      "        self.sim.timestamp=1e6*t\n",
      "        self.sim.lat=ode.y[0]\n",
      "\n",
      "    @property\n",
      "    def x(self):\n",
      "        return self.ode.y"
     ],
     "language": "python",
     "metadata": {},
     "outputs": [],
     "prompt_number": 5
    },
    {
     "cell_type": "code",
     "collapsed": false,
     "input": [
      "d = SympyDict.load(os.path.join('save', 'pendulum.sympy'))\n",
      "print d"
     ],
     "language": "python",
     "metadata": {},
     "outputs": [
      {
       "output_type": "stream",
       "stream": "stdout",
       "text": [
        "{'A': \"MutableDenseMatrix([[Integer(0), Integer(1)], [Mul(Symbol('g'), Pow(Symbol('l'), Integer(-1)), cos(Function('theta')(Symbol('t')))), Integer(0)]])\",\n",
        " 'tau': \"Function('tau')\",\n",
        " 'B': \"MutableDenseMatrix([[Integer(0)], [Mul(Pow(Symbol('l'), Integer(-2)), Pow(Symbol('m'), Integer(-1)))]])\",\n",
        " 'g': \"Symbol('g')\",\n",
        " 'rhs': \"MutableDenseMatrix([[Derivative(Function('theta')(Symbol('t')), Symbol('t'))], [Mul(Pow(Symbol('l'), Integer(-2)), Pow(Symbol('m'), Integer(-1)), Add(Mul(Symbol('g'), Symbol('l'), Symbol('m'), sin(Function('theta')(Symbol('t')))), Function('tau')(Symbol('t'))))]])\",\n",
        " 'm': \"Symbol('m')\",\n",
        " 'l': \"Symbol('l')\",\n",
        " 'u_vect': \"MutableDenseMatrix([[Function('tau')(Symbol('t'))]])\",\n",
        " 't': \"Symbol('t')\",\n",
        " 'x_vect': \"MutableDenseMatrix([[Function('theta')(Symbol('t'))], [Derivative(Function('theta')(Symbol('t')), Symbol('t'))]])\",\n",
        " 'theta': \"Function('theta')\"}\n"
       ]
      }
     ],
     "prompt_number": 6
    },
    {
     "cell_type": "markdown",
     "metadata": {},
     "source": [
      "First we declare the uORB manager and all processes that will be running. Next, we create the scheduler and pass the list or processes to it. Finally, we run the scheudler."
     ]
    },
    {
     "cell_type": "code",
     "collapsed": false,
     "input": [
      "%%time\n",
      "# constants\n",
      "tf = 40\n",
      "\n",
      "# declare uorb manager\n",
      "uorb_manager = uorb.Manager()\n",
      "\n",
      "# declare periodic processes\n",
      "uorb_manager = uorb.Manager()\n",
      "estimator = Estimator(0.01, uorb_manager)\n",
      "logger = Logger(0.1, tf, uorb_manager)\n",
      "dynamics = PendulumDynamics(0.001, [1,0], d['rhs'], uorb_manager)\n",
      "# declare scheduler\n",
      "scheduler = PeriodicScheduler(False, 0, tf, 1.0/1000)\n",
      "\n",
      "# set process list\n",
      "scheduler.process_list = [\n",
      "    estimator, logger]  \n",
      "\n",
      "# run the scheduler\n",
      "scheduler.run()"
     ],
     "language": "python",
     "metadata": {},
     "outputs": [
      {
       "output_type": "stream",
       "stream": "stdout",
       "text": [
        "CPU times: user 133 ms, sys: 15.1 ms, total: 148 ms\n",
        "Wall time: 122 ms\n"
       ]
      }
     ],
     "prompt_number": 7
    },
    {
     "cell_type": "markdown",
     "metadata": {},
     "source": [
      "Now we are going to convert the log dictionary to a nested namedtuple. The purpose of this is just to make life easy when plotting since autocomplete works for namedtuples in IPython."
     ]
    },
    {
     "cell_type": "code",
     "collapsed": false,
     "input": [
      "log = nested_dict_to_namedtuple(logger.log)\n",
      "plt.plot(log.vehicle_global_position.timestamp/1e6,\n",
      "         log.vehicle_global_position.alt)"
     ],
     "language": "python",
     "metadata": {},
     "outputs": [
      {
       "metadata": {},
       "output_type": "pyout",
       "prompt_number": 7,
       "text": [
        "[<matplotlib.lines.Line2D at 0x4492f10>]"
       ]
      },
      {
       "metadata": {},
       "output_type": "display_data",
       "png": "[encoded data removed]",
       "text": [
        "<matplotlib.figure.Figure at 0x4382590>"
       ]
      }
     ],
     "prompt_number": 7
    }
   ],
   "metadata": {}
  }
 ]
}