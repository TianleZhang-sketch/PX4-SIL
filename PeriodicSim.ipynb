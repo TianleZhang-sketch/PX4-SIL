{
 "metadata": {
  "name": "",
  "signature": "sha256:5022e5e935592566882eb92f2018384a5674f0dc077c2b63ae142f504cfb54c2"
 },
 "nbformat": 3,
 "nbformat_minor": 0,
 "worksheets": [
  {
   "cells": [
    {
     "cell_type": "code",
     "collapsed": false,
     "input": [
      "import matplotlib.pyplot as plt\n",
      "import numpy as np\n",
      "import time\n",
      "import copy\n",
      "import collections\n",
      "%matplotlib inline\n",
      "\n",
      "from periodic_sim import *\n",
      "import uorb"
     ],
     "language": "python",
     "metadata": {},
     "outputs": [],
     "prompt_number": 1
    },
    {
     "cell_type": "code",
     "collapsed": false,
     "input": [
      "%%time\n",
      "tf = 40\n",
      "uorb_manager = uorb.Manager()\n",
      "estimator = Estimator(0.01, uorb_manager)\n",
      "logger = Logger(1.0/100, tf, uorb_manager)\n",
      "\n",
      "scheduler = PeriodicScheduler(False, 0, tf, 1.0/1000)\n",
      "scheduler.process_list = [\n",
      "    estimator, logger]\n",
      "scheduler.run()"
     ],
     "language": "python",
     "metadata": {},
     "outputs": [
      {
       "output_type": "stream",
       "stream": "stdout",
       "text": [
        "CPU times: user 164 ms, sys: 27 ms, total: 191 ms\n",
        "Wall time: 168 ms\n"
       ]
      }
     ],
     "prompt_number": 2
    },
    {
     "cell_type": "code",
     "collapsed": false,
     "input": [
      "log = nested_dict_to_namedtuple(logger.log)\n",
      "plt.plot(log.vehicle_global_position.timestamp/1e6,\n",
      "         log.vehicle_global_position.alt)"
     ],
     "language": "python",
     "metadata": {},
     "outputs": [
      {
       "metadata": {},
       "output_type": "pyout",
       "prompt_number": 3,
       "text": [
        "[<matplotlib.lines.Line2D at 0x4334390>]"
       ]
      },
      {
       "metadata": {},
       "output_type": "display_data",
       "png": "[encoded data removed]",
       "text": [
        "<matplotlib.figure.Figure at 0x42482d0>"
       ]
      }
     ],
     "prompt_number": 3
    },
    {
     "cell_type": "code",
     "collapsed": false,
     "input": [
      "log.vehicle_global_position.lat"
     ],
     "language": "python",
     "metadata": {},
     "outputs": [
      {
       "metadata": {},
       "output_type": "pyout",
       "prompt_number": 4,
       "text": [
        "array([ 0.,  0.,  0., ...,  0.,  0.,  0.])"
       ]
      }
     ],
     "prompt_number": 4
    }
   ],
   "metadata": {}
  }
 ]
}