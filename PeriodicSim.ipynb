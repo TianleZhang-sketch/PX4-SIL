{
 "metadata": {
  "name": "",
  "signature": "sha256:dd400481ae434fdc4b3166ac4fd503372fca3e0519a8193fec2710e34b8fbc9b"
 },
 "nbformat": 3,
 "nbformat_minor": 0,
 "worksheets": [
  {
   "cells": [
    {
     "cell_type": "code",
     "collapsed": false,
     "input": [
      "import matplotlib.pyplot as plt\n",
      "import numpy as np\n",
      "%matplotlib inline\n",
      "\n",
      "from periodic import PeriodicProcess, PeriodicScheduler, \\\n",
      "    nested_dict_to_namedtuple\n",
      "import uorb\n",
      "from sympy_utils import rhs_to_scipy_ode, \\\n",
      "    save_sympy_expr, load_sympy_expr\n",
      "import os\n",
      "import scipy.integrate"
     ],
     "language": "python",
     "metadata": {},
     "outputs": [],
     "prompt_number": 1
    },
    {
     "cell_type": "code",
     "collapsed": false,
     "input": [
      "class PendulumDynamics(PeriodicProcess):\n",
      "\n",
      "    def __init__(self, period, x0, f_xdot, f_jacobian, uorb_manager):\n",
      "        super(PendulumDynamics, self).__init__(period)\n",
      "        self.x0 = x0\n",
      "        self.f_xdot = f_xdot\n",
      "        self.f_jacobian = f_jacobian\n",
      "        self.ode = scipy.integrate.ode(\n",
      "            self.f_xdot, self.f_jacobian)\n",
      "        #self.ode.set_integrator('dopri5')\n",
      "        self.uorb_manager = uorb_manager\n",
      "\n",
      "    def initialize(self, t):\n",
      "        super(PendulumDynamics, self).initialize(t)\n",
      "        self.ode.set_initial_value(self.x0, t)\n",
      "        self.sim = uorb.Publication(\n",
      "            self.uorb_manager, 'sim_state',\n",
      "            uorb.Topic_sim_state(*((0,)*16)))\n",
      "        self.sim.publish()\n",
      "\n",
      "    def run(self, t):\n",
      "        ode = self.ode\n",
      "        if t == ode.t:\n",
      "            return\n",
      "        u = [0] # TODO\n",
      "        m = 1\n",
      "        g = 9.8\n",
      "        l = 1\n",
      "        ode.set_f_params(u, m, g, l)\n",
      "        ode.set_jac_params(u, m, g, l)\n",
      "        ode.integrate(t)\n",
      "        if not ode.successful():\n",
      "            raise ValueError('ode integration failed')\n",
      "\n",
      "        # publish\n",
      "        self.sim.data.timestamp=1e6*t\n",
      "        self.sim.data.pitchspeed=ode.y[0]\n",
      "        self.sim.publish()\n",
      "\n",
      "    @property\n",
      "    def x(self):\n",
      "        return self.ode.y"
     ],
     "language": "python",
     "metadata": {
      "code_folding": []
     },
     "outputs": [],
     "prompt_number": 2
    },
    {
     "cell_type": "code",
     "collapsed": false,
     "input": [
      "class Sensor(PeriodicProcess):\n",
      "\n",
      "    def __init__(self, period, uorb_manager):\n",
      "        super(Sensor, self).__init__(period)\n",
      "        self.uorb_manager = uorb_manager\n",
      "\n",
      "    def initialize(self, t):\n",
      "        super(Sensor, self).initialize(t)\n",
      "        self.sensor = uorb.Publication(\n",
      "            self.uorb_manager, 'sensor_combined',\n",
      "            uorb.Topic_sensor_combined(*((0,)*42)))\n",
      "        self.sensor.publish()\n",
      "        \n",
      "        self.sim = uorb.Subscription(\n",
      "            self.uorb_manager, 'sim_state')\n",
      "        \n",
      "        self.run(t)\n",
      "\n",
      "    def run(self, t):\n",
      "        self.sim.update()\n",
      "        \n",
      "        self.sensor.data.timestamp = t*1e6\n",
      "        self.sensor.data.gyro_rad_s = [0,self.sim.data.pitchspeed,0]\n",
      "        self.sensor.publish()"
     ],
     "language": "python",
     "metadata": {
      "code_folding": []
     },
     "outputs": [],
     "prompt_number": 3
    },
    {
     "cell_type": "code",
     "collapsed": false,
     "input": [
      "class Estimator(PeriodicProcess):\n",
      "\n",
      "    def __init__(self, period, uorb_manager):\n",
      "        super(Estimator, self).__init__(period)\n",
      "        self.uorb_manager = uorb_manager\n",
      "\n",
      "    def initialize(self, t):\n",
      "        super(Estimator, self).initialize(t)\n",
      "        self.pos = uorb.Publication(\n",
      "            self.uorb_manager,\n",
      "            'vehicle_global_position',\n",
      "            uorb.Topic_vehicle_global_position(*((0,)*11)))\n",
      "        self.sensor = uorb.Subscription(\n",
      "            self.uorb_manager,\n",
      "            'sensor_combined')\n",
      "        self.run(t)\n",
      "\n",
      "    def run(self, t):\n",
      "        self.sensor.update()\n",
      "        self.pos.data.timestamp = 1e6*t\n",
      "        self.pos.data.alt = self.sensor.data.gyro_rad_s[1]\n",
      "        self.pos.publish()"
     ],
     "language": "python",
     "metadata": {
      "code_folding": []
     },
     "outputs": [],
     "prompt_number": 4
    },
    {
     "cell_type": "code",
     "collapsed": false,
     "input": [
      "class Controller(PeriodicProcess):\n",
      "\n",
      "    def __init__(self, period, uorb_manager):\n",
      "        super(Controller, self).__init__(period)\n",
      "        self.uorb_manager = uorb_manager\n",
      "\n",
      "    def initialize(self, t):\n",
      "        super(Controller, self).initialize(t)\n",
      "        self.actuators = uorb.Publication(\n",
      "            self.uorb_manager, 'actuator_outputs',\n",
      "            uorb.Topic_actuator_outputs(t*1e6, output=np.array([0,0,0,0,0,0,0,0]).astype(float), noutputs=1))\n",
      "        self.actuators.publish()\n",
      "        \n",
      "        self.pos = uorb.Subscription(\n",
      "            self.uorb_manager, 'vehicle_global_position')\n",
      "        \n",
      "        self.run(t)\n",
      "\n",
      "    def run(self, t):\n",
      "        self.pos.update()\n",
      "        self.actuators.data.timestamp = t*1e6\n",
      "        self.actuators.data.output = [self.pos.data.alt,0,0,0,0,0,0,0]\n",
      "        self.actuators.publish()"
     ],
     "language": "python",
     "metadata": {},
     "outputs": [],
     "prompt_number": 5
    },
    {
     "cell_type": "code",
     "collapsed": false,
     "input": [
      "class Logger(PeriodicProcess):\n",
      "\n",
      "    def __init__(self, period, tf, uorb_manager):\n",
      "        super(Logger, self).__init__(period)\n",
      "        self.uorb_manager = uorb_manager\n",
      "        self.topics = ['sim_state', 'vehicle_global_position', 'sensor_combined', 'actuator_outputs']\n",
      "        self.subs = {}\n",
      "        self.log = {}\n",
      "        self.tf = tf\n",
      "        self.n_t = int(self.tf/self.period) - 1\n",
      "\n",
      "    def initialize(self, t):\n",
      "        super(Logger, self).initialize(t)\n",
      "        for topic in self.topics:\n",
      "            self.subs[topic] = uorb.Subscription(self.uorb_manager, topic)\n",
      "            d = self.subs[topic].data.__dict__\n",
      "            self.log[topic] = {}\n",
      "            for key in d:\n",
      "                self.log[topic][key] = [None]*self.n_t\n",
      "                self.log[topic][key][0] = d[key]\n",
      "        self.count = 0\n",
      "\n",
      "    def run(self, t):\n",
      "        if self.count >= self.n_t - 1:\n",
      "            return\n",
      "        else:\n",
      "            self.count = self.count + 1\n",
      "        for topic in self.subs.keys():\n",
      "            self.subs[topic].update()\n",
      "            d = self.subs[topic].data.__dict__\n",
      "            for field in d.keys():\n",
      "                self.log[topic][field][self.count] = d[field]\n",
      "\n",
      "    def finalize(self):\n",
      "        for topic in self.subs.keys():\n",
      "            d = self.subs[topic].data.__dict__\n",
      "            for field in d.keys():\n",
      "                # truncate unused data\n",
      "                self.log[topic][field] = self.log[topic][field][:self.count]\n",
      "                # try to convert to data type flow, won't work for structs\n",
      "                try:\n",
      "                    self.log[topic][field] = np.array(\n",
      "                        self.log[topic][field]).astype(float)\n",
      "                except:\n",
      "                    pass"
     ],
     "language": "python",
     "metadata": {
      "code_folding": []
     },
     "outputs": [],
     "prompt_number": 6
    },
    {
     "cell_type": "markdown",
     "metadata": {},
     "source": [
      "First we declare the uORB manager and all processes that will be running. Next, we create the scheduler and pass the list or processes to it. Finally, we run the scheudler."
     ]
    },
    {
     "cell_type": "code",
     "collapsed": false,
     "input": [
      "def run_sim():\n",
      "    # constants\n",
      "    tf = 100\n",
      "\n",
      "    # declare uorb manager, by using pointer copying we can avoid\n",
      "    # copying actual data and make it run much faster, however \n",
      "    # we have to becareful doing this with multi-threading\n",
      "    uorb_manager = uorb.Manager(copy_type='pointer')\n",
      "\n",
      "    # dynamics function from sympy\n",
      "    save_file =os.path.join('save', 'pendulum.sympy')\n",
      "    d = load_sympy_expr(save_file)\n",
      "    f_pend, jac_pend = rhs_to_scipy_ode(\n",
      "        d['rhs'], d['t'], d['x_vect'],\n",
      "        d['u_vect'], None, d['m'], d['g'], d['l'])\n",
      "\n",
      "    # declare periodic processes\n",
      "    controller = Controller(0.02, uorb_manager)\n",
      "    estimator = Estimator(0.005, uorb_manager)\n",
      "    dynamics = PendulumDynamics(0.001, [1,0], f_pend, jac_pend,\n",
      "                                uorb_manager)\n",
      "    sensor = Sensor(0.001, uorb_manager)\n",
      "    logger = Logger(0.1, tf, uorb_manager)\n",
      "\n",
      "    # declare scheduler\n",
      "    scheduler = PeriodicScheduler(False, 0, tf, 1.0/1000)\n",
      "    scheduler.process_list = [\n",
      "        dynamics, sensor, estimator, controller, logger]  \n",
      "\n",
      "    # run the scheduler\n",
      "    scheduler.run()\n",
      "    return nested_dict_to_namedtuple(logger.log)"
     ],
     "language": "python",
     "metadata": {},
     "outputs": [],
     "prompt_number": 7
    },
    {
     "cell_type": "code",
     "collapsed": false,
     "input": [
      "stats = %prun -q -r log = run_sim()\n",
      "stats.sort_stats('tottime').print_stats(20);"
     ],
     "language": "python",
     "metadata": {},
     "outputs": [
      {
       "output_type": "stream",
       "stream": "stdout",
       "text": [
        "          3028785 function calls (3026745 primitive calls) in 5.900 seconds\n",
        "\n",
        "   Ordered by: internal time\n",
        "   List reduced from 583 to 20 due to restriction <20>\n",
        "\n",
        "   ncalls  tottime  percall  cumtime  percall filename:lineno(function)\n",
        "    99998    0.705    0.000    2.770    0.000 <ipython-input-2-236233937858>:21(run)\n",
        "    99998    0.688    0.000    0.877    0.000 _ode.py:730(run)\n",
        "   223469    0.642    0.000    0.960    0.000 _base.py:54(publish)\n",
        "   499995    0.609    0.000    5.395    0.000 __init__.py:35(update)\n",
        "        1    0.433    0.433    5.837    5.837 __init__.py:59(run)\n",
        "   223469    0.369    0.000    1.329    0.000 _base.py:113(publish)\n",
        "   127444    0.297    0.000    0.906    0.000 _base.py:97(update)\n",
        "    99999    0.293    0.000    1.588    0.000 <ipython-input-3-929d1237b9ba>:19(run)\n",
        "    99998    0.265    0.000    1.142    0.000 _ode.py:376(integrate)\n",
        "   350917    0.255    0.000    0.255    0.000 _base.py:39(_copy_type)\n",
        "   127448    0.216    0.000    0.309    0.000 _base.py:80(copy)\n",
        "   127444    0.194    0.000    0.301    0.000 _base.py:94(updated)\n",
        "   228570    0.160    0.000    0.160    0.000 {method 'keys' of 'dict' objects}\n",
        "   127444    0.107    0.000    0.107    0.000 _base.py:76(updated)\n",
        "    99998    0.087    0.000    0.087    0.000 _ode.py:395(successful)\n",
        "    99997    0.086    0.000    0.086    0.000 _ode.py:581(check_handle)\n",
        "    99998    0.077    0.000    0.077    0.000 _ode.py:403(set_f_params)\n",
        "    99998    0.075    0.000    0.075    0.000 _ode.py:408(set_jac_params)\n",
        "    99998    0.073    0.000    0.073    0.000 _ode.py:335(y)\n",
        "    18567    0.054    0.000    0.292    0.000 <ipython-input-4-5f5a0ba8aea9>:18(run)\n",
        "\n",
        "\n"
       ]
      }
     ],
     "prompt_number": 8
    },
    {
     "cell_type": "markdown",
     "metadata": {},
     "source": [
      "If we aren't profiling it is much faster."
     ]
    },
    {
     "cell_type": "code",
     "collapsed": false,
     "input": [
      "%%time\n",
      "log = run_sim();"
     ],
     "language": "python",
     "metadata": {},
     "outputs": [
      {
       "output_type": "stream",
       "stream": "stdout",
       "text": [
        "CPU times: user 1.74 s, sys: 3.61 ms, total: 1.75 s\n",
        "Wall time: 1.75 s\n"
       ]
      }
     ],
     "prompt_number": 9
    },
    {
     "cell_type": "markdown",
     "metadata": {},
     "source": [
      "Currently the bottleneck is all the copying in the uorb implementation."
     ]
    },
    {
     "cell_type": "code",
     "collapsed": false,
     "input": [
      "plt.plot(log.vehicle_global_position.timestamp/1e6,\n",
      "         log.vehicle_global_position.alt);"
     ],
     "language": "python",
     "metadata": {},
     "outputs": [
      {
       "metadata": {},
       "output_type": "display_data",
       "png": "[encoded data removed]",
       "text": [
        "<matplotlib.figure.Figure at 0x5790fd0>"
       ]
      }
     ],
     "prompt_number": 10
    },
    {
     "cell_type": "code",
     "collapsed": false,
     "input": [
      "plt.plot(log.actuator_outputs.timestamp/1e6,\n",
      "         log.actuator_outputs.output[:,0]);"
     ],
     "language": "python",
     "metadata": {},
     "outputs": [
      {
       "metadata": {},
       "output_type": "display_data",
       "png": "[encoded data removed]",
       "text": [
        "<matplotlib.figure.Figure at 0x588e290>"
       ]
      }
     ],
     "prompt_number": 11
    }
   ],
   "metadata": {}
  }
 ]
}