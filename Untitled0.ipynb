{
 "metadata": {
  "name": "",
  "signature": "sha256:5889a8ff590f8a7624391c9132a336f8ad9a2f8e483537fcc7ea2de7a9a4c475"
 },
 "nbformat": 3,
 "nbformat_minor": 0,
 "worksheets": []
}